{
 "cells": [
  {
   "cell_type": "code",
   "execution_count": 1,
   "metadata": {},
   "outputs": [
    {
     "name": "stderr",
     "output_type": "stream",
     "text": [
      "/home/bartek/.local/lib/python3.5/site-packages/h5py/__init__.py:36: FutureWarning: Conversion of the second argument of issubdtype from `float` to `np.floating` is deprecated. In future, it will be treated as `np.float64 == np.dtype(float).type`.\n",
      "  from ._conv import register_converters as _register_converters\n",
      "Using TensorFlow backend.\n"
     ]
    }
   ],
   "source": [
    "import numpy\n",
    "import matplotlib.pyplot as plt\n",
    "import pandas\n",
    "import math\n",
    "#from keras.models import Sequential\n",
    "#from keras.layers import Dense,Activation\n",
    "#from keras.layers import LSTM\n",
    "from keras.layers import * # Keras is the most friendly Neural Network library, this Kernel use a lot of layers classes\n",
    "from keras.models import *\n",
    "from keras.engine import Layer\n",
    "from keras.engine import InputSpec\n",
    "from keras.objectives import categorical_crossentropy\n",
    "from keras.objectives import sparse_categorical_crossentropy\n",
    "\n",
    "\n",
    "from sklearn.preprocessing import MinMaxScaler\n",
    "from sklearn.metrics import mean_squared_error"
   ]
  },
  {
   "cell_type": "code",
   "execution_count": 2,
   "metadata": {},
   "outputs": [],
   "source": [
    "# fix random seed for reproducibility\n",
    "numpy.random.seed(7)"
   ]
  },
  {
   "cell_type": "code",
   "execution_count": 224,
   "metadata": {},
   "outputs": [],
   "source": [
    "# https://www.kaggle.com/suicaokhoailang/lstm-attention-baseline-0-652-lb\n",
    "\n",
    "class Attention(Layer):\n",
    "    def __init__(self, step_dim,\n",
    "                 W_regularizer=None, b_regularizer=None,\n",
    "                 W_constraint=None, b_constraint=None,\n",
    "                 bias=True, **kwargs):\n",
    "        self.supports_masking = True\n",
    "        self.init = initializers.get('glorot_uniform')\n",
    "\n",
    "        self.W_regularizer = regularizers.get(W_regularizer)\n",
    "        self.b_regularizer = regularizers.get(b_regularizer)\n",
    "\n",
    "        self.W_constraint = constraints.get(W_constraint)\n",
    "        self.b_constraint = constraints.get(b_constraint)\n",
    "\n",
    "        self.bias = bias\n",
    "        self.step_dim = step_dim\n",
    "        self.features_dim = 0\n",
    "        super(Attention, self).__init__(**kwargs)\n",
    "\n",
    "    def build(self, input_shape):\n",
    "        assert len(input_shape) == 3\n",
    "\n",
    "        self.W = self.add_weight((input_shape[-1],),\n",
    "                                 initializer=self.init,\n",
    "                                 name='{}_W'.format(self.name),\n",
    "                                 regularizer=self.W_regularizer,\n",
    "                                 constraint=self.W_constraint)\n",
    "        self.features_dim = input_shape[-1]\n",
    "\n",
    "        if self.bias:\n",
    "            self.b = self.add_weight((input_shape[1],),\n",
    "                                     initializer='zero',\n",
    "                                     name='{}_b'.format(self.name),\n",
    "                                     regularizer=self.b_regularizer,\n",
    "                                     constraint=self.b_constraint)\n",
    "        else:\n",
    "            self.b = None\n",
    "\n",
    "        self.built = True\n",
    "\n",
    "    def compute_mask(self, input, input_mask=None):\n",
    "        return None\n",
    "\n",
    "    def call(self, x, mask=None):\n",
    "        features_dim = self.features_dim\n",
    "        step_dim = self.step_dim\n",
    "\n",
    "        eij = K.reshape(K.dot(K.reshape(x, (-1, features_dim)),\n",
    "                        K.reshape(self.W, (features_dim, 1))), (-1, step_dim))\n",
    "\n",
    "        if self.bias:\n",
    "            eij += self.b\n",
    "\n",
    "        eij = K.tanh(eij)\n",
    "\n",
    "        a = K.exp(eij)\n",
    "\n",
    "        if mask is not None:\n",
    "            a *= K.cast(mask, K.floatx())\n",
    "\n",
    "        a /= K.cast(K.sum(a, axis=1, keepdims=True) + K.epsilon(), K.floatx())\n",
    "\n",
    "        a = K.expand_dims(a)\n",
    "        weighted_input = x * a\n",
    "        return K.sum(weighted_input, axis=1)\n",
    "\n",
    "    def compute_output_shape(self, input_shape):\n",
    "        return input_shape[0],  self.features_dim"
   ]
  },
  {
   "cell_type": "code",
   "execution_count": 223,
   "metadata": {},
   "outputs": [],
   "source": [
    "#https://github.com/philipperemy/keras-attention-mechanism/blob/master/attention_lstm.py\n",
    "def attention_3d_block(inputs):\n",
    "    # inputs.shape = (batch_size, time_steps, input_dim)\n",
    "    input_dim = int(inputs.shape[2])\n",
    "    a = Permute((2, 1))(inputs)\n",
    "    a = Reshape((input_dim, TIME_STEPS))(a) # this line is not useful. It's just to know which dimension is what.\n",
    "    a = Dense(TIME_STEPS, activation='softmax')(a)\n",
    "    if SINGLE_ATTENTION_VECTOR:\n",
    "        a = Lambda(lambda x: K.mean(x, axis=1), name='dim_reduction')(a)\n",
    "        a = RepeatVector(input_dim)(a)\n",
    "    a_probs = Permute((2, 1), name='attention_vec')(a)\n",
    "    output_attention_mul = merge([inputs, a_probs], name='attention_mul', mode='mul')\n",
    "    return output_attention_mul\n"
   ]
  },
  {
   "cell_type": "code",
   "execution_count": 53,
   "metadata": {},
   "outputs": [],
   "source": [
    "# convert an array of values into a dataset matrix\n",
    "def create_dataset(dataset,windows_size, look_ahead=1):\n",
    "    dataX, dataY = [], []\n",
    "    for i in range(len(dataset)-window_size-look_ahead-1):\n",
    "        a = dataset[i:(i+window_size), 0]\n",
    "        b= dataset[i:(i+window_size),1]\n",
    "        dataX.append((a,b))\n",
    "        dataY.append(dataset[i+window_size + look_ahead-1, 0])\n",
    "    return numpy.array(dataX), numpy.array(dataY)"
   ]
  },
  {
   "cell_type": "code",
   "execution_count": 54,
   "metadata": {},
   "outputs": [
    {
     "data": {
      "image/png": "[encoded data removed]",
      "text/plain": [
       "<Figure size 432x288 with 1 Axes>"
      ]
     },
     "metadata": {},
     "output_type": "display_data"
    }
   ],
   "source": [
    "P1dataset = pandas.read_csv('piec.csv', usecols=[2,3], engine='python', skipfooter=3)\n",
    "#P2dataset= pandas.read_csv('piec.csv', usecols=[2], engine='python', skipfooter=3)\n",
    "plt.plot(P1dataset)\n",
    "#plt.plot(P2dataset)\n",
    "plt.show()"
   ]
  },
  {
   "cell_type": "code",
   "execution_count": null,
   "metadata": {},
   "outputs": [],
   "source": []
  },
  {
   "cell_type": "code",
   "execution_count": 55,
   "metadata": {
    "scrolled": true
   },
   "outputs": [
    {
     "data": {
      "text/html": [
       "<div>\n",
       "<style scoped>\n",
       "    .dataframe tbody tr th:only-of-type {\n",
       "        vertical-align: middle;\n",
       "    }\n",
       "\n",
       "    .dataframe tbody tr th {\n",
       "        vertical-align: top;\n",
       "    }\n",
       "\n",
       "    .dataframe thead th {\n",
       "        text-align: right;\n",
       "    }\n",
       "</style>\n",
       "<table border=\"1\" class=\"dataframe\">\n",
       "  <thead>\n",
       "    <tr style=\"text-align: right;\">\n",
       "      <th></th>\n",
       "      <th>V1</th>\n",
       "      <th>V2</th>\n",
       "    </tr>\n",
       "  </thead>\n",
       "  <tbody>\n",
       "    <tr>\n",
       "      <th>1295</th>\n",
       "      <td>56.75</td>\n",
       "      <td>0.0</td>\n",
       "    </tr>\n",
       "    <tr>\n",
       "      <th>1296</th>\n",
       "      <td>57.25</td>\n",
       "      <td>0.0</td>\n",
       "    </tr>\n",
       "    <tr>\n",
       "      <th>1297</th>\n",
       "      <td>58.75</td>\n",
       "      <td>0.0</td>\n",
       "    </tr>\n",
       "    <tr>\n",
       "      <th>1298</th>\n",
       "      <td>59.50</td>\n",
       "      <td>-0.2</td>\n",
       "    </tr>\n",
       "  </tbody>\n",
       "</table>\n",
       "</div>"
      ],
      "text/plain": [
       "         V1   V2\n",
       "1295  56.75  0.0\n",
       "1296  57.25  0.0\n",
       "1297  58.75  0.0\n",
       "1298  59.50 -0.2"
      ]
     },
     "execution_count": 55,
     "metadata": {},
     "output_type": "execute_result"
    }
   ],
   "source": [
    "P1dataset.tail(4)"
   ]
  },
  {
   "cell_type": "code",
   "execution_count": 56,
   "metadata": {},
   "outputs": [],
   "source": [
    "# normalize the dataset\n",
    "scaler = MinMaxScaler(feature_range=(0, 1))\n",
    "scalerB= MinMaxScaler(feature_range=(0, 1))\n",
    "dataset = scaler.fit_transform(P1dataset)\n",
    "#datasetB = scalerB.fit_transform(P2dataset)\n"
   ]
  },
  {
   "cell_type": "code",
   "execution_count": 57,
   "metadata": {},
   "outputs": [
    {
     "data": {
      "text/plain": [
       "array([[0.        , 0.96226415],\n",
       "       [0.03960396, 0.90566038],\n",
       "       [0.05940594, 1.        ],\n",
       "       ...,\n",
       "       [0.36138614, 0.33962264],\n",
       "       [0.39108911, 0.33962264],\n",
       "       [0.40594059, 0.30188679]])"
      ]
     },
     "execution_count": 57,
     "metadata": {},
     "output_type": "execute_result"
    }
   ],
   "source": [
    "dataset"
   ]
  },
  {
   "cell_type": "code",
   "execution_count": 58,
   "metadata": {},
   "outputs": [
    {
     "data": {
      "image/png": "[encoded data removed]",
      "text/plain": [
       "<Figure size 432x288 with 1 Axes>"
      ]
     },
     "metadata": {},
     "output_type": "display_data"
    }
   ],
   "source": [
    "plt.plot(dataset)\n",
    "#plt.plot(datasetB)\n",
    "plt.show()"
   ]
  },
  {
   "cell_type": "code",
   "execution_count": 59,
   "metadata": {},
   "outputs": [
    {
     "data": {
      "text/plain": [
       "array([[0.        , 0.96226415],\n",
       "       [0.03960396, 0.90566038],\n",
       "       [0.05940594, 1.        ],\n",
       "       ...,\n",
       "       [0.36138614, 0.33962264],\n",
       "       [0.39108911, 0.33962264],\n",
       "       [0.40594059, 0.30188679]])"
      ]
     },
     "execution_count": 59,
     "metadata": {},
     "output_type": "execute_result"
    }
   ],
   "source": [
    "dataset"
   ]
  },
  {
   "cell_type": "code",
   "execution_count": 60,
   "metadata": {},
   "outputs": [
    {
     "name": "stdout",
     "output_type": "stream",
     "text": [
      "870 429\n"
     ]
    }
   ],
   "source": [
    "# split into train and test sets\n",
    "train_size = int(len(dataset) * 0.67)\n",
    "test_size = len(dataset) - train_size\n",
    "train, test = dataset[0:train_size,:], dataset[train_size:len(dataset),:]\n",
    "print(len(train), len(test))"
   ]
  },
  {
   "cell_type": "code",
   "execution_count": 61,
   "metadata": {},
   "outputs": [],
   "source": [
    "# reshape into X=t and Y=t+1\n",
    "look_back = 5\n",
    "window_size=10\n",
    "trainX, trainY = create_dataset(train, window_size,look_back)\n",
    "testX, testY = create_dataset(test, window_size,look_back)"
   ]
  },
  {
   "cell_type": "code",
   "execution_count": 225,
   "metadata": {},
   "outputs": [
    {
     "data": {
      "text/plain": [
       "(413,)"
      ]
     },
     "execution_count": 225,
     "metadata": {},
     "output_type": "execute_result"
    }
   ],
   "source": [
    "testY.shape"
   ]
  },
  {
   "cell_type": "code",
   "execution_count": 226,
   "metadata": {},
   "outputs": [],
   "source": [
    "#trainX[0:8]"
   ]
  },
  {
   "cell_type": "code",
   "execution_count": 227,
   "metadata": {},
   "outputs": [
    {
     "data": {
      "text/plain": [
       "0.20792079207920788"
      ]
     },
     "execution_count": 227,
     "metadata": {},
     "output_type": "execute_result"
    }
   ],
   "source": [
    "trainY[1]"
   ]
  },
  {
   "cell_type": "code",
   "execution_count": 228,
   "metadata": {},
   "outputs": [],
   "source": [
    "# reshape input to be [samples, time steps, features]\n",
    "#trainX = numpy.reshape(trainX, (trainX.shape[0], 1, trainX.shape[1]))\n",
    "#testX = testX.reshape(testX.shape[0],  testX.shape[1],1)\n",
    "#testX = testX.reshape(testX.shape + (1,))\n",
    "#trainX=trainX.reshape(trainX.shape+ (1,))"
   ]
  },
  {
   "cell_type": "code",
   "execution_count": 229,
   "metadata": {},
   "outputs": [],
   "source": [
    "# reshape input to be [samples, time steps, features]\n",
    "# when 1 features\n",
    "#trainX = numpy.reshape(trainX, (trainX.shape[0], 1, trainX.shape[1]))\n",
    "#testX = numpy.reshape(testX, (testX.shape[0], 1, testX.shape[1]))"
   ]
  },
  {
   "cell_type": "code",
   "execution_count": 230,
   "metadata": {},
   "outputs": [
    {
     "data": {
      "text/plain": [
       "(854, 2, 10)"
      ]
     },
     "execution_count": 230,
     "metadata": {},
     "output_type": "execute_result"
    }
   ],
   "source": [
    "trainX.shape\n",
    "#dataset.shape"
   ]
  },
  {
   "cell_type": "code",
   "execution_count": 231,
   "metadata": {},
   "outputs": [
    {
     "data": {
      "text/plain": [
       "array([[0.        , 0.03960396, 0.05940594, 0.07920792],\n",
       "       [0.11386139, 0.12871287, 0.17326733, 0.2029703 ],\n",
       "       [0.23762376, 0.23762376, 0.96226415, 0.90566038],\n",
       "       ...,\n",
       "       [0.32178218, 0.35148515, 0.35849057, 0.39622642],\n",
       "       [0.33962264, 0.39622642, 0.39622642, 0.39622642],\n",
       "       [0.43396226, 0.37735849, 0.41509434, 0.43396226]])"
      ]
     },
     "execution_count": 231,
     "metadata": {},
     "output_type": "execute_result"
    }
   ],
   "source": [
    "trainX.reshape(-1,4)"
   ]
  },
  {
   "cell_type": "code",
   "execution_count": 273,
   "metadata": {
    "scrolled": false
   },
   "outputs": [
    {
     "name": "stdout",
     "output_type": "stream",
     "text": [
      "(854, 2, 10) (854,)\n",
      "Input (?, 2, 10)\n",
      "lstm1 (?, ?, 128)\n",
      "Atten (?, 128)\n",
      "Repeat (?, 2, 64)\n"
     ]
    }
   ],
   "source": [
    "# create and fit the LSTM network\n",
    "print(trainX.shape, trainY.shape)\n",
    "inp = Input(shape=(2, window_size,))\n",
    "print('Input',inp.shape)\n",
    "x = LSTM(128, return_sequences=True)(inp)\n",
    "print('lstm1',x.shape)\n",
    "    # The second LSTM can give more fire power to the model, but can overfit it too\n",
    "#x = LSTM(64, return_sequences=True)(x)\n",
    "#print('lstn',x.shape)\n",
    "    # Attention is a new tecnology that can be applyed to a Recurrent NN to give more meanings to a signal found in the middle\n",
    "    # of the data, it helps more in longs chains of data. A normal RNN give all the responsibility of detect the signal\n",
    "    # to the last cell. Google RNN Attention for more information :)\n",
    "x = Attention(2)(x)\n",
    "print('Atten',x.shape)\n",
    "#x=RepeatVector(2)(x)\n",
    "x=Reshape((2,64))(x)\n",
    "print('Repeat',x.shape)\n",
    "x = LSTM(64,  return_sequences=False)(x)\n",
    "    # A intermediate full connected (Dense) can help to deal with nonlinears outputs\n",
    "x = Dense(64, activation=\"relu\")(x)\n",
    "    # A binnary classification as this must finish with shape (1,)\n",
    "x = Dense(1, activation=\"sigmoid\")(x)\n",
    "model = Model(inputs=inp, outputs=x)\n",
    "\n",
    "#model = Sequential()\n",
    "#model.add(LSTM(4,activation=None ,input_shape=(2,window_size)))\n",
    "#model.add(Dense(1))\n",
    "model.compile(loss='mean_squared_error', optimizer='adam')\n",
    "#model.summary()"
   ]
  },
  {
   "cell_type": "code",
   "execution_count": 281,
   "metadata": {},
   "outputs": [
    {
     "name": "stdout",
     "output_type": "stream",
     "text": [
      "Epoch 1/30\n",
      " - 3s - loss: 0.0032\n",
      "Epoch 2/30\n",
      " - 3s - loss: 0.0030\n",
      "Epoch 3/30\n",
      " - 2s - loss: 0.0028\n",
      "Epoch 4/30\n",
      " - 3s - loss: 0.0029\n",
      "Epoch 5/30\n",
      " - 3s - loss: 0.0027\n",
      "Epoch 6/30\n",
      " - 2s - loss: 0.0027\n",
      "Epoch 7/30\n",
      " - 2s - loss: 0.0026\n",
      "Epoch 8/30\n",
      " - 2s - loss: 0.0024\n",
      "Epoch 9/30\n",
      " - 2s - loss: 0.0024\n",
      "Epoch 10/30\n",
      " - 2s - loss: 0.0028\n",
      "Epoch 11/30\n",
      " - 2s - loss: 0.0024\n",
      "Epoch 12/30\n",
      " - 2s - loss: 0.0023\n",
      "Epoch 13/30\n",
      " - 2s - loss: 0.0024\n",
      "Epoch 14/30\n",
      " - 2s - loss: 0.0025\n",
      "Epoch 15/30\n",
      " - 3s - loss: 0.0023\n",
      "Epoch 16/30\n",
      " - 3s - loss: 0.0022\n",
      "Epoch 17/30\n",
      " - 2s - loss: 0.0022\n",
      "Epoch 18/30\n",
      " - 2s - loss: 0.0022\n",
      "Epoch 19/30\n",
      " - 2s - loss: 0.0022\n",
      "Epoch 20/30\n",
      " - 2s - loss: 0.0020\n",
      "Epoch 21/30\n",
      " - 2s - loss: 0.0022\n",
      "Epoch 22/30\n",
      " - 2s - loss: 0.0022\n",
      "Epoch 23/30\n",
      " - 3s - loss: 0.0020\n",
      "Epoch 24/30\n",
      " - 3s - loss: 0.0021\n",
      "Epoch 25/30\n",
      " - 3s - loss: 0.0019\n",
      "Epoch 26/30\n",
      " - 3s - loss: 0.0020\n",
      "Epoch 27/30\n",
      " - 3s - loss: 0.0020\n",
      "Epoch 28/30\n",
      " - 3s - loss: 0.0021\n",
      "Epoch 29/30\n",
      " - 3s - loss: 0.0019\n",
      "Epoch 30/30\n",
      " - 3s - loss: 0.0019\n"
     ]
    },
    {
     "data": {
      "text/plain": [
       "<keras.callbacks.History at 0x7fe9ab8b0f28>"
      ]
     },
     "execution_count": 281,
     "metadata": {},
     "output_type": "execute_result"
    }
   ],
   "source": [
    "model.fit(trainX, trainY, epochs=30, batch_size=1, verbose=2)"
   ]
  },
  {
   "cell_type": "code",
   "execution_count": 282,
   "metadata": {},
   "outputs": [
    {
     "data": {
      "text/plain": [
       "array([0.30703232], dtype=float32)"
      ]
     },
     "execution_count": 282,
     "metadata": {},
     "output_type": "execute_result"
    }
   ],
   "source": [
    "# make predictions\n",
    "trainPredict = model.predict(trainX)\n",
    "testPredict = model.predict(testX)\n",
    "trainPredict[0]"
   ]
  },
  {
   "cell_type": "code",
   "execution_count": 283,
   "metadata": {},
   "outputs": [
    {
     "data": {
      "text/plain": [
       "array([[0.49009901],\n",
       "       [0.49009901],\n",
       "       [0.46534653],\n",
       "       [0.45049505],\n",
       "       [0.42574257],\n",
       "       [0.40594059],\n",
       "       [0.40594059],\n",
       "       [0.3960396 ],\n",
       "       [0.38613861]])"
      ]
     },
     "execution_count": 283,
     "metadata": {},
     "output_type": "execute_result"
    }
   ],
   "source": [
    "#trainPredict.reshape(-1)\n",
    "#trainPb = numpy.append(trainPredict,numpy.zeros([len(trainPredict),1]),1)\n",
    "#trainYb=numpy.append(trainY,numpy.zeros([len(trainY),1]),0)\n",
    "#testPredict.reshape(-1)\n",
    "trainYY=trainY.reshape(trainY.shape+(1,))\n",
    "testYY=testY.reshape(testY.shape+(1,))\n",
    "testYY[1:10]\n"
   ]
  },
  {
   "cell_type": "code",
   "execution_count": 284,
   "metadata": {},
   "outputs": [
    {
     "data": {
      "text/plain": [
       "array([[-0.0160926 ],\n",
       "       [-0.02419766],\n",
       "       [-0.00250654],\n",
       "       [-0.00737534],\n",
       "       [ 0.00529151],\n",
       "       [ 0.00910061],\n",
       "       [ 0.00576705],\n",
       "       [-0.00795251],\n",
       "       [-0.01742911]])"
      ]
     },
     "execution_count": 284,
     "metadata": {},
     "output_type": "execute_result"
    }
   ],
   "source": [
    "#x=[trainY,trainY]\n",
    "#yy= scaler.inverse_transform(x)\n",
    "testPredictA=testPredict-testYY\n",
    "testPredictA[1:10]"
   ]
  },
  {
   "cell_type": "code",
   "execution_count": 285,
   "metadata": {},
   "outputs": [],
   "source": [
    "# convert an array of values into a dataset matrix\n",
    "def inverse_dataset(_scaler,dset):\n",
    "    x=numpy.append(dset,dset,1)\n",
    "    yy= _scaler.inverse_transform(x)\n",
    "    return yy[:,0]"
   ]
  },
  {
   "cell_type": "code",
   "execution_count": 286,
   "metadata": {},
   "outputs": [],
   "source": [
    "# invert predictions\n",
    "trainSPredict = inverse_dataset(scaler,trainPredict)\n",
    "trainSY = inverse_dataset(scaler,trainYY)\n",
    "#trainSPredict\n",
    "#testPredict = inverse_dataset(testPredict)\n",
    "#testY = inverse_dataset([testY])"
   ]
  },
  {
   "cell_type": "code",
   "execution_count": 287,
   "metadata": {},
   "outputs": [
    {
     "name": "stdout",
     "output_type": "stream",
     "text": [
      "Train Score: 0.03947 RMSE\n",
      "Train SScore: 1.99309 RMSE\n",
      "Test Score: 0.050 RMSE\n"
     ]
    }
   ],
   "source": [
    "# calculate root mean squared error\n",
    "wws=window_size+look_back-1\n",
    "#trainScore = math.sqrt(mean_squared_error(dataset[wws:len(trainY)+wws,0], trainY))\n",
    "trainScore = math.sqrt(mean_squared_error( trainY,trainPredict))\n",
    "print('Train Score: %.5f RMSE' % (trainScore))\n",
    "trainSScore = math.sqrt(mean_squared_error(trainSY, trainSPredict))\n",
    "print('Train SScore: %.5f RMSE' % (trainSScore))\n",
    "testScore = math.sqrt(mean_squared_error(testYY, testPredict))\n",
    "print('Test Score: %.3f RMSE' % (testScore))"
   ]
  },
  {
   "cell_type": "code",
   "execution_count": 288,
   "metadata": {},
   "outputs": [],
   "source": [
    "import datetime\n",
    "\n",
    "with open('lstmpiec.log','a') as f:\n",
    "    f.write(\"%s piecAtt: train %.5f  test %.3f  RSME dataset %s\\n\" %\n",
    "         ( datetime.datetime.now(),trainScore, testScore,dataset.shape))\n",
    "\n",
    "#tf.summary.scalar('Test_score_RMSE', testScore)\n"
   ]
  },
  {
   "cell_type": "code",
   "execution_count": 294,
   "metadata": {},
   "outputs": [
    {
     "data": {
      "image/png": "[encoded data removed]",
      "text/plain": [
       "<Figure size 1080x216 with 1 Axes>"
      ]
     },
     "metadata": {},
     "output_type": "display_data"
    }
   ],
   "source": [
    "# shift train predictions for plotting\n",
    "trainPredictPlot = numpy.empty_like(dataset)\n",
    "trainPredictPlot[:, :] = numpy.nan\n",
    "wws=window_size+look_back;\n",
    "trainPredictPlot[wws:len(trainPredict)+wws, :] = trainPredict\n",
    "# shift test predictions for plotting\n",
    "testPredictPlot = numpy.empty_like(dataset)\n",
    "testPredictPlot[:, :] = numpy.nan\n",
    "testPredictPlot[len(trainPredict)+wws+1:len(dataset)-window_size-look_back-1, :] = testPredict\n",
    "\n",
    "testSourcePlot = numpy.empty_like(dataset)\n",
    "testSourcePlot[:, :] = numpy.nan\n",
    "testSourcePlot[len(trainPredict)+wws+1:len(dataset)-window_size-look_back-1, :] = testYY\n",
    "\n",
    "diffPlot=testYY-testPredict\n",
    "diffPredictPlot = numpy.empty_like(dataset)\n",
    "diffPredictPlot[:, :] = numpy.nan\n",
    "diffPredictPlot[len(trainPredict)+wws+1:len(dataset)-window_size-look_back-1, :] = diffPlot\n",
    "# plot baseline and predictions\n",
    "\n",
    "fig, ax1 = plt.subplots(figsize=(15,3))\n",
    "#ax2 = ax1.twinx()\n",
    "#ax1.plot(scaler.inverse_transform(dataset),label=\"set\")\n",
    "ax1.plot(testPredictPlot,label=\"train\")\n",
    "ax1.plot(testSourcePlot,label=\"test\")\n",
    "ax1.plot(diffPredictPlot,label=\"diff\")\n",
    "plt.legend()\n",
    "plt.show()"
   ]
  },
  {
   "cell_type": "code",
   "execution_count": 47,
   "metadata": {},
   "outputs": [
    {
     "data": {
      "text/plain": [
       "array([[nan, nan],\n",
       "       [nan, nan],\n",
       "       [nan, nan],\n",
       "       ...,\n",
       "       [nan, nan],\n",
       "       [nan, nan],\n",
       "       [nan, nan]])"
      ]
     },
     "execution_count": 47,
     "metadata": {},
     "output_type": "execute_result"
    }
   ],
   "source": [
    "testPredictPlot"
   ]
  },
  {
   "cell_type": "code",
   "execution_count": null,
   "metadata": {},
   "outputs": [],
   "source": []
  }
 ],
 "metadata": {
  "kernelspec": {
   "display_name": "Python 3",
   "language": "python",
   "name": "python3"
  },
  "language_info": {
   "codemirror_mode": {
    "name": "ipython",
    "version": 3
   },
   "file_extension": ".py",
   "mimetype": "text/x-python",
   "name": "python",
   "nbconvert_exporter": "python",
   "pygments_lexer": "ipython3",
   "version": "3.5.2"
  }
 },
 "nbformat": 4,
 "nbformat_minor": 2
}
