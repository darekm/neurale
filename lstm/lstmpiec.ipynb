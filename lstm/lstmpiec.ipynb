{
 "cells": [
  {
   "cell_type": "code",
   "execution_count": 1,
   "metadata": {},
   "outputs": [
    {
     "name": "stderr",
     "output_type": "stream",
     "text": [
      "/home/bartek/.local/lib/python3.5/site-packages/h5py/__init__.py:36: FutureWarning: Conversion of the second argument of issubdtype from `float` to `np.floating` is deprecated. In future, it will be treated as `np.float64 == np.dtype(float).type`.\n",
      "  from ._conv import register_converters as _register_converters\n",
      "Using TensorFlow backend.\n"
     ]
    }
   ],
   "source": [
    "import numpy\n",
    "import matplotlib.pyplot as plt\n",
    "import pandas\n",
    "import math\n",
    "from keras.models import Sequential\n",
    "from keras.layers import Dense\n",
    "from keras.layers import LSTM\n",
    "from sklearn.preprocessing import MinMaxScaler\n",
    "from sklearn.metrics import mean_squared_error"
   ]
  },
  {
   "cell_type": "code",
   "execution_count": 2,
   "metadata": {},
   "outputs": [],
   "source": [
    "# fix random seed for reproducibility\n",
    "numpy.random.seed(7)"
   ]
  },
  {
   "cell_type": "code",
   "execution_count": 3,
   "metadata": {},
   "outputs": [],
   "source": [
    "import types\n",
    "\n",
    "class A:    \n",
    "    def meth1(self, par1):\n",
    "        print(\"in A.meth1: par1 =\", par1)\n",
    "\n",
    "a = A()\n",
    "s = '''def meth1(self, par1):\n",
    "    print(\"in recompiled A.meth1: par1 = \", par1)'''"
   ]
  },
  {
   "cell_type": "code",
   "execution_count": 4,
   "metadata": {},
   "outputs": [],
   "source": [
    "def compileUnit(source):\n",
    "        # compile code\n",
    "        foo_code = compile(source, \"<string>\", \"exec\")\n",
    "        foo_ns = {}\n",
    "        exec(foo_code,foo_ns)\n",
    "        return  types.MethodType(foo_ns[\"meth1\"], A)\n",
    "\n",
    "        "
   ]
  },
  {
   "cell_type": "code",
   "execution_count": 5,
   "metadata": {},
   "outputs": [
    {
     "name": "stdout",
     "output_type": "stream",
     "text": [
      "in recompiled A.meth1: par1 =  avb\n"
     ]
    }
   ],
   "source": [
    "a.meth1=compileUnit(s)\n",
    "a.meth1('avb')"
   ]
  },
  {
   "cell_type": "code",
   "execution_count": 7,
   "metadata": {},
   "outputs": [
    {
     "ename": "NameError",
     "evalue": "name 'code' is not defined",
     "output_type": "error",
     "traceback": [
      "\u001b[0;31m---------------------------------------------------------------------------\u001b[0m",
      "\u001b[0;31mNameError\u001b[0m                                 Traceback (most recent call last)",
      "\u001b[0;32m<ipython-input-7-f16d0035080f>\u001b[0m in \u001b[0;36m<module>\u001b[0;34m()\u001b[0m\n\u001b[1;32m      2\u001b[0m \u001b[0;34m\u001b[0m\u001b[0m\n\u001b[1;32m      3\u001b[0m \u001b[0;31m#environment = {}\u001b[0m\u001b[0;34m\u001b[0m\u001b[0;34m\u001b[0m\u001b[0m\n\u001b[0;32m----> 4\u001b[0;31m \u001b[0mexec\u001b[0m\u001b[0;34m(\u001b[0m\u001b[0mcode\u001b[0m\u001b[0;34m,\u001b[0m \u001b[0menvironment\u001b[0m\u001b[0;34m)\u001b[0m\u001b[0;34m\u001b[0m\u001b[0m\n\u001b[0m\u001b[1;32m      5\u001b[0m \u001b[0ma\u001b[0m\u001b[0;34m.\u001b[0m\u001b[0mmeth1\u001b[0m \u001b[0;34m=\u001b[0m \u001b[0mtypes\u001b[0m\u001b[0;34m.\u001b[0m\u001b[0mMethodType\u001b[0m\u001b[0;34m(\u001b[0m\u001b[0menvironment\u001b[0m\u001b[0;34m[\u001b[0m\u001b[0;34m\"meth1\"\u001b[0m\u001b[0;34m]\u001b[0m\u001b[0;34m,\u001b[0m \u001b[0mA\u001b[0m\u001b[0;34m)\u001b[0m\u001b[0;34m\u001b[0m\u001b[0m\n",
      "\u001b[0;31mNameError\u001b[0m: name 'code' is not defined"
     ]
    }
   ],
   "source": [
    "#code = compile(s, __file__, \"exec\")\n",
    "\n",
    "#environment = {}\n",
    "exec(code, environment)\n",
    "a.meth1 = types.MethodType(environment[\"meth1\"], A)"
   ]
  },
  {
   "cell_type": "code",
   "execution_count": 8,
   "metadata": {},
   "outputs": [],
   "source": [
    "# convert an array of values into a dataset matrix\n",
    "def create_dataset(dataset, look_back=1):\n",
    "    dataX, dataY = [], []\n",
    "    for i in range(len(dataset)-look_back-1):\n",
    "        a = dataset[i:(i+look_back), 0]\n",
    "        dataX.append(a)\n",
    "        dataY.append(dataset[i + look_back, 0])\n",
    "    return numpy.array(dataX), numpy.array(dataY)"
   ]
  },
  {
   "cell_type": "code",
   "execution_count": 9,
   "metadata": {},
   "outputs": [
    {
     "data": {
      "image/png": "[encoded data removed]",
      "text/plain": [
       "<Figure size 432x288 with 1 Axes>"
      ]
     },
     "metadata": {},
     "output_type": "display_data"
    }
   ],
   "source": [
    "Pdataset = pandas.read_csv('piecFake.csv', usecols=[2,3], engine='python', skipfooter=3)\n",
    "plt.plot(Pdataset)\n",
    "plt.show()"
   ]
  },
  {
   "cell_type": "code",
   "execution_count": 11,
   "metadata": {},
   "outputs": [
    {
     "data": {
      "text/html": [
       "<div>\n",
       "<style scoped>\n",
       "    .dataframe tbody tr th:only-of-type {\n",
       "        vertical-align: middle;\n",
       "    }\n",
       "\n",
       "    .dataframe tbody tr th {\n",
       "        vertical-align: top;\n",
       "    }\n",
       "\n",
       "    .dataframe thead th {\n",
       "        text-align: right;\n",
       "    }\n",
       "</style>\n",
       "<table border=\"1\" class=\"dataframe\">\n",
       "  <thead>\n",
       "    <tr style=\"text-align: right;\">\n",
       "      <th></th>\n",
       "      <th>C1</th>\n",
       "      <th>C2</th>\n",
       "    </tr>\n",
       "  </thead>\n",
       "  <tbody>\n",
       "    <tr>\n",
       "      <th>4993</th>\n",
       "      <td>88.9592</td>\n",
       "      <td>19.1423</td>\n",
       "    </tr>\n",
       "    <tr>\n",
       "      <th>4994</th>\n",
       "      <td>88.4196</td>\n",
       "      <td>19.1455</td>\n",
       "    </tr>\n",
       "    <tr>\n",
       "      <th>4995</th>\n",
       "      <td>87.8811</td>\n",
       "      <td>19.1487</td>\n",
       "    </tr>\n",
       "    <tr>\n",
       "      <th>4996</th>\n",
       "      <td>87.3436</td>\n",
       "      <td>19.1519</td>\n",
       "    </tr>\n",
       "  </tbody>\n",
       "</table>\n",
       "</div>"
      ],
      "text/plain": [
       "           C1       C2\n",
       "4993  88.9592  19.1423\n",
       "4994  88.4196  19.1455\n",
       "4995  87.8811  19.1487\n",
       "4996  87.3436  19.1519"
      ]
     },
     "execution_count": 11,
     "metadata": {},
     "output_type": "execute_result"
    }
   ],
   "source": [
    "Pdataset.tail(4)"
   ]
  },
  {
   "cell_type": "code",
   "execution_count": 12,
   "metadata": {},
   "outputs": [],
   "source": [
    "# normalize the dataset\n",
    "scaler = MinMaxScaler(feature_range=(0, 1))\n",
    "dataset = scaler.fit_transform(Pdataset)"
   ]
  },
  {
   "cell_type": "code",
   "execution_count": 13,
   "metadata": {},
   "outputs": [
    {
     "data": {
      "image/png": "[encoded data removed]",
      "text/plain": [
       "<Figure size 432x288 with 1 Axes>"
      ]
     },
     "metadata": {},
     "output_type": "display_data"
    }
   ],
   "source": [
    "plt.plot(dataset)\n",
    "plt.show()"
   ]
  },
  {
   "cell_type": "code",
   "execution_count": 14,
   "metadata": {},
   "outputs": [
    {
     "data": {
      "text/plain": [
       "array([[0.        , 0.4187061 ],\n",
       "       [0.00571452, 0.42075406],\n",
       "       [0.01141903, 0.42280202],\n",
       "       ...,\n",
       "       [0.9736963 , 0.24165967],\n",
       "       [0.96598771, 0.24231502],\n",
       "       [0.95829343, 0.24297037]])"
      ]
     },
     "execution_count": 14,
     "metadata": {},
     "output_type": "execute_result"
    }
   ],
   "source": [
    "dataset"
   ]
  },
  {
   "cell_type": "code",
   "execution_count": 15,
   "metadata": {},
   "outputs": [
    {
     "name": "stdout",
     "output_type": "stream",
     "text": [
      "3347 1650\n"
     ]
    }
   ],
   "source": [
    "# split into train and test sets\n",
    "train_size = int(len(dataset) * 0.67)\n",
    "test_size = len(dataset) - train_size\n",
    "train, test = dataset[0:train_size,:], dataset[train_size:len(dataset),:]\n",
    "print(len(train), len(test))"
   ]
  },
  {
   "cell_type": "code",
   "execution_count": 16,
   "metadata": {},
   "outputs": [],
   "source": [
    "# reshape into X=t and Y=t+1\n",
    "look_back = 20\n",
    "trainX, trainY = create_dataset(train, look_back)\n",
    "testX, testY = create_dataset(test, look_back)"
   ]
  },
  {
   "cell_type": "code",
   "execution_count": 17,
   "metadata": {},
   "outputs": [],
   "source": [
    "# reshape input to be [samples, time steps, features]\n",
    "trainX = numpy.reshape(trainX, (trainX.shape[0], 1, trainX.shape[1]))\n",
    "testX = numpy.reshape(testX, (testX.shape[0], 1, testX.shape[1]))"
   ]
  },
  {
   "cell_type": "code",
   "execution_count": 18,
   "metadata": {},
   "outputs": [
    {
     "data": {
      "text/plain": [
       "(4997, 2)"
      ]
     },
     "execution_count": 18,
     "metadata": {},
     "output_type": "execute_result"
    }
   ],
   "source": [
    "trainX.shape\n",
    "dataset.shape"
   ]
  },
  {
   "cell_type": "code",
   "execution_count": 19,
   "metadata": {},
   "outputs": [
    {
     "data": {
      "text/plain": [
       "array([[0.        , 0.00571452, 0.01141903, 0.01711064],\n",
       "       [0.02279224, 0.02846239, 0.03412252, 0.03976976],\n",
       "       [0.04540841, 0.05103418, 0.05664993, 0.06225423],\n",
       "       ...,\n",
       "       [0.83966268, 0.84366084, 0.84765185, 0.85163426],\n",
       "       [0.85560952, 0.85957619, 0.86353427, 0.86748519],\n",
       "       [0.87142753, 0.87536127, 0.87928786, 0.88320729]])"
      ]
     },
     "execution_count": 19,
     "metadata": {},
     "output_type": "execute_result"
    }
   ],
   "source": [
    "trainX.reshape(-1,4)"
   ]
  },
  {
   "cell_type": "code",
   "execution_count": 20,
   "metadata": {},
   "outputs": [
    {
     "name": "stdout",
     "output_type": "stream",
     "text": [
      "Epoch 1/100\n",
      " - 5s - loss: 0.0068\n",
      "Epoch 2/100\n",
      " - 3s - loss: 2.5286e-04\n",
      "Epoch 3/100\n",
      " - 3s - loss: 2.0546e-04\n",
      "Epoch 4/100\n",
      " - 3s - loss: 1.6079e-04\n",
      "Epoch 5/100\n",
      " - 3s - loss: 1.4271e-04\n",
      "Epoch 6/100\n",
      " - 3s - loss: 1.2373e-04\n",
      "Epoch 7/100\n",
      " - 3s - loss: 1.1275e-04\n",
      "Epoch 8/100\n",
      " - 3s - loss: 9.6630e-05\n",
      "Epoch 9/100\n",
      " - 3s - loss: 8.0333e-05\n",
      "Epoch 10/100\n",
      " - 3s - loss: 7.4736e-05\n",
      "Epoch 11/100\n",
      " - 3s - loss: 7.0087e-05\n",
      "Epoch 12/100\n",
      " - 3s - loss: 6.4692e-05\n",
      "Epoch 13/100\n",
      " - 3s - loss: 5.8226e-05\n",
      "Epoch 14/100\n",
      " - 3s - loss: 5.5328e-05\n",
      "Epoch 15/100\n",
      " - 3s - loss: 5.1281e-05\n",
      "Epoch 16/100\n",
      " - 3s - loss: 5.0420e-05\n",
      "Epoch 17/100\n",
      " - 3s - loss: 4.9077e-05\n",
      "Epoch 18/100\n",
      " - 3s - loss: 4.8763e-05\n",
      "Epoch 19/100\n",
      " - 3s - loss: 4.1202e-05\n",
      "Epoch 20/100\n",
      " - 3s - loss: 4.1119e-05\n",
      "Epoch 21/100\n",
      " - 3s - loss: 3.9348e-05\n",
      "Epoch 22/100\n",
      " - 3s - loss: 3.7259e-05\n",
      "Epoch 23/100\n",
      " - 3s - loss: 4.0697e-05\n",
      "Epoch 24/100\n",
      " - 3s - loss: 3.8112e-05\n",
      "Epoch 25/100\n",
      " - 3s - loss: 3.6878e-05\n",
      "Epoch 26/100\n",
      " - 3s - loss: 3.5173e-05\n",
      "Epoch 27/100\n",
      " - 3s - loss: 3.5528e-05\n",
      "Epoch 28/100\n",
      " - 3s - loss: 3.7589e-05\n",
      "Epoch 29/100\n",
      " - 3s - loss: 3.3715e-05\n",
      "Epoch 30/100\n",
      " - 3s - loss: 3.8330e-05\n",
      "Epoch 31/100\n",
      " - 3s - loss: 3.2181e-05\n",
      "Epoch 32/100\n",
      " - 3s - loss: 3.4375e-05\n",
      "Epoch 33/100\n",
      " - 3s - loss: 3.4271e-05\n",
      "Epoch 34/100\n",
      " - 3s - loss: 3.4399e-05\n",
      "Epoch 35/100\n",
      " - 3s - loss: 3.5369e-05\n",
      "Epoch 36/100\n",
      " - 3s - loss: 3.4824e-05\n",
      "Epoch 37/100\n",
      " - 3s - loss: 3.2951e-05\n",
      "Epoch 38/100\n",
      " - 3s - loss: 3.0717e-05\n",
      "Epoch 39/100\n",
      " - 3s - loss: 3.0031e-05\n",
      "Epoch 40/100\n",
      " - 3s - loss: 3.3829e-05\n",
      "Epoch 41/100\n",
      " - 3s - loss: 3.2942e-05\n",
      "Epoch 42/100\n",
      " - 3s - loss: 2.8821e-05\n",
      "Epoch 43/100\n",
      " - 3s - loss: 3.2717e-05\n",
      "Epoch 44/100\n",
      " - 3s - loss: 2.7100e-05\n",
      "Epoch 45/100\n",
      " - 3s - loss: 2.6969e-05\n",
      "Epoch 46/100\n",
      " - 3s - loss: 2.6067e-05\n",
      "Epoch 47/100\n",
      " - 3s - loss: 2.5855e-05\n",
      "Epoch 48/100\n",
      " - 3s - loss: 2.7109e-05\n",
      "Epoch 49/100\n",
      " - 3s - loss: 2.4847e-05\n",
      "Epoch 50/100\n",
      " - 3s - loss: 2.6290e-05\n",
      "Epoch 51/100\n",
      " - 3s - loss: 2.5665e-05\n",
      "Epoch 52/100\n",
      " - 3s - loss: 2.5408e-05\n",
      "Epoch 53/100\n",
      " - 3s - loss: 2.7413e-05\n",
      "Epoch 54/100\n",
      " - 3s - loss: 2.3302e-05\n",
      "Epoch 55/100\n",
      " - 3s - loss: 2.4717e-05\n",
      "Epoch 56/100\n",
      " - 3s - loss: 2.5286e-05\n",
      "Epoch 57/100\n",
      " - 3s - loss: 2.5150e-05\n",
      "Epoch 58/100\n",
      " - 3s - loss: 2.6790e-05\n",
      "Epoch 59/100\n",
      " - 3s - loss: 2.3255e-05\n",
      "Epoch 60/100\n",
      " - 3s - loss: 2.1587e-05\n",
      "Epoch 61/100\n",
      " - 3s - loss: 2.4053e-05\n",
      "Epoch 62/100\n",
      " - 3s - loss: 2.3736e-05\n",
      "Epoch 63/100\n",
      " - 3s - loss: 2.4207e-05\n",
      "Epoch 64/100\n",
      " - 3s - loss: 2.3801e-05\n",
      "Epoch 65/100\n",
      " - 3s - loss: 2.2992e-05\n",
      "Epoch 66/100\n",
      " - 3s - loss: 2.1886e-05\n",
      "Epoch 67/100\n",
      " - 3s - loss: 2.5641e-05\n",
      "Epoch 68/100\n",
      " - 3s - loss: 2.2670e-05\n",
      "Epoch 69/100\n",
      " - 3s - loss: 2.3174e-05\n",
      "Epoch 70/100\n",
      " - 3s - loss: 2.3331e-05\n",
      "Epoch 71/100\n",
      " - 3s - loss: 2.3233e-05\n",
      "Epoch 72/100\n",
      " - 3s - loss: 2.2480e-05\n",
      "Epoch 73/100\n",
      " - 3s - loss: 2.2140e-05\n",
      "Epoch 74/100\n",
      " - 3s - loss: 2.1942e-05\n",
      "Epoch 75/100\n",
      " - 3s - loss: 2.5220e-05\n",
      "Epoch 76/100\n",
      " - 3s - loss: 2.1787e-05\n",
      "Epoch 77/100\n",
      " - 3s - loss: 2.2616e-05\n",
      "Epoch 78/100\n",
      " - 3s - loss: 2.0145e-05\n",
      "Epoch 79/100\n",
      " - 3s - loss: 2.2036e-05\n",
      "Epoch 80/100\n",
      " - 3s - loss: 2.1676e-05\n",
      "Epoch 81/100\n",
      " - 3s - loss: 2.3021e-05\n",
      "Epoch 82/100\n",
      " - 3s - loss: 2.0875e-05\n",
      "Epoch 83/100\n",
      " - 3s - loss: 1.9962e-05\n",
      "Epoch 84/100\n",
      " - 3s - loss: 2.1034e-05\n",
      "Epoch 85/100\n",
      " - 3s - loss: 2.0001e-05\n",
      "Epoch 86/100\n",
      " - 3s - loss: 2.1722e-05\n",
      "Epoch 87/100\n",
      " - 3s - loss: 2.1272e-05\n",
      "Epoch 88/100\n",
      " - 3s - loss: 2.1314e-05\n",
      "Epoch 89/100\n",
      " - 3s - loss: 2.1797e-05\n",
      "Epoch 90/100\n",
      " - 3s - loss: 2.1443e-05\n",
      "Epoch 91/100\n",
      " - 3s - loss: 2.0781e-05\n",
      "Epoch 92/100\n",
      " - 3s - loss: 1.9633e-05\n",
      "Epoch 93/100\n",
      " - 3s - loss: 1.9915e-05\n",
      "Epoch 94/100\n",
      " - 3s - loss: 1.9815e-05\n",
      "Epoch 95/100\n",
      " - 3s - loss: 2.0202e-05\n",
      "Epoch 96/100\n",
      " - 3s - loss: 2.0995e-05\n",
      "Epoch 97/100\n",
      " - 3s - loss: 1.9693e-05\n",
      "Epoch 98/100\n",
      " - 3s - loss: 1.9237e-05\n",
      "Epoch 99/100\n",
      " - 3s - loss: 2.0760e-05\n",
      "Epoch 100/100\n",
      " - 3s - loss: 1.8069e-05\n"
     ]
    },
    {
     "data": {
      "text/plain": [
       "<keras.callbacks.History at 0x7facdaf4dfd0>"
      ]
     },
     "execution_count": 20,
     "metadata": {},
     "output_type": "execute_result"
    }
   ],
   "source": [
    "# create and fit the LSTM network\n",
    "model = Sequential()\n",
    "model.add(LSTM(4, input_shape=(1, look_back)))\n",
    "model.add(Dense(1))\n",
    "model.compile(loss='mean_squared_error', optimizer='adam')\n",
    "model.fit(trainX, trainY, epochs=50, batch_size=1, verbose=2)"
   ]
  },
  {
   "cell_type": "code",
   "execution_count": 21,
   "metadata": {},
   "outputs": [],
   "source": [
    "# make predictions\n",
    "trainPredict = model.predict(trainX)\n",
    "testPredict = model.predict(testX)"
   ]
  },
  {
   "cell_type": "code",
   "execution_count": 22,
   "metadata": {},
   "outputs": [
    {
     "data": {
      "text/plain": [
       "array([[0.11161289],\n",
       "       [0.11659296],\n",
       "       [0.12161915],\n",
       "       ...,\n",
       "       [0.87988377],\n",
       "       [0.8838012 ],\n",
       "       [0.8877031 ]], dtype=float32)"
      ]
     },
     "execution_count": 22,
     "metadata": {},
     "output_type": "execute_result"
    }
   ],
   "source": [
    "trainPredict"
   ]
  },
  {
   "cell_type": "raw",
   "metadata": {},
   "source": []
  },
  {
   "cell_type": "code",
   "execution_count": 23,
   "metadata": {},
   "outputs": [
    {
     "data": {
      "text/plain": [
       "MinMaxScaler(copy=True, feature_range=(0, 1))"
      ]
     },
     "execution_count": 23,
     "metadata": {},
     "output_type": "execute_result"
    }
   ],
   "source": [
    "scaler"
   ]
  },
  {
   "cell_type": "code",
   "execution_count": 24,
   "metadata": {},
   "outputs": [
    {
     "ename": "ValueError",
     "evalue": "non-broadcastable output operand with shape (3326,1) doesn't match the broadcast shape (3326,2)",
     "output_type": "error",
     "traceback": [
      "\u001b[0;31m---------------------------------------------------------------------------\u001b[0m",
      "\u001b[0;31mValueError\u001b[0m                                Traceback (most recent call last)",
      "\u001b[0;32m<ipython-input-24-28ac1d8c3091>\u001b[0m in \u001b[0;36m<module>\u001b[0;34m()\u001b[0m\n\u001b[1;32m      1\u001b[0m \u001b[0;31m# invert predictions\u001b[0m\u001b[0;34m\u001b[0m\u001b[0;34m\u001b[0m\u001b[0m\n\u001b[0;32m----> 2\u001b[0;31m \u001b[0mtrainPredict\u001b[0m \u001b[0;34m=\u001b[0m \u001b[0mscaler\u001b[0m\u001b[0;34m.\u001b[0m\u001b[0minverse_transform\u001b[0m\u001b[0;34m(\u001b[0m\u001b[0mtrainPredict\u001b[0m\u001b[0;34m)\u001b[0m\u001b[0;34m\u001b[0m\u001b[0m\n\u001b[0m\u001b[1;32m      3\u001b[0m \u001b[0mtrainY\u001b[0m \u001b[0;34m=\u001b[0m \u001b[0mscaler\u001b[0m\u001b[0;34m.\u001b[0m\u001b[0minverse_transform\u001b[0m\u001b[0;34m(\u001b[0m\u001b[0;34m[\u001b[0m\u001b[0mtrainY\u001b[0m\u001b[0;34m]\u001b[0m\u001b[0;34m)\u001b[0m\u001b[0;34m\u001b[0m\u001b[0m\n\u001b[1;32m      4\u001b[0m \u001b[0mtestPredict\u001b[0m \u001b[0;34m=\u001b[0m \u001b[0mscaler\u001b[0m\u001b[0;34m.\u001b[0m\u001b[0minverse_transform\u001b[0m\u001b[0;34m(\u001b[0m\u001b[0mtestPredict\u001b[0m\u001b[0;34m)\u001b[0m\u001b[0;34m\u001b[0m\u001b[0m\n\u001b[1;32m      5\u001b[0m \u001b[0mtestY\u001b[0m \u001b[0;34m=\u001b[0m \u001b[0mscaler\u001b[0m\u001b[0;34m.\u001b[0m\u001b[0minverse_transform\u001b[0m\u001b[0;34m(\u001b[0m\u001b[0;34m[\u001b[0m\u001b[0mtestY\u001b[0m\u001b[0;34m]\u001b[0m\u001b[0;34m)\u001b[0m\u001b[0;34m\u001b[0m\u001b[0m\n",
      "\u001b[0;32m~/.local/lib/python3.5/site-packages/sklearn/preprocessing/data.py\u001b[0m in \u001b[0;36minverse_transform\u001b[0;34m(self, X)\u001b[0m\n\u001b[1;32m    383\u001b[0m         \u001b[0mX\u001b[0m \u001b[0;34m=\u001b[0m \u001b[0mcheck_array\u001b[0m\u001b[0;34m(\u001b[0m\u001b[0mX\u001b[0m\u001b[0;34m,\u001b[0m \u001b[0mcopy\u001b[0m\u001b[0;34m=\u001b[0m\u001b[0mself\u001b[0m\u001b[0;34m.\u001b[0m\u001b[0mcopy\u001b[0m\u001b[0;34m,\u001b[0m \u001b[0mdtype\u001b[0m\u001b[0;34m=\u001b[0m\u001b[0mFLOAT_DTYPES\u001b[0m\u001b[0;34m)\u001b[0m\u001b[0;34m\u001b[0m\u001b[0m\n\u001b[1;32m    384\u001b[0m \u001b[0;34m\u001b[0m\u001b[0m\n\u001b[0;32m--> 385\u001b[0;31m         \u001b[0mX\u001b[0m \u001b[0;34m-=\u001b[0m \u001b[0mself\u001b[0m\u001b[0;34m.\u001b[0m\u001b[0mmin_\u001b[0m\u001b[0;34m\u001b[0m\u001b[0m\n\u001b[0m\u001b[1;32m    386\u001b[0m         \u001b[0mX\u001b[0m \u001b[0;34m/=\u001b[0m \u001b[0mself\u001b[0m\u001b[0;34m.\u001b[0m\u001b[0mscale_\u001b[0m\u001b[0;34m\u001b[0m\u001b[0m\n\u001b[1;32m    387\u001b[0m         \u001b[0;32mreturn\u001b[0m \u001b[0mX\u001b[0m\u001b[0;34m\u001b[0m\u001b[0m\n",
      "\u001b[0;31mValueError\u001b[0m: non-broadcastable output operand with shape (3326,1) doesn't match the broadcast shape (3326,2)"
     ]
    }
   ],
   "source": [
    "# invert predictions\n",
    "trainPredict = scaler.inverse_transform(trainPredict)\n",
    "trainY = scaler.inverse_transform([trainY])\n",
    "testPredict = scaler.inverse_transform(testPredict)\n",
    "testY = scaler.inverse_transform([testY])"
   ]
  },
  {
   "cell_type": "code",
   "execution_count": 25,
   "metadata": {},
   "outputs": [
    {
     "name": "stdout",
     "output_type": "stream",
     "text": [
      "Train Score: 0.003 RMSE\n",
      "Test Score: 0.003 RMSE\n"
     ]
    }
   ],
   "source": [
    "# calculate root mean squared error\n",
    "trainScore = math.sqrt(mean_squared_error(trainY, trainPredict[:,0]))\n",
    "print('Train Score: %.3f RMSE' % (trainScore))\n",
    "testScore = math.sqrt(mean_squared_error(testY, testPredict[:,0]))\n",
    "print('Test Score: %.3f RMSE' % (testScore))"
   ]
  },
  {
   "cell_type": "code",
   "execution_count": 26,
   "metadata": {},
   "outputs": [],
   "source": [
    "import datetime\n",
    "\n",
    "with open('lstmpiec.log','a') as f:\n",
    "    f.write(\"%s piecFake   : train %.5f  test %.3f  RSME  dataset %s \\n\" %\n",
    "         ( datetime.datetime.now(),trainScore,  testScore,dataset.shape))\n"
   ]
  },
  {
   "cell_type": "code",
   "execution_count": 27,
   "metadata": {},
   "outputs": [
    {
     "data": {
      "image/png": "[encoded data removed]",
      "text/plain": [
       "<Figure size 432x288 with 1 Axes>"
      ]
     },
     "metadata": {},
     "output_type": "display_data"
    }
   ],
   "source": [
    "# shift train predictions for plotting\n",
    "trainPredictPlot = numpy.empty_like(dataset)\n",
    "trainPredictPlot[:, :] = numpy.nan\n",
    "trainPredictPlot[look_back:len(trainPredict)+look_back, :] = trainPredict\n",
    "# shift test predictions for plotting\n",
    "testPredictPlot = numpy.empty_like(dataset)\n",
    "testPredictPlot[:, :] = numpy.nan\n",
    "testPredictPlot[len(trainPredict)+(look_back*2)-7:len(dataset)-9, :] = testPredict\n",
    "# plot baseline and predictions\n",
    "plt.plot(scaler.inverse_transform(dataset),label=\"set\")\n",
    "plt.plot(trainPredictPlot,label=\"train\")\n",
    "plt.plot(testPredictPlot,label=\"test\")\n",
    "plt.legend()\n",
    "plt.show()"
   ]
  },
  {
   "cell_type": "code",
   "execution_count": null,
   "metadata": {},
   "outputs": [],
   "source": []
  }
 ],
 "metadata": {
  "kernelspec": {
   "display_name": "Python 3",
   "language": "python",
   "name": "python3"
  },
  "language_info": {
   "codemirror_mode": {
    "name": "ipython",
    "version": 3
   },
   "file_extension": ".py",
   "mimetype": "text/x-python",
   "name": "python",
   "nbconvert_exporter": "python",
   "pygments_lexer": "ipython3",
   "version": "3.5.2"
  }
 },
 "nbformat": 4,
 "nbformat_minor": 2
}
