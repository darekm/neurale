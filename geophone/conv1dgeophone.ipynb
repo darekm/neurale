{
 "cells": [
  {
   "cell_type": "code",
   "execution_count": 80,
   "metadata": {},
   "outputs": [],
   "source": [
    "import numpy\n",
    "import matplotlib.pyplot as plt\n",
    "import pandas\n",
    "import math\n",
    "from keras.models import Sequential\n",
    "from keras.layers import Dense,Activation,Dropout\n",
    "from keras.layers import LSTM\n",
    "from keras.layers import Embedding\n",
    "from keras.layers import Conv1D, GlobalAveragePooling1D, MaxPooling1D\n",
    "\n",
    "from keras.backend import argmax\n",
    "from sklearn.preprocessing import MinMaxScaler\n",
    "from sklearn.metrics import mean_squared_error\n",
    "from sklearn.preprocessing import LabelEncoder\n",
    "\n",
    "from keras.utils import to_categorical"
   ]
  },
  {
   "cell_type": "code",
   "execution_count": 21,
   "metadata": {},
   "outputs": [],
   "source": [
    "# fix random seed for reproducibility\n",
    "numpy.random.seed(7)"
   ]
  },
  {
   "cell_type": "code",
   "execution_count": 22,
   "metadata": {},
   "outputs": [],
   "source": [
    "# convert an array of values into a dataset matrix\n",
    "def create_dataset(dataset, look_back=1):\n",
    "    dataX, dataY = [], []\n",
    "    for i in range(len(dataset)-look_back-1):\n",
    "        \n",
    "        a = dataset[i:(i+look_back), :]\n",
    "        #b = dataset[i:(i+look_back), 1]\n",
    "        dataX.append((a))\n",
    "        n=round((i / 6) % 24)\n",
    "        #n=((i) / 6) % 24\n",
    "        #n=n/24\n",
    "        dataY.append(n)\n",
    "    return numpy.array(dataX), numpy.array(dataY)"
   ]
  },
  {
   "cell_type": "code",
   "execution_count": 174,
   "metadata": {},
   "outputs": [],
   "source": [
    "def shuffle(df, n=1, axis=0):     \n",
    "    df = df.copy()\n",
    "    for _ in range(n):\n",
    "        df.apply(numpy.random.shuffle, axis=axis)\n",
    "        return df\n"
   ]
  },
  {
   "cell_type": "code",
   "execution_count": 175,
   "metadata": {},
   "outputs": [],
   "source": [
    "csv_url='mrec20190218.csv'\n",
    "#cols = pandas.read_csv(csv_url, nrows=1).columns\n"
   ]
  },
  {
   "cell_type": "code",
   "execution_count": 176,
   "metadata": {},
   "outputs": [],
   "source": [
    "MM= pandas.read_csv(csv_url,  engine='python', skipfooter=1)\n"
   ]
  },
  {
   "cell_type": "code",
   "execution_count": 179,
   "metadata": {},
   "outputs": [
    {
     "data": {
      "text/html": [
       "<div>\n",
       "<style scoped>\n",
       "    .dataframe tbody tr th:only-of-type {\n",
       "        vertical-align: middle;\n",
       "    }\n",
       "\n",
       "    .dataframe tbody tr th {\n",
       "        vertical-align: top;\n",
       "    }\n",
       "\n",
       "    .dataframe thead th {\n",
       "        text-align: right;\n",
       "    }\n",
       "</style>\n",
       "<table border=\"1\" class=\"dataframe\">\n",
       "  <thead>\n",
       "    <tr style=\"text-align: right;\">\n",
       "      <th></th>\n",
       "      <th>time</th>\n",
       "      <th>training</th>\n",
       "      <th>F1_1</th>\n",
       "      <th>F1_2</th>\n",
       "      <th>F1_3</th>\n",
       "      <th>F1_4</th>\n",
       "      <th>F1_5</th>\n",
       "      <th>F1_6</th>\n",
       "      <th>F1_7</th>\n",
       "      <th>F1_8</th>\n",
       "      <th>...</th>\n",
       "      <th>F48_23</th>\n",
       "      <th>F48_24</th>\n",
       "      <th>F48_25</th>\n",
       "      <th>F48_26</th>\n",
       "      <th>F48_27</th>\n",
       "      <th>F48_28</th>\n",
       "      <th>F48_29</th>\n",
       "      <th>F48_30</th>\n",
       "      <th>F48_31</th>\n",
       "      <th>F48_32</th>\n",
       "    </tr>\n",
       "  </thead>\n",
       "  <tbody>\n",
       "    <tr>\n",
       "      <th>91</th>\n",
       "      <td>1550495959283</td>\n",
       "      <td>65</td>\n",
       "      <td>0.8318</td>\n",
       "      <td>0.6371</td>\n",
       "      <td>2.1019</td>\n",
       "      <td>1.1983</td>\n",
       "      <td>1.4729</td>\n",
       "      <td>2.2997</td>\n",
       "      <td>2.4245</td>\n",
       "      <td>2.3147</td>\n",
       "      <td>...</td>\n",
       "      <td>2.6419</td>\n",
       "      <td>1.4732</td>\n",
       "      <td>0.6256</td>\n",
       "      <td>0.4889</td>\n",
       "      <td>1.4007</td>\n",
       "      <td>1.3434</td>\n",
       "      <td>0.6543</td>\n",
       "      <td>3.0449</td>\n",
       "      <td>2.1719</td>\n",
       "      <td>0.0</td>\n",
       "    </tr>\n",
       "    <tr>\n",
       "      <th>5</th>\n",
       "      <td>1550494814283</td>\n",
       "      <td>40</td>\n",
       "      <td>0.3627</td>\n",
       "      <td>0.2655</td>\n",
       "      <td>0.9550</td>\n",
       "      <td>0.5834</td>\n",
       "      <td>0.9203</td>\n",
       "      <td>2.9588</td>\n",
       "      <td>2.8149</td>\n",
       "      <td>0.6207</td>\n",
       "      <td>...</td>\n",
       "      <td>0.4547</td>\n",
       "      <td>0.2746</td>\n",
       "      <td>0.6336</td>\n",
       "      <td>0.6705</td>\n",
       "      <td>0.3903</td>\n",
       "      <td>0.6157</td>\n",
       "      <td>0.2872</td>\n",
       "      <td>0.5167</td>\n",
       "      <td>0.5698</td>\n",
       "      <td>0.0</td>\n",
       "    </tr>\n",
       "    <tr>\n",
       "      <th>50</th>\n",
       "      <td>1550495377283</td>\n",
       "      <td>100</td>\n",
       "      <td>0.0899</td>\n",
       "      <td>0.4413</td>\n",
       "      <td>0.8587</td>\n",
       "      <td>0.8251</td>\n",
       "      <td>1.0661</td>\n",
       "      <td>3.6279</td>\n",
       "      <td>1.9068</td>\n",
       "      <td>0.0566</td>\n",
       "      <td>...</td>\n",
       "      <td>0.5593</td>\n",
       "      <td>0.2590</td>\n",
       "      <td>0.2951</td>\n",
       "      <td>0.4074</td>\n",
       "      <td>0.3383</td>\n",
       "      <td>1.1463</td>\n",
       "      <td>1.2256</td>\n",
       "      <td>0.4668</td>\n",
       "      <td>1.2291</td>\n",
       "      <td>0.0</td>\n",
       "    </tr>\n",
       "    <tr>\n",
       "      <th>138</th>\n",
       "      <td>1550496702283</td>\n",
       "      <td>100</td>\n",
       "      <td>0.2720</td>\n",
       "      <td>0.3607</td>\n",
       "      <td>0.3564</td>\n",
       "      <td>0.5447</td>\n",
       "      <td>1.0518</td>\n",
       "      <td>3.3036</td>\n",
       "      <td>1.4050</td>\n",
       "      <td>1.1154</td>\n",
       "      <td>...</td>\n",
       "      <td>0.1096</td>\n",
       "      <td>0.2295</td>\n",
       "      <td>0.1453</td>\n",
       "      <td>0.3562</td>\n",
       "      <td>0.2241</td>\n",
       "      <td>0.6634</td>\n",
       "      <td>0.7399</td>\n",
       "      <td>0.0597</td>\n",
       "      <td>0.1778</td>\n",
       "      <td>0.0</td>\n",
       "    </tr>\n",
       "    <tr>\n",
       "      <th>62</th>\n",
       "      <td>1550495570283</td>\n",
       "      <td>100</td>\n",
       "      <td>0.0862</td>\n",
       "      <td>0.2771</td>\n",
       "      <td>0.1141</td>\n",
       "      <td>0.4372</td>\n",
       "      <td>0.8690</td>\n",
       "      <td>3.3553</td>\n",
       "      <td>3.0177</td>\n",
       "      <td>0.5653</td>\n",
       "      <td>...</td>\n",
       "      <td>8.2808</td>\n",
       "      <td>12.8872</td>\n",
       "      <td>15.2942</td>\n",
       "      <td>7.4254</td>\n",
       "      <td>10.6728</td>\n",
       "      <td>6.9262</td>\n",
       "      <td>6.7333</td>\n",
       "      <td>14.2526</td>\n",
       "      <td>18.2666</td>\n",
       "      <td>0.0</td>\n",
       "    </tr>\n",
       "    <tr>\n",
       "      <th>119</th>\n",
       "      <td>1550496221283</td>\n",
       "      <td>100</td>\n",
       "      <td>0.5620</td>\n",
       "      <td>0.5754</td>\n",
       "      <td>0.4564</td>\n",
       "      <td>0.7115</td>\n",
       "      <td>1.0654</td>\n",
       "      <td>3.8815</td>\n",
       "      <td>3.0603</td>\n",
       "      <td>0.9837</td>\n",
       "      <td>...</td>\n",
       "      <td>0.4789</td>\n",
       "      <td>0.0347</td>\n",
       "      <td>0.1873</td>\n",
       "      <td>0.1444</td>\n",
       "      <td>0.4366</td>\n",
       "      <td>1.1457</td>\n",
       "      <td>1.0570</td>\n",
       "      <td>0.6188</td>\n",
       "      <td>0.5667</td>\n",
       "      <td>0.0</td>\n",
       "    </tr>\n",
       "    <tr>\n",
       "      <th>99</th>\n",
       "      <td>1550496073283</td>\n",
       "      <td>60</td>\n",
       "      <td>1.5721</td>\n",
       "      <td>1.8944</td>\n",
       "      <td>4.4891</td>\n",
       "      <td>1.1592</td>\n",
       "      <td>4.9796</td>\n",
       "      <td>0.8620</td>\n",
       "      <td>1.4158</td>\n",
       "      <td>1.0215</td>\n",
       "      <td>...</td>\n",
       "      <td>0.7157</td>\n",
       "      <td>0.4313</td>\n",
       "      <td>0.4784</td>\n",
       "      <td>0.5690</td>\n",
       "      <td>0.5666</td>\n",
       "      <td>0.4959</td>\n",
       "      <td>0.3725</td>\n",
       "      <td>0.4262</td>\n",
       "      <td>0.3599</td>\n",
       "      <td>0.0</td>\n",
       "    </tr>\n",
       "    <tr>\n",
       "      <th>22</th>\n",
       "      <td>1550494951283</td>\n",
       "      <td>100</td>\n",
       "      <td>0.4359</td>\n",
       "      <td>0.2326</td>\n",
       "      <td>0.5063</td>\n",
       "      <td>0.7873</td>\n",
       "      <td>0.7736</td>\n",
       "      <td>3.4333</td>\n",
       "      <td>3.0292</td>\n",
       "      <td>0.3473</td>\n",
       "      <td>...</td>\n",
       "      <td>0.1093</td>\n",
       "      <td>0.0736</td>\n",
       "      <td>0.1403</td>\n",
       "      <td>0.2591</td>\n",
       "      <td>0.1512</td>\n",
       "      <td>0.2412</td>\n",
       "      <td>0.3812</td>\n",
       "      <td>0.2623</td>\n",
       "      <td>0.3540</td>\n",
       "      <td>0.0</td>\n",
       "    </tr>\n",
       "    <tr>\n",
       "      <th>71</th>\n",
       "      <td>1550495662283</td>\n",
       "      <td>50</td>\n",
       "      <td>0.5340</td>\n",
       "      <td>1.1467</td>\n",
       "      <td>2.3171</td>\n",
       "      <td>1.3182</td>\n",
       "      <td>1.9264</td>\n",
       "      <td>4.1660</td>\n",
       "      <td>3.0377</td>\n",
       "      <td>1.8680</td>\n",
       "      <td>...</td>\n",
       "      <td>0.0362</td>\n",
       "      <td>0.1576</td>\n",
       "      <td>0.1226</td>\n",
       "      <td>0.2661</td>\n",
       "      <td>0.1344</td>\n",
       "      <td>0.1888</td>\n",
       "      <td>0.4908</td>\n",
       "      <td>0.2627</td>\n",
       "      <td>0.2605</td>\n",
       "      <td>0.0</td>\n",
       "    </tr>\n",
       "    <tr>\n",
       "      <th>44</th>\n",
       "      <td>1550495283283</td>\n",
       "      <td>45</td>\n",
       "      <td>0.2807</td>\n",
       "      <td>0.6044</td>\n",
       "      <td>0.6637</td>\n",
       "      <td>0.6726</td>\n",
       "      <td>0.8789</td>\n",
       "      <td>3.1921</td>\n",
       "      <td>2.4719</td>\n",
       "      <td>0.4518</td>\n",
       "      <td>...</td>\n",
       "      <td>0.3119</td>\n",
       "      <td>0.3107</td>\n",
       "      <td>0.1800</td>\n",
       "      <td>0.4971</td>\n",
       "      <td>0.4429</td>\n",
       "      <td>0.8962</td>\n",
       "      <td>0.7778</td>\n",
       "      <td>0.2675</td>\n",
       "      <td>0.4384</td>\n",
       "      <td>0.0</td>\n",
       "    </tr>\n",
       "    <tr>\n",
       "      <th>66</th>\n",
       "      <td>1550495605283</td>\n",
       "      <td>100</td>\n",
       "      <td>1.2994</td>\n",
       "      <td>1.5468</td>\n",
       "      <td>1.4657</td>\n",
       "      <td>0.7350</td>\n",
       "      <td>1.0125</td>\n",
       "      <td>3.2586</td>\n",
       "      <td>8.9516</td>\n",
       "      <td>1.2679</td>\n",
       "      <td>...</td>\n",
       "      <td>0.5527</td>\n",
       "      <td>0.9130</td>\n",
       "      <td>0.6409</td>\n",
       "      <td>2.1461</td>\n",
       "      <td>2.5641</td>\n",
       "      <td>4.5332</td>\n",
       "      <td>2.0476</td>\n",
       "      <td>1.2614</td>\n",
       "      <td>1.0937</td>\n",
       "      <td>0.0</td>\n",
       "    </tr>\n",
       "    <tr>\n",
       "      <th>77</th>\n",
       "      <td>1550495713283</td>\n",
       "      <td>100</td>\n",
       "      <td>0.6243</td>\n",
       "      <td>0.5145</td>\n",
       "      <td>0.6008</td>\n",
       "      <td>0.7572</td>\n",
       "      <td>1.5855</td>\n",
       "      <td>4.1330</td>\n",
       "      <td>2.0608</td>\n",
       "      <td>1.2281</td>\n",
       "      <td>...</td>\n",
       "      <td>0.5157</td>\n",
       "      <td>0.3996</td>\n",
       "      <td>0.1923</td>\n",
       "      <td>0.3500</td>\n",
       "      <td>0.2420</td>\n",
       "      <td>0.5243</td>\n",
       "      <td>0.1443</td>\n",
       "      <td>0.3974</td>\n",
       "      <td>0.1564</td>\n",
       "      <td>0.0</td>\n",
       "    </tr>\n",
       "    <tr>\n",
       "      <th>129</th>\n",
       "      <td>1550496561283</td>\n",
       "      <td>100</td>\n",
       "      <td>0.4101</td>\n",
       "      <td>0.2989</td>\n",
       "      <td>0.6272</td>\n",
       "      <td>0.7124</td>\n",
       "      <td>1.2344</td>\n",
       "      <td>3.8934</td>\n",
       "      <td>2.9615</td>\n",
       "      <td>1.0254</td>\n",
       "      <td>...</td>\n",
       "      <td>0.2113</td>\n",
       "      <td>0.1782</td>\n",
       "      <td>0.6614</td>\n",
       "      <td>0.0772</td>\n",
       "      <td>0.2445</td>\n",
       "      <td>0.1246</td>\n",
       "      <td>0.3523</td>\n",
       "      <td>0.2009</td>\n",
       "      <td>0.1756</td>\n",
       "      <td>0.0</td>\n",
       "    </tr>\n",
       "    <tr>\n",
       "      <th>125</th>\n",
       "      <td>1550496467283</td>\n",
       "      <td>100</td>\n",
       "      <td>0.4279</td>\n",
       "      <td>0.5104</td>\n",
       "      <td>0.3700</td>\n",
       "      <td>0.6590</td>\n",
       "      <td>0.9431</td>\n",
       "      <td>4.0123</td>\n",
       "      <td>3.6076</td>\n",
       "      <td>0.8786</td>\n",
       "      <td>...</td>\n",
       "      <td>0.3331</td>\n",
       "      <td>0.2852</td>\n",
       "      <td>0.2419</td>\n",
       "      <td>0.8170</td>\n",
       "      <td>0.5627</td>\n",
       "      <td>1.2048</td>\n",
       "      <td>1.0153</td>\n",
       "      <td>0.8491</td>\n",
       "      <td>0.2593</td>\n",
       "      <td>0.0</td>\n",
       "    </tr>\n",
       "    <tr>\n",
       "      <th>58</th>\n",
       "      <td>1550495523283</td>\n",
       "      <td>100</td>\n",
       "      <td>0.3531</td>\n",
       "      <td>0.5245</td>\n",
       "      <td>0.4094</td>\n",
       "      <td>0.4850</td>\n",
       "      <td>0.5573</td>\n",
       "      <td>2.6625</td>\n",
       "      <td>2.4752</td>\n",
       "      <td>1.4219</td>\n",
       "      <td>...</td>\n",
       "      <td>0.4875</td>\n",
       "      <td>0.4624</td>\n",
       "      <td>0.5133</td>\n",
       "      <td>0.1918</td>\n",
       "      <td>0.2651</td>\n",
       "      <td>0.4136</td>\n",
       "      <td>0.4796</td>\n",
       "      <td>0.2953</td>\n",
       "      <td>0.2408</td>\n",
       "      <td>0.0</td>\n",
       "    </tr>\n",
       "    <tr>\n",
       "      <th>97</th>\n",
       "      <td>1550496049283</td>\n",
       "      <td>65</td>\n",
       "      <td>0.1792</td>\n",
       "      <td>0.1454</td>\n",
       "      <td>0.1963</td>\n",
       "      <td>0.4179</td>\n",
       "      <td>0.5923</td>\n",
       "      <td>3.5357</td>\n",
       "      <td>2.6410</td>\n",
       "      <td>0.9982</td>\n",
       "      <td>...</td>\n",
       "      <td>0.2428</td>\n",
       "      <td>0.1004</td>\n",
       "      <td>0.2303</td>\n",
       "      <td>0.1159</td>\n",
       "      <td>0.5489</td>\n",
       "      <td>1.1402</td>\n",
       "      <td>0.9940</td>\n",
       "      <td>0.5791</td>\n",
       "      <td>0.2934</td>\n",
       "      <td>0.0</td>\n",
       "    </tr>\n",
       "    <tr>\n",
       "      <th>38</th>\n",
       "      <td>1550495162283</td>\n",
       "      <td>45</td>\n",
       "      <td>0.6268</td>\n",
       "      <td>0.4545</td>\n",
       "      <td>0.9916</td>\n",
       "      <td>1.6028</td>\n",
       "      <td>2.2765</td>\n",
       "      <td>8.8609</td>\n",
       "      <td>6.2389</td>\n",
       "      <td>0.9593</td>\n",
       "      <td>...</td>\n",
       "      <td>0.3937</td>\n",
       "      <td>0.0800</td>\n",
       "      <td>0.0536</td>\n",
       "      <td>0.1038</td>\n",
       "      <td>0.4392</td>\n",
       "      <td>0.7696</td>\n",
       "      <td>0.4005</td>\n",
       "      <td>0.1688</td>\n",
       "      <td>0.1716</td>\n",
       "      <td>0.0</td>\n",
       "    </tr>\n",
       "    <tr>\n",
       "      <th>83</th>\n",
       "      <td>1550495887283</td>\n",
       "      <td>60</td>\n",
       "      <td>0.6082</td>\n",
       "      <td>0.7037</td>\n",
       "      <td>2.1497</td>\n",
       "      <td>1.1619</td>\n",
       "      <td>1.6170</td>\n",
       "      <td>5.6523</td>\n",
       "      <td>3.5118</td>\n",
       "      <td>1.2513</td>\n",
       "      <td>...</td>\n",
       "      <td>0.6370</td>\n",
       "      <td>1.0320</td>\n",
       "      <td>1.3199</td>\n",
       "      <td>3.2530</td>\n",
       "      <td>2.0218</td>\n",
       "      <td>2.1872</td>\n",
       "      <td>3.3584</td>\n",
       "      <td>1.6985</td>\n",
       "      <td>3.9739</td>\n",
       "      <td>0.0</td>\n",
       "    </tr>\n",
       "    <tr>\n",
       "      <th>79</th>\n",
       "      <td>1550495750283</td>\n",
       "      <td>50</td>\n",
       "      <td>1.0239</td>\n",
       "      <td>1.3875</td>\n",
       "      <td>4.8725</td>\n",
       "      <td>1.2419</td>\n",
       "      <td>1.6544</td>\n",
       "      <td>4.9876</td>\n",
       "      <td>2.2414</td>\n",
       "      <td>0.7556</td>\n",
       "      <td>...</td>\n",
       "      <td>1.7568</td>\n",
       "      <td>2.1844</td>\n",
       "      <td>2.8749</td>\n",
       "      <td>3.2064</td>\n",
       "      <td>4.3549</td>\n",
       "      <td>3.1282</td>\n",
       "      <td>3.2907</td>\n",
       "      <td>3.3607</td>\n",
       "      <td>2.7831</td>\n",
       "      <td>0.0</td>\n",
       "    </tr>\n",
       "    <tr>\n",
       "      <th>87</th>\n",
       "      <td>1550495914283</td>\n",
       "      <td>100</td>\n",
       "      <td>0.2794</td>\n",
       "      <td>0.3261</td>\n",
       "      <td>0.5293</td>\n",
       "      <td>0.2236</td>\n",
       "      <td>0.9439</td>\n",
       "      <td>3.3741</td>\n",
       "      <td>3.2585</td>\n",
       "      <td>0.6721</td>\n",
       "      <td>...</td>\n",
       "      <td>0.1806</td>\n",
       "      <td>0.2930</td>\n",
       "      <td>0.4024</td>\n",
       "      <td>0.4868</td>\n",
       "      <td>0.4732</td>\n",
       "      <td>1.1171</td>\n",
       "      <td>0.6805</td>\n",
       "      <td>0.1849</td>\n",
       "      <td>0.0382</td>\n",
       "      <td>0.0</td>\n",
       "    </tr>\n",
       "    <tr>\n",
       "      <th>12</th>\n",
       "      <td>1550494873283</td>\n",
       "      <td>45</td>\n",
       "      <td>1.0495</td>\n",
       "      <td>1.0034</td>\n",
       "      <td>2.0709</td>\n",
       "      <td>0.5060</td>\n",
       "      <td>1.8959</td>\n",
       "      <td>2.8803</td>\n",
       "      <td>2.5312</td>\n",
       "      <td>0.3165</td>\n",
       "      <td>...</td>\n",
       "      <td>0.7104</td>\n",
       "      <td>0.5921</td>\n",
       "      <td>0.6385</td>\n",
       "      <td>2.2157</td>\n",
       "      <td>1.8679</td>\n",
       "      <td>2.0763</td>\n",
       "      <td>1.7492</td>\n",
       "      <td>1.8552</td>\n",
       "      <td>3.4439</td>\n",
       "      <td>0.0</td>\n",
       "    </tr>\n",
       "    <tr>\n",
       "      <th>53</th>\n",
       "      <td>1550495476283</td>\n",
       "      <td>100</td>\n",
       "      <td>1.0907</td>\n",
       "      <td>1.0340</td>\n",
       "      <td>0.4389</td>\n",
       "      <td>1.6530</td>\n",
       "      <td>2.1170</td>\n",
       "      <td>2.5940</td>\n",
       "      <td>2.4925</td>\n",
       "      <td>1.1216</td>\n",
       "      <td>...</td>\n",
       "      <td>0.6234</td>\n",
       "      <td>0.8456</td>\n",
       "      <td>0.5418</td>\n",
       "      <td>1.0080</td>\n",
       "      <td>0.2419</td>\n",
       "      <td>0.9408</td>\n",
       "      <td>0.6227</td>\n",
       "      <td>0.3956</td>\n",
       "      <td>0.4140</td>\n",
       "      <td>0.0</td>\n",
       "    </tr>\n",
       "    <tr>\n",
       "      <th>107</th>\n",
       "      <td>1550496127283</td>\n",
       "      <td>100</td>\n",
       "      <td>0.3474</td>\n",
       "      <td>0.4387</td>\n",
       "      <td>0.6107</td>\n",
       "      <td>0.5429</td>\n",
       "      <td>1.0372</td>\n",
       "      <td>3.2881</td>\n",
       "      <td>2.7924</td>\n",
       "      <td>0.3658</td>\n",
       "      <td>...</td>\n",
       "      <td>0.3546</td>\n",
       "      <td>0.2475</td>\n",
       "      <td>0.5096</td>\n",
       "      <td>0.1198</td>\n",
       "      <td>0.4720</td>\n",
       "      <td>0.4338</td>\n",
       "      <td>0.2747</td>\n",
       "      <td>0.2595</td>\n",
       "      <td>0.0738</td>\n",
       "      <td>0.0</td>\n",
       "    </tr>\n",
       "    <tr>\n",
       "      <th>25</th>\n",
       "      <td>1550494984283</td>\n",
       "      <td>100</td>\n",
       "      <td>0.2903</td>\n",
       "      <td>0.5344</td>\n",
       "      <td>0.2700</td>\n",
       "      <td>0.5511</td>\n",
       "      <td>1.0300</td>\n",
       "      <td>4.7314</td>\n",
       "      <td>1.1796</td>\n",
       "      <td>1.6037</td>\n",
       "      <td>...</td>\n",
       "      <td>0.0825</td>\n",
       "      <td>0.1615</td>\n",
       "      <td>0.3497</td>\n",
       "      <td>0.5012</td>\n",
       "      <td>0.2047</td>\n",
       "      <td>0.3994</td>\n",
       "      <td>0.3157</td>\n",
       "      <td>0.4066</td>\n",
       "      <td>0.4507</td>\n",
       "      <td>0.0</td>\n",
       "    </tr>\n",
       "  </tbody>\n",
       "</table>\n",
       "<p>24 rows × 1538 columns</p>\n",
       "</div>"
      ],
      "text/plain": [
       "              time  training    F1_1    F1_2    F1_3    F1_4    F1_5    F1_6  \\\n",
       "91   1550495959283        65  0.8318  0.6371  2.1019  1.1983  1.4729  2.2997   \n",
       "5    1550494814283        40  0.3627  0.2655  0.9550  0.5834  0.9203  2.9588   \n",
       "50   1550495377283       100  0.0899  0.4413  0.8587  0.8251  1.0661  3.6279   \n",
       "138  1550496702283       100  0.2720  0.3607  0.3564  0.5447  1.0518  3.3036   \n",
       "62   1550495570283       100  0.0862  0.2771  0.1141  0.4372  0.8690  3.3553   \n",
       "119  1550496221283       100  0.5620  0.5754  0.4564  0.7115  1.0654  3.8815   \n",
       "99   1550496073283        60  1.5721  1.8944  4.4891  1.1592  4.9796  0.8620   \n",
       "22   1550494951283       100  0.4359  0.2326  0.5063  0.7873  0.7736  3.4333   \n",
       "71   1550495662283        50  0.5340  1.1467  2.3171  1.3182  1.9264  4.1660   \n",
       "44   1550495283283        45  0.2807  0.6044  0.6637  0.6726  0.8789  3.1921   \n",
       "66   1550495605283       100  1.2994  1.5468  1.4657  0.7350  1.0125  3.2586   \n",
       "77   1550495713283       100  0.6243  0.5145  0.6008  0.7572  1.5855  4.1330   \n",
       "129  1550496561283       100  0.4101  0.2989  0.6272  0.7124  1.2344  3.8934   \n",
       "125  1550496467283       100  0.4279  0.5104  0.3700  0.6590  0.9431  4.0123   \n",
       "58   1550495523283       100  0.3531  0.5245  0.4094  0.4850  0.5573  2.6625   \n",
       "97   1550496049283        65  0.1792  0.1454  0.1963  0.4179  0.5923  3.5357   \n",
       "38   1550495162283        45  0.6268  0.4545  0.9916  1.6028  2.2765  8.8609   \n",
       "83   1550495887283        60  0.6082  0.7037  2.1497  1.1619  1.6170  5.6523   \n",
       "79   1550495750283        50  1.0239  1.3875  4.8725  1.2419  1.6544  4.9876   \n",
       "87   1550495914283       100  0.2794  0.3261  0.5293  0.2236  0.9439  3.3741   \n",
       "12   1550494873283        45  1.0495  1.0034  2.0709  0.5060  1.8959  2.8803   \n",
       "53   1550495476283       100  1.0907  1.0340  0.4389  1.6530  2.1170  2.5940   \n",
       "107  1550496127283       100  0.3474  0.4387  0.6107  0.5429  1.0372  3.2881   \n",
       "25   1550494984283       100  0.2903  0.5344  0.2700  0.5511  1.0300  4.7314   \n",
       "\n",
       "       F1_7    F1_8   ...    F48_23   F48_24   F48_25  F48_26   F48_27  \\\n",
       "91   2.4245  2.3147   ...    2.6419   1.4732   0.6256  0.4889   1.4007   \n",
       "5    2.8149  0.6207   ...    0.4547   0.2746   0.6336  0.6705   0.3903   \n",
       "50   1.9068  0.0566   ...    0.5593   0.2590   0.2951  0.4074   0.3383   \n",
       "138  1.4050  1.1154   ...    0.1096   0.2295   0.1453  0.3562   0.2241   \n",
       "62   3.0177  0.5653   ...    8.2808  12.8872  15.2942  7.4254  10.6728   \n",
       "119  3.0603  0.9837   ...    0.4789   0.0347   0.1873  0.1444   0.4366   \n",
       "99   1.4158  1.0215   ...    0.7157   0.4313   0.4784  0.5690   0.5666   \n",
       "22   3.0292  0.3473   ...    0.1093   0.0736   0.1403  0.2591   0.1512   \n",
       "71   3.0377  1.8680   ...    0.0362   0.1576   0.1226  0.2661   0.1344   \n",
       "44   2.4719  0.4518   ...    0.3119   0.3107   0.1800  0.4971   0.4429   \n",
       "66   8.9516  1.2679   ...    0.5527   0.9130   0.6409  2.1461   2.5641   \n",
       "77   2.0608  1.2281   ...    0.5157   0.3996   0.1923  0.3500   0.2420   \n",
       "129  2.9615  1.0254   ...    0.2113   0.1782   0.6614  0.0772   0.2445   \n",
       "125  3.6076  0.8786   ...    0.3331   0.2852   0.2419  0.8170   0.5627   \n",
       "58   2.4752  1.4219   ...    0.4875   0.4624   0.5133  0.1918   0.2651   \n",
       "97   2.6410  0.9982   ...    0.2428   0.1004   0.2303  0.1159   0.5489   \n",
       "38   6.2389  0.9593   ...    0.3937   0.0800   0.0536  0.1038   0.4392   \n",
       "83   3.5118  1.2513   ...    0.6370   1.0320   1.3199  3.2530   2.0218   \n",
       "79   2.2414  0.7556   ...    1.7568   2.1844   2.8749  3.2064   4.3549   \n",
       "87   3.2585  0.6721   ...    0.1806   0.2930   0.4024  0.4868   0.4732   \n",
       "12   2.5312  0.3165   ...    0.7104   0.5921   0.6385  2.2157   1.8679   \n",
       "53   2.4925  1.1216   ...    0.6234   0.8456   0.5418  1.0080   0.2419   \n",
       "107  2.7924  0.3658   ...    0.3546   0.2475   0.5096  0.1198   0.4720   \n",
       "25   1.1796  1.6037   ...    0.0825   0.1615   0.3497  0.5012   0.2047   \n",
       "\n",
       "     F48_28  F48_29   F48_30   F48_31  F48_32  \n",
       "91   1.3434  0.6543   3.0449   2.1719     0.0  \n",
       "5    0.6157  0.2872   0.5167   0.5698     0.0  \n",
       "50   1.1463  1.2256   0.4668   1.2291     0.0  \n",
       "138  0.6634  0.7399   0.0597   0.1778     0.0  \n",
       "62   6.9262  6.7333  14.2526  18.2666     0.0  \n",
       "119  1.1457  1.0570   0.6188   0.5667     0.0  \n",
       "99   0.4959  0.3725   0.4262   0.3599     0.0  \n",
       "22   0.2412  0.3812   0.2623   0.3540     0.0  \n",
       "71   0.1888  0.4908   0.2627   0.2605     0.0  \n",
       "44   0.8962  0.7778   0.2675   0.4384     0.0  \n",
       "66   4.5332  2.0476   1.2614   1.0937     0.0  \n",
       "77   0.5243  0.1443   0.3974   0.1564     0.0  \n",
       "129  0.1246  0.3523   0.2009   0.1756     0.0  \n",
       "125  1.2048  1.0153   0.8491   0.2593     0.0  \n",
       "58   0.4136  0.4796   0.2953   0.2408     0.0  \n",
       "97   1.1402  0.9940   0.5791   0.2934     0.0  \n",
       "38   0.7696  0.4005   0.1688   0.1716     0.0  \n",
       "83   2.1872  3.3584   1.6985   3.9739     0.0  \n",
       "79   3.1282  3.2907   3.3607   2.7831     0.0  \n",
       "87   1.1171  0.6805   0.1849   0.0382     0.0  \n",
       "12   2.0763  1.7492   1.8552   3.4439     0.0  \n",
       "53   0.9408  0.6227   0.3956   0.4140     0.0  \n",
       "107  0.4338  0.2747   0.2595   0.0738     0.0  \n",
       "25   0.3994  0.3157   0.4066   0.4507     0.0  \n",
       "\n",
       "[24 rows x 1538 columns]"
      ]
     },
     "execution_count": 179,
     "metadata": {},
     "output_type": "execute_result"
    }
   ],
   "source": [
    "#Mdataset=shuffle(MM)\n",
    "Mdataset=MM.sample(frac=1)\n",
    "Mdataset.head(24)"
   ]
  },
  {
   "cell_type": "code",
   "execution_count": 374,
   "metadata": {},
   "outputs": [
    {
     "data": {
      "text/html": [
       "<div>\n",
       "<style scoped>\n",
       "    .dataframe tbody tr th:only-of-type {\n",
       "        vertical-align: middle;\n",
       "    }\n",
       "\n",
       "    .dataframe tbody tr th {\n",
       "        vertical-align: top;\n",
       "    }\n",
       "\n",
       "    .dataframe thead th {\n",
       "        text-align: right;\n",
       "    }\n",
       "</style>\n",
       "<table border=\"1\" class=\"dataframe\">\n",
       "  <thead>\n",
       "    <tr style=\"text-align: right;\">\n",
       "      <th></th>\n",
       "      <th>F1_1</th>\n",
       "      <th>F1_2</th>\n",
       "      <th>F1_3</th>\n",
       "      <th>F1_4</th>\n",
       "      <th>F1_5</th>\n",
       "      <th>F1_6</th>\n",
       "      <th>F1_7</th>\n",
       "      <th>F1_8</th>\n",
       "      <th>F1_9</th>\n",
       "      <th>F1_10</th>\n",
       "      <th>...</th>\n",
       "      <th>F48_23</th>\n",
       "      <th>F48_24</th>\n",
       "      <th>F48_25</th>\n",
       "      <th>F48_26</th>\n",
       "      <th>F48_27</th>\n",
       "      <th>F48_28</th>\n",
       "      <th>F48_29</th>\n",
       "      <th>F48_30</th>\n",
       "      <th>F48_31</th>\n",
       "      <th>F48_32</th>\n",
       "    </tr>\n",
       "  </thead>\n",
       "  <tbody>\n",
       "    <tr>\n",
       "      <th>93</th>\n",
       "      <td>0.1295</td>\n",
       "      <td>0.4050</td>\n",
       "      <td>1.5251</td>\n",
       "      <td>0.3365</td>\n",
       "      <td>0.5805</td>\n",
       "      <td>3.2146</td>\n",
       "      <td>3.5298</td>\n",
       "      <td>0.8402</td>\n",
       "      <td>0.3891</td>\n",
       "      <td>0.9404</td>\n",
       "      <td>...</td>\n",
       "      <td>0.2754</td>\n",
       "      <td>0.4369</td>\n",
       "      <td>0.0825</td>\n",
       "      <td>0.2853</td>\n",
       "      <td>0.3640</td>\n",
       "      <td>1.3067</td>\n",
       "      <td>0.6430</td>\n",
       "      <td>0.3396</td>\n",
       "      <td>0.1986</td>\n",
       "      <td>0.0</td>\n",
       "    </tr>\n",
       "    <tr>\n",
       "      <th>43</th>\n",
       "      <td>0.6867</td>\n",
       "      <td>0.7570</td>\n",
       "      <td>1.1490</td>\n",
       "      <td>0.8989</td>\n",
       "      <td>1.0333</td>\n",
       "      <td>3.9217</td>\n",
       "      <td>1.9179</td>\n",
       "      <td>1.2287</td>\n",
       "      <td>0.5815</td>\n",
       "      <td>0.5990</td>\n",
       "      <td>...</td>\n",
       "      <td>0.2617</td>\n",
       "      <td>0.1757</td>\n",
       "      <td>0.3571</td>\n",
       "      <td>0.3760</td>\n",
       "      <td>0.2055</td>\n",
       "      <td>0.3970</td>\n",
       "      <td>0.1801</td>\n",
       "      <td>0.3904</td>\n",
       "      <td>0.1562</td>\n",
       "      <td>0.0</td>\n",
       "    </tr>\n",
       "    <tr>\n",
       "      <th>70</th>\n",
       "      <td>0.7427</td>\n",
       "      <td>0.8509</td>\n",
       "      <td>0.5496</td>\n",
       "      <td>0.8176</td>\n",
       "      <td>1.4080</td>\n",
       "      <td>3.9654</td>\n",
       "      <td>2.1832</td>\n",
       "      <td>0.9254</td>\n",
       "      <td>0.3095</td>\n",
       "      <td>0.6995</td>\n",
       "      <td>...</td>\n",
       "      <td>0.5201</td>\n",
       "      <td>0.1629</td>\n",
       "      <td>0.3034</td>\n",
       "      <td>0.1858</td>\n",
       "      <td>0.2951</td>\n",
       "      <td>0.4395</td>\n",
       "      <td>0.5068</td>\n",
       "      <td>0.2946</td>\n",
       "      <td>0.3734</td>\n",
       "      <td>0.0</td>\n",
       "    </tr>\n",
       "    <tr>\n",
       "      <th>57</th>\n",
       "      <td>0.1752</td>\n",
       "      <td>0.2536</td>\n",
       "      <td>0.2372</td>\n",
       "      <td>0.6684</td>\n",
       "      <td>0.6233</td>\n",
       "      <td>3.5929</td>\n",
       "      <td>3.4134</td>\n",
       "      <td>0.6869</td>\n",
       "      <td>0.6183</td>\n",
       "      <td>0.4156</td>\n",
       "      <td>...</td>\n",
       "      <td>0.5584</td>\n",
       "      <td>0.4459</td>\n",
       "      <td>0.1994</td>\n",
       "      <td>0.5426</td>\n",
       "      <td>0.3570</td>\n",
       "      <td>0.7103</td>\n",
       "      <td>0.2396</td>\n",
       "      <td>0.0303</td>\n",
       "      <td>0.4690</td>\n",
       "      <td>0.0</td>\n",
       "    </tr>\n",
       "  </tbody>\n",
       "</table>\n",
       "<p>4 rows × 1536 columns</p>\n",
       "</div>"
      ],
      "text/plain": [
       "      F1_1    F1_2    F1_3    F1_4    F1_5    F1_6    F1_7    F1_8    F1_9  \\\n",
       "93  0.1295  0.4050  1.5251  0.3365  0.5805  3.2146  3.5298  0.8402  0.3891   \n",
       "43  0.6867  0.7570  1.1490  0.8989  1.0333  3.9217  1.9179  1.2287  0.5815   \n",
       "70  0.7427  0.8509  0.5496  0.8176  1.4080  3.9654  2.1832  0.9254  0.3095   \n",
       "57  0.1752  0.2536  0.2372  0.6684  0.6233  3.5929  3.4134  0.6869  0.6183   \n",
       "\n",
       "     F1_10   ...    F48_23  F48_24  F48_25  F48_26  F48_27  F48_28  F48_29  \\\n",
       "93  0.9404   ...    0.2754  0.4369  0.0825  0.2853  0.3640  1.3067  0.6430   \n",
       "43  0.5990   ...    0.2617  0.1757  0.3571  0.3760  0.2055  0.3970  0.1801   \n",
       "70  0.6995   ...    0.5201  0.1629  0.3034  0.1858  0.2951  0.4395  0.5068   \n",
       "57  0.4156   ...    0.5584  0.4459  0.1994  0.5426  0.3570  0.7103  0.2396   \n",
       "\n",
       "    F48_30  F48_31  F48_32  \n",
       "93  0.3396  0.1986     0.0  \n",
       "43  0.3904  0.1562     0.0  \n",
       "70  0.2946  0.3734     0.0  \n",
       "57  0.0303  0.4690     0.0  \n",
       "\n",
       "[4 rows x 1536 columns]"
      ]
     },
     "execution_count": 374,
     "metadata": {},
     "output_type": "execute_result"
    }
   ],
   "source": [
    "#Xdataset = pandas.read_csv(csv_url,usecols=cols[2:],  engine='python', skipfooter=1)\n",
    "Xdataset=Mdataset.iloc[:,2:]\n",
    "Xdataset.tail(4)"
   ]
  },
  {
   "cell_type": "code",
   "execution_count": 375,
   "metadata": {},
   "outputs": [
    {
     "data": {
      "text/plain": [
       "128    100\n",
       "90     100\n",
       "139    100\n",
       "116    100\n",
       "81     100\n",
       "68      50\n",
       "74      55\n",
       "41      40\n",
       "76      50\n",
       "2      100\n",
       "93      60\n",
       "43      40\n",
       "70      55\n",
       "57     100\n",
       "Name: training, dtype: int64"
      ]
     },
     "execution_count": 375,
     "metadata": {},
     "output_type": "execute_result"
    }
   ],
   "source": [
    "Ydataset = Mdataset['training']\n",
    "Ydataset.tail(14)"
   ]
  },
  {
   "cell_type": "code",
   "execution_count": 376,
   "metadata": {},
   "outputs": [
    {
     "data": {
      "image/png": "[encoded data removed]",
      "text/plain": [
       "<Figure size 1080x216 with 1 Axes>"
      ]
     },
     "metadata": {},
     "output_type": "display_data"
    }
   ],
   "source": [
    "plt.figure(figsize=(15,3))\n",
    "plt.plot(Xdataset[\"F48_31\"].values)\n",
    "#plt.plot(Ydataset)\n",
    "plt.show()"
   ]
  },
  {
   "cell_type": "code",
   "execution_count": 377,
   "metadata": {},
   "outputs": [
    {
     "data": {
      "text/plain": [
       "91     0.0\n",
       "5      0.0\n",
       "50     0.0\n",
       "138    0.0\n",
       "62     0.0\n",
       "119    0.0\n",
       "99     0.0\n",
       "22     0.0\n",
       "71     0.0\n",
       "44     0.0\n",
       "66     0.0\n",
       "77     0.0\n",
       "129    0.0\n",
       "125    0.0\n",
       "58     0.0\n",
       "97     0.0\n",
       "38     0.0\n",
       "83     0.0\n",
       "79     0.0\n",
       "87     0.0\n",
       "12     0.0\n",
       "53     0.0\n",
       "107    0.0\n",
       "25     0.0\n",
       "9      0.0\n",
       "24     0.0\n",
       "73     0.0\n",
       "32     0.0\n",
       "96     0.0\n",
       "28     0.0\n",
       "      ... \n",
       "80     0.0\n",
       "103    0.0\n",
       "92     0.0\n",
       "131    0.0\n",
       "132    0.0\n",
       "21     0.0\n",
       "7      0.0\n",
       "140    0.0\n",
       "118    0.0\n",
       "84     0.0\n",
       "18     0.0\n",
       "30     0.0\n",
       "136    0.0\n",
       "19     0.0\n",
       "3      0.0\n",
       "54     0.0\n",
       "128    0.0\n",
       "90     0.0\n",
       "139    0.0\n",
       "116    0.0\n",
       "81     0.0\n",
       "68     0.0\n",
       "74     0.0\n",
       "41     0.0\n",
       "76     0.0\n",
       "2      0.0\n",
       "93     0.0\n",
       "43     0.0\n",
       "70     0.0\n",
       "57     0.0\n",
       "Name: F7_32, Length: 141, dtype: float64"
      ]
     },
     "execution_count": 377,
     "metadata": {},
     "output_type": "execute_result"
    }
   ],
   "source": [
    "Xdataset[\"F7_32\"]"
   ]
  },
  {
   "cell_type": "code",
   "execution_count": 378,
   "metadata": {},
   "outputs": [
    {
     "ename": "AttributeError",
     "evalue": "'DataFrame' object has no attribute 'reshape'",
     "output_type": "error",
     "traceback": [
      "\u001b[0;31m---------------------------------------------------------------------------\u001b[0m",
      "\u001b[0;31mAttributeError\u001b[0m                            Traceback (most recent call last)",
      "\u001b[0;32m<ipython-input-378-31ef824b7ac4>\u001b[0m in \u001b[0;36m<module>\u001b[0;34m()\u001b[0m\n\u001b[1;32m      1\u001b[0m \u001b[0;31m# normalize the dataset\u001b[0m\u001b[0;34m\u001b[0m\u001b[0;34m\u001b[0m\u001b[0m\n\u001b[1;32m      2\u001b[0m \u001b[0mscaler\u001b[0m \u001b[0;34m=\u001b[0m \u001b[0mMinMaxScaler\u001b[0m\u001b[0;34m(\u001b[0m\u001b[0mfeature_range\u001b[0m\u001b[0;34m=\u001b[0m\u001b[0;34m(\u001b[0m\u001b[0;36m0\u001b[0m\u001b[0;34m,\u001b[0m \u001b[0;36m1\u001b[0m\u001b[0;34m)\u001b[0m\u001b[0;34m)\u001b[0m\u001b[0;34m\u001b[0m\u001b[0m\n\u001b[0;32m----> 3\u001b[0;31m \u001b[0mdataset2\u001b[0m\u001b[0;34m=\u001b[0m\u001b[0mXdataset\u001b[0m\u001b[0;34m.\u001b[0m\u001b[0mreshape\u001b[0m\u001b[0;34m(\u001b[0m\u001b[0mlen\u001b[0m\u001b[0;34m(\u001b[0m\u001b[0mdataset\u001b[0m\u001b[0;34m)\u001b[0m\u001b[0;34m,\u001b[0m\u001b[0;36m48\u001b[0m\u001b[0;34m,\u001b[0m\u001b[0;36m32\u001b[0m\u001b[0;34m)\u001b[0m\u001b[0;34m\u001b[0m\u001b[0m\n\u001b[0m\u001b[1;32m      4\u001b[0m \u001b[0;34m\u001b[0m\u001b[0m\n\u001b[1;32m      5\u001b[0m \u001b[0mdataset\u001b[0m \u001b[0;34m=\u001b[0m \u001b[0mscaler\u001b[0m\u001b[0;34m.\u001b[0m\u001b[0mfit_transform\u001b[0m\u001b[0;34m(\u001b[0m\u001b[0mdataset2\u001b[0m\u001b[0;34m)\u001b[0m\u001b[0;34m\u001b[0m\u001b[0m\n",
      "\u001b[0;32m~/.local/lib/python3.5/site-packages/pandas/core/generic.py\u001b[0m in \u001b[0;36m__getattr__\u001b[0;34m(self, name)\u001b[0m\n\u001b[1;32m   4374\u001b[0m             \u001b[0;32mif\u001b[0m \u001b[0mself\u001b[0m\u001b[0;34m.\u001b[0m\u001b[0m_info_axis\u001b[0m\u001b[0;34m.\u001b[0m\u001b[0m_can_hold_identifiers_and_holds_name\u001b[0m\u001b[0;34m(\u001b[0m\u001b[0mname\u001b[0m\u001b[0;34m)\u001b[0m\u001b[0;34m:\u001b[0m\u001b[0;34m\u001b[0m\u001b[0m\n\u001b[1;32m   4375\u001b[0m                 \u001b[0;32mreturn\u001b[0m \u001b[0mself\u001b[0m\u001b[0;34m[\u001b[0m\u001b[0mname\u001b[0m\u001b[0;34m]\u001b[0m\u001b[0;34m\u001b[0m\u001b[0m\n\u001b[0;32m-> 4376\u001b[0;31m             \u001b[0;32mreturn\u001b[0m \u001b[0mobject\u001b[0m\u001b[0;34m.\u001b[0m\u001b[0m__getattribute__\u001b[0m\u001b[0;34m(\u001b[0m\u001b[0mself\u001b[0m\u001b[0;34m,\u001b[0m \u001b[0mname\u001b[0m\u001b[0;34m)\u001b[0m\u001b[0;34m\u001b[0m\u001b[0m\n\u001b[0m\u001b[1;32m   4377\u001b[0m \u001b[0;34m\u001b[0m\u001b[0m\n\u001b[1;32m   4378\u001b[0m     \u001b[0;32mdef\u001b[0m \u001b[0m__setattr__\u001b[0m\u001b[0;34m(\u001b[0m\u001b[0mself\u001b[0m\u001b[0;34m,\u001b[0m \u001b[0mname\u001b[0m\u001b[0;34m,\u001b[0m \u001b[0mvalue\u001b[0m\u001b[0;34m)\u001b[0m\u001b[0;34m:\u001b[0m\u001b[0;34m\u001b[0m\u001b[0m\n",
      "\u001b[0;31mAttributeError\u001b[0m: 'DataFrame' object has no attribute 'reshape'"
     ]
    }
   ],
   "source": [
    "# normalize the dataset\n",
    "scaler = MinMaxScaler(feature_range=(0, 1))\n",
    "dataset2 = scaler.fit_transform(Xdataset)\n",
    "dataset=dataset2.reshape(len(dataset),48,32)\n"
   ]
  },
  {
   "cell_type": "code",
   "execution_count": 379,
   "metadata": {},
   "outputs": [
    {
     "data": {
      "text/plain": [
       "(141,)"
      ]
     },
     "execution_count": 379,
     "metadata": {},
     "output_type": "execute_result"
    }
   ],
   "source": [
    "Ydataset.shape"
   ]
  },
  {
   "cell_type": "code",
   "execution_count": 285,
   "metadata": {},
   "outputs": [
    {
     "data": {
      "image/png": "[encoded data removed]",
      "text/plain": [
       "<Figure size 432x288 with 1 Axes>"
      ]
     },
     "metadata": {},
     "output_type": "display_data"
    }
   ],
   "source": [
    "plt.plot(Ydataset)\n",
    "plt.show()"
   ]
  },
  {
   "cell_type": "code",
   "execution_count": 201,
   "metadata": {},
   "outputs": [
    {
     "data": {
      "text/plain": [
       "(141, 1536)"
      ]
     },
     "execution_count": 201,
     "metadata": {},
     "output_type": "execute_result"
    }
   ],
   "source": [
    "Xdataset.shape"
   ]
  },
  {
   "cell_type": "code",
   "execution_count": 202,
   "metadata": {},
   "outputs": [
    {
     "name": "stdout",
     "output_type": "stream",
     "text": [
      "141\n"
     ]
    }
   ],
   "source": [
    "print(len(Xdataset))"
   ]
  },
  {
   "cell_type": "code",
   "execution_count": 203,
   "metadata": {},
   "outputs": [
    {
     "name": "stdout",
     "output_type": "stream",
     "text": [
      "data: 122 19\n",
      "data: 108 33\n",
      "data: 141 141\n"
     ]
    }
   ],
   "source": [
    "# split into train and test sets\n",
    "train_size = int(len(dataset) * 0.77)\n",
    "test_size = len(dataset) - train_size\n",
    "trainX = dataset[0:train_size,:]\n",
    "testX= dataset[train_size:len(dataset),:]\n",
    "print('data:',len(train), len(test))\n",
    "print('data:',len(trainX), len(testX))\n",
    "print('data:',len(dataset), len(Ydataset))"
   ]
  },
  {
   "cell_type": "code",
   "execution_count": 290,
   "metadata": {},
   "outputs": [],
   "source": [
    "# reshape into X=t and Y=t+1\n",
    "look_width = 48\n",
    "look_height=32\n",
    "from sklearn import preprocessing \n",
    "from sklearn import utils\n",
    "from io import StringIO\n",
    "\n",
    "#trainX, trainY = create_dataset(train, look_back)\n",
    "#testX, testY = create_dataset(test, look_back)\n",
    "le = preprocessing.LabelEncoder()\n",
    "YN=utils.column_or_1d(Ydataset, warn=True)\n",
    "\n",
    "\n"
   ]
  },
  {
   "cell_type": "code",
   "execution_count": 287,
   "metadata": {},
   "outputs": [
    {
     "data": {
      "text/plain": [
       "7"
      ]
     },
     "execution_count": 287,
     "metadata": {},
     "output_type": "execute_result"
    }
   ],
   "source": [
    "YO=le.fit_transform(YN)\n",
    "YO\n",
    "len(le.classes_)"
   ]
  },
  {
   "cell_type": "code",
   "execution_count": null,
   "metadata": {},
   "outputs": [],
   "source": []
  },
  {
   "cell_type": "code",
   "execution_count": 206,
   "metadata": {},
   "outputs": [
    {
     "name": "stdout",
     "output_type": "stream",
     "text": [
      "data: 108 33\n"
     ]
    }
   ],
   "source": [
    "trainY = YO[0:train_size]\n",
    "testY=YO[train_size:len(YO)]\n",
    "print('data:',len(trainY), len(testY))\n"
   ]
  },
  {
   "cell_type": "code",
   "execution_count": 207,
   "metadata": {},
   "outputs": [],
   "source": [
    "# reshape input to be [samples, time steps, features]\n",
    "#trainX = numpy.reshape(trainX, (trainX.shape[0],  trainX.shape[2],2))\n",
    "#testX = numpy.reshape(testX, (testX.shape[0], 1, testX.shape[1]))"
   ]
  },
  {
   "cell_type": "code",
   "execution_count": 208,
   "metadata": {},
   "outputs": [
    {
     "name": "stdout",
     "output_type": "stream",
     "text": [
      "(108, 48, 32)\n",
      "(108,)\n",
      "(122, 1536)\n"
     ]
    }
   ],
   "source": [
    "print(trainX.shape)\n",
    "#dataset.shape\n",
    "print(trainY.shape)\n",
    "print(train.shape)"
   ]
  },
  {
   "cell_type": "code",
   "execution_count": 212,
   "metadata": {},
   "outputs": [
    {
     "data": {
      "text/plain": [
       "array([0, 6, 1, 6, 6, 6, 6, 6, 6, 6, 6, 6, 6, 6, 6, 6, 6, 1, 2, 6, 6, 6,\n",
       "       6, 6, 2, 3, 0, 2, 6, 4, 0, 3, 6])"
      ]
     },
     "execution_count": 212,
     "metadata": {},
     "output_type": "execute_result"
    }
   ],
   "source": [
    "testY"
   ]
  },
  {
   "cell_type": "code",
   "execution_count": 213,
   "metadata": {},
   "outputs": [],
   "source": [
    "seq_length = look_back\n",
    "Yclasses=7\n",
    "model = Sequential()\n",
    "model.add(Conv1D(64, 3, activation='relu', input_shape=(look_width,look_height)))\n",
    "model.add(Conv1D(64, 3, activation='relu'))\n",
    "model.add(MaxPooling1D(3))\n",
    "model.add(Conv1D(128, 3, activation='relu'))\n",
    "model.add(Conv1D(128, 3, activation='relu'))\n",
    "model.add(GlobalAveragePooling1D())\n",
    "model.add(Dropout(0.5))\n",
    "model.add(Dense(Yclasses, activation='softmax'))\n"
   ]
  },
  {
   "cell_type": "code",
   "execution_count": 214,
   "metadata": {},
   "outputs": [
    {
     "name": "stdout",
     "output_type": "stream",
     "text": [
      "Train on 108 samples, validate on 33 samples\n",
      "Epoch 1/20\n",
      "108/108 [==============================] - 0s 4ms/step - loss: 0.3794 - acc: 0.8426 - val_loss: 0.3027 - val_acc: 0.8571\n",
      "Epoch 2/20\n",
      "108/108 [==============================] - 0s 478us/step - loss: 0.3055 - acc: 0.8704 - val_loss: 0.2387 - val_acc: 0.9307\n",
      "Epoch 3/20\n",
      "108/108 [==============================] - 0s 501us/step - loss: 0.2488 - acc: 0.9153 - val_loss: 0.2032 - val_acc: 0.9481\n",
      "Epoch 4/20\n",
      "108/108 [==============================] - 0s 480us/step - loss: 0.2328 - acc: 0.9246 - val_loss: 0.1639 - val_acc: 0.9567\n",
      "Epoch 5/20\n",
      "108/108 [==============================] - 0s 492us/step - loss: 0.2045 - acc: 0.9365 - val_loss: 0.1492 - val_acc: 0.9524\n",
      "Epoch 6/20\n",
      "108/108 [==============================] - 0s 479us/step - loss: 0.1862 - acc: 0.9378 - val_loss: 0.1471 - val_acc: 0.9524\n",
      "Epoch 7/20\n",
      "108/108 [==============================] - 0s 485us/step - loss: 0.1773 - acc: 0.9378 - val_loss: 0.1378 - val_acc: 0.9524\n",
      "Epoch 8/20\n",
      "108/108 [==============================] - 0s 500us/step - loss: 0.1610 - acc: 0.9378 - val_loss: 0.1337 - val_acc: 0.9524\n",
      "Epoch 9/20\n",
      "108/108 [==============================] - 0s 500us/step - loss: 0.1551 - acc: 0.9471 - val_loss: 0.1296 - val_acc: 0.9524\n",
      "Epoch 10/20\n",
      "108/108 [==============================] - 0s 495us/step - loss: 0.1330 - acc: 0.9471 - val_loss: 0.1250 - val_acc: 0.9567\n",
      "Epoch 11/20\n",
      "108/108 [==============================] - 0s 484us/step - loss: 0.1284 - acc: 0.9537 - val_loss: 0.1181 - val_acc: 0.9567\n",
      "Epoch 12/20\n",
      "108/108 [==============================] - 0s 490us/step - loss: 0.1221 - acc: 0.9577 - val_loss: 0.1241 - val_acc: 0.9567\n",
      "Epoch 13/20\n",
      "108/108 [==============================] - 0s 492us/step - loss: 0.1178 - acc: 0.9577 - val_loss: 0.1111 - val_acc: 0.9610\n",
      "Epoch 14/20\n",
      "108/108 [==============================] - 0s 512us/step - loss: 0.1035 - acc: 0.9577 - val_loss: 0.1134 - val_acc: 0.9654\n",
      "Epoch 15/20\n",
      "108/108 [==============================] - 0s 512us/step - loss: 0.0977 - acc: 0.9722 - val_loss: 0.1108 - val_acc: 0.9610\n",
      "Epoch 16/20\n",
      "108/108 [==============================] - 0s 498us/step - loss: 0.1019 - acc: 0.9603 - val_loss: 0.1050 - val_acc: 0.9610\n",
      "Epoch 17/20\n",
      "108/108 [==============================] - 0s 490us/step - loss: 0.1087 - acc: 0.9603 - val_loss: 0.1191 - val_acc: 0.9524\n",
      "Epoch 18/20\n",
      "108/108 [==============================] - 0s 491us/step - loss: 0.0801 - acc: 0.9722 - val_loss: 0.1024 - val_acc: 0.9654\n",
      "Epoch 19/20\n",
      "108/108 [==============================] - 0s 497us/step - loss: 0.0765 - acc: 0.9656 - val_loss: 0.1083 - val_acc: 0.9654\n",
      "Epoch 20/20\n",
      "108/108 [==============================] - 0s 503us/step - loss: 0.0798 - acc: 0.9709 - val_loss: 0.0912 - val_acc: 0.9697\n"
     ]
    },
    {
     "data": {
      "text/plain": [
       "<keras.callbacks.History at 0x7fccc368d518>"
      ]
     },
     "execution_count": 214,
     "metadata": {},
     "output_type": "execute_result"
    }
   ],
   "source": [
    "trainYO = to_categorical(trainY, num_classes=Yclasses)\n",
    "testYO = to_categorical(testY, num_classes=Yclasses)\n",
    "\n",
    "#model.compile(loss='categorical_crossentropy',\n",
    "#              optimizer='adam',\n",
    "#              metrics=['accuracy'])\n",
    "model.compile(loss='binary_crossentropy', optimizer='adam', metrics=['accuracy'])\n",
    "model.fit(trainX, trainYO,validation_data=(testX,testYO), batch_size=16, epochs=20)\n"
   ]
  },
  {
   "cell_type": "code",
   "execution_count": 215,
   "metadata": {},
   "outputs": [
    {
     "name": "stdout",
     "output_type": "stream",
     "text": [
      "33/33 [==============================] - 0s 117us/step\n",
      "[0.09122767661006725, 0.9696969696969697]\n"
     ]
    }
   ],
   "source": [
    "score = model.evaluate(testX, testYO)\n",
    "print(score)"
   ]
  },
  {
   "cell_type": "code",
   "execution_count": 216,
   "metadata": {},
   "outputs": [
    {
     "name": "stdout",
     "output_type": "stream",
     "text": [
      "108/108 [==============================] - 0s 77us/step\n",
      "Test loss: 0.04711165141176294\n",
      "Test accuracy: 0.9814814969345376\n"
     ]
    }
   ],
   "source": [
    "score = model.evaluate(trainX, trainYO, verbose=1)\n",
    "\n",
    "print('Test loss:', score[0])\n",
    "print('Test accuracy:', score[1])"
   ]
  },
  {
   "cell_type": "code",
   "execution_count": 217,
   "metadata": {},
   "outputs": [
    {
     "name": "stdout",
     "output_type": "stream",
     "text": [
      "0.9696969696969697\n",
      "0.9629629629629629\n",
      "False\n"
     ]
    }
   ],
   "source": [
    "# Keras reported accuracy:\n",
    "score = model.evaluate(testX,testYO, verbose=0) \n",
    "print(score[1])\n",
    "# 0.98580000000000001\n",
    "\n",
    "# Actual accuracy calculated manually:\n",
    "predY= model.predict(trainX)\n",
    "acc = sum([numpy.argmax(trainYO[i])==numpy.argmax(predY[i]) for i in range(len(trainYO))])/len(trainYO)\n",
    "print(acc)\n",
    "# 0.98580000000000001\n",
    "\n",
    "print(score[1]==acc)\n",
    "# True    "
   ]
  },
  {
   "cell_type": "code",
   "execution_count": 263,
   "metadata": {
    "scrolled": false
   },
   "outputs": [],
   "source": [
    "# make predictions\n",
    "trainPredict1 = model.predict(trainX)\n",
    "testPredict1 = model.predict(testX)"
   ]
  },
  {
   "cell_type": "code",
   "execution_count": 267,
   "metadata": {},
   "outputs": [
    {
     "name": "stdout",
     "output_type": "stream",
     "text": [
      "(108, 48, 32)\n",
      "(1, 48, 32)\n"
     ]
    },
    {
     "data": {
      "text/plain": [
       "array([[[1.23089726, 0.66898165, 0.85799118, ..., 0.17556291,\n",
       "         0.05176746, 0.        ],\n",
       "        [2.19069742, 6.25536914, 5.50152958, ..., 1.09628015,\n",
       "         1.48067688, 0.        ],\n",
       "        [1.22801213, 1.39879001, 5.08663197, ..., 1.27187143,\n",
       "         0.84706078, 0.        ],\n",
       "        ...,\n",
       "        [2.3947342 , 1.47194882, 0.35347227, ..., 0.12386816,\n",
       "         0.03146046, 0.        ],\n",
       "        [2.65686878, 1.07038819, 0.52281498, ..., 0.14667365,\n",
       "         0.01805834, 0.        ],\n",
       "        [0.4852845 , 0.77797663, 0.18853634, ..., 0.1193772 ,\n",
       "         0.12297179, 0.        ]]])"
      ]
     },
     "execution_count": 267,
     "metadata": {},
     "output_type": "execute_result"
    }
   ],
   "source": [
    "print(trainX.shape)\n",
    "mx1=trainX[1:2,:]\n",
    "print(mx1.shape)\n",
    "mx1\n"
   ]
  },
  {
   "cell_type": "code",
   "execution_count": 299,
   "metadata": {},
   "outputs": [
    {
     "data": {
      "text/html": [
       "<div>\n",
       "<style scoped>\n",
       "    .dataframe tbody tr th:only-of-type {\n",
       "        vertical-align: middle;\n",
       "    }\n",
       "\n",
       "    .dataframe tbody tr th {\n",
       "        vertical-align: top;\n",
       "    }\n",
       "\n",
       "    .dataframe thead th {\n",
       "        text-align: right;\n",
       "    }\n",
       "</style>\n",
       "<table border=\"1\" class=\"dataframe\">\n",
       "  <thead>\n",
       "    <tr style=\"text-align: right;\">\n",
       "      <th></th>\n",
       "      <th>1</th>\n",
       "      <th>4.4</th>\n",
       "      <th>99</th>\n",
       "      <th>2</th>\n",
       "      <th>4.5</th>\n",
       "      <th>200</th>\n",
       "      <th>3</th>\n",
       "      <th>4.7</th>\n",
       "      <th>65    4</th>\n",
       "      <th>3.2</th>\n",
       "      <th>...</th>\n",
       "      <th>99.2</th>\n",
       "      <th>2.2</th>\n",
       "      <th>4.5.2</th>\n",
       "      <th>200.2</th>\n",
       "      <th>3.2</th>\n",
       "      <th>4.7.2</th>\n",
       "      <th>65    4.1</th>\n",
       "      <th>3.2.2</th>\n",
       "      <th>140.1</th>\n",
       "      <th>Unnamed: 31</th>\n",
       "    </tr>\n",
       "  </thead>\n",
       "  <tbody>\n",
       "  </tbody>\n",
       "</table>\n",
       "<p>0 rows × 32 columns</p>\n",
       "</div>"
      ],
      "text/plain": [
       "Empty DataFrame\n",
       "Columns: [1, 4.4, 99,  2, 4.5, 200,     3, 4.7, 65    4, 3.2, 140,     1, 4.4.1, 99.1,  2.1, 4.5.1, 200.1,     3.1, 4.7.1, 3.2.1,     1.1, 4.4.2, 99.2,  2.2, 4.5.2, 200.2,     3.2, 4.7.2, 65    4.1, 3.2.2, 140.1, Unnamed: 31]\n",
       "Index: []\n",
       "\n",
       "[0 rows x 32 columns]"
      ]
     },
     "execution_count": 299,
     "metadata": {},
     "output_type": "execute_result"
    }
   ],
   "source": [
    "#col1;col2;col3;col21;col22;col23;col31;col32;co3l3;col321;col322;col323;col41;col42;col43;col421;col422;col423;col431;col432;co43l3;co4l321;col4322;col4323;\n",
    "TESTDATA = StringIO(\"\"\"1;4.4;99; 2;4.5;200;    3;4.7;65    4;3.2;140;    1;4.4;99; 2;4.5;200;    3;4.7;3.2;    1;4.4;99; 2;4.5;200;    3;4.7;65    4;3.2;140;\n",
    "    \"\"\")\n",
    "mdf = pandas.read_csv(TESTDATA, sep=\";\")\n",
    "mdf"
   ]
  },
  {
   "cell_type": "code",
   "execution_count": 335,
   "metadata": {},
   "outputs": [
    {
     "name": "stdout",
     "output_type": "stream",
     "text": [
      "    A   B   C\n",
      "0   1   2   3\n",
      "1  11  22  33\n"
     ]
    },
    {
     "data": {
      "text/html": [
       "<div>\n",
       "<style scoped>\n",
       "    .dataframe tbody tr th:only-of-type {\n",
       "        vertical-align: middle;\n",
       "    }\n",
       "\n",
       "    .dataframe tbody tr th {\n",
       "        vertical-align: top;\n",
       "    }\n",
       "\n",
       "    .dataframe thead th {\n",
       "        text-align: right;\n",
       "    }\n",
       "</style>\n",
       "<table border=\"1\" class=\"dataframe\">\n",
       "  <thead>\n",
       "    <tr style=\"text-align: right;\">\n",
       "      <th></th>\n",
       "      <th>A</th>\n",
       "      <th>B</th>\n",
       "      <th>C</th>\n",
       "    </tr>\n",
       "  </thead>\n",
       "  <tbody>\n",
       "    <tr>\n",
       "      <th>0</th>\n",
       "      <td>1</td>\n",
       "      <td>2</td>\n",
       "      <td>3</td>\n",
       "    </tr>\n",
       "  </tbody>\n",
       "</table>\n",
       "</div>"
      ],
      "text/plain": [
       "   A  B  C\n",
       "0  1  2  3"
      ]
     },
     "execution_count": 335,
     "metadata": {},
     "output_type": "execute_result"
    }
   ],
   "source": [
    "TD2=StringIO(\"\"\"A;B;C\n",
    "1;2;3\n",
    "11;22;33\n",
    "\"\"\")\n",
    "mdf = pandas.read_csv(TD2, sep=\";\")\n",
    "print(mdf)\n",
    "mdf[0:1]"
   ]
  },
  {
   "cell_type": "code",
   "execution_count": 367,
   "metadata": {},
   "outputs": [
    {
     "data": {
      "text/plain": [
       "array([[[1., 2., 3., 4., 5., 6., 7., 8., 9., 1.],\n",
       "        [2., 3., 5., 7., 8., 8., 8., 8., 8., 9.]]])"
      ]
     },
     "execution_count": 367,
     "metadata": {},
     "output_type": "execute_result"
    }
   ],
   "source": [
    "mdf=numpy.fromstring(\"1,2,3,4,5,6,7,8,9,1,2,3,5,7,8,8,8,8,8,9\", sep=',')\n",
    "#ndf=utils.column_or_1d(mdf, warn=True)\n",
    "n2=mdf.reshape(1,2,-1)\n",
    "#n3=n2.reshape(1,1,19)\n",
    "n2"
   ]
  },
  {
   "cell_type": "code",
   "execution_count": 368,
   "metadata": {},
   "outputs": [
    {
     "ename": "ValueError",
     "evalue": "Error when checking : expected conv1d_25_input to have shape (48, 32) but got array with shape (2, 10)",
     "output_type": "error",
     "traceback": [
      "\u001b[0;31m---------------------------------------------------------------------------\u001b[0m",
      "\u001b[0;31mValueError\u001b[0m                                Traceback (most recent call last)",
      "\u001b[0;32m<ipython-input-368-9f16eff18af4>\u001b[0m in \u001b[0;36m<module>\u001b[0;34m()\u001b[0m\n\u001b[0;32m----> 1\u001b[0;31m \u001b[0mmp1\u001b[0m\u001b[0;34m=\u001b[0m\u001b[0mmodel\u001b[0m\u001b[0;34m.\u001b[0m\u001b[0mpredict\u001b[0m\u001b[0;34m(\u001b[0m\u001b[0mn2\u001b[0m\u001b[0;34m)\u001b[0m\u001b[0;34m\u001b[0m\u001b[0m\n\u001b[0m\u001b[1;32m      2\u001b[0m \u001b[0mprint\u001b[0m\u001b[0;34m(\u001b[0m\u001b[0mmp1\u001b[0m\u001b[0;34m)\u001b[0m\u001b[0;34m\u001b[0m\u001b[0m\n",
      "\u001b[0;32m~/.local/lib/python3.5/site-packages/keras/models.py\u001b[0m in \u001b[0;36mpredict\u001b[0;34m(self, x, batch_size, verbose, steps)\u001b[0m\n\u001b[1;32m   1062\u001b[0m             \u001b[0mself\u001b[0m\u001b[0;34m.\u001b[0m\u001b[0mbuild\u001b[0m\u001b[0;34m(\u001b[0m\u001b[0;34m)\u001b[0m\u001b[0;34m\u001b[0m\u001b[0m\n\u001b[1;32m   1063\u001b[0m         return self.model.predict(x, batch_size=batch_size, verbose=verbose,\n\u001b[0;32m-> 1064\u001b[0;31m                                   steps=steps)\n\u001b[0m\u001b[1;32m   1065\u001b[0m \u001b[0;34m\u001b[0m\u001b[0m\n\u001b[1;32m   1066\u001b[0m     \u001b[0;32mdef\u001b[0m \u001b[0mpredict_on_batch\u001b[0m\u001b[0;34m(\u001b[0m\u001b[0mself\u001b[0m\u001b[0;34m,\u001b[0m \u001b[0mx\u001b[0m\u001b[0;34m)\u001b[0m\u001b[0;34m:\u001b[0m\u001b[0;34m\u001b[0m\u001b[0m\n",
      "\u001b[0;32m~/.local/lib/python3.5/site-packages/keras/engine/training.py\u001b[0m in \u001b[0;36mpredict\u001b[0;34m(self, x, batch_size, verbose, steps)\u001b[0m\n\u001b[1;32m   1815\u001b[0m         x = _standardize_input_data(x, self._feed_input_names,\n\u001b[1;32m   1816\u001b[0m                                     \u001b[0mself\u001b[0m\u001b[0;34m.\u001b[0m\u001b[0m_feed_input_shapes\u001b[0m\u001b[0;34m,\u001b[0m\u001b[0;34m\u001b[0m\u001b[0m\n\u001b[0;32m-> 1817\u001b[0;31m                                     check_batch_axis=False)\n\u001b[0m\u001b[1;32m   1818\u001b[0m         \u001b[0;32mif\u001b[0m \u001b[0mself\u001b[0m\u001b[0;34m.\u001b[0m\u001b[0mstateful\u001b[0m\u001b[0;34m:\u001b[0m\u001b[0;34m\u001b[0m\u001b[0m\n\u001b[1;32m   1819\u001b[0m             \u001b[0;32mif\u001b[0m \u001b[0mx\u001b[0m\u001b[0;34m[\u001b[0m\u001b[0;36m0\u001b[0m\u001b[0;34m]\u001b[0m\u001b[0;34m.\u001b[0m\u001b[0mshape\u001b[0m\u001b[0;34m[\u001b[0m\u001b[0;36m0\u001b[0m\u001b[0;34m]\u001b[0m \u001b[0;34m>\u001b[0m \u001b[0mbatch_size\u001b[0m \u001b[0;32mand\u001b[0m \u001b[0mx\u001b[0m\u001b[0;34m[\u001b[0m\u001b[0;36m0\u001b[0m\u001b[0;34m]\u001b[0m\u001b[0;34m.\u001b[0m\u001b[0mshape\u001b[0m\u001b[0;34m[\u001b[0m\u001b[0;36m0\u001b[0m\u001b[0;34m]\u001b[0m \u001b[0;34m%\u001b[0m \u001b[0mbatch_size\u001b[0m \u001b[0;34m!=\u001b[0m \u001b[0;36m0\u001b[0m\u001b[0;34m:\u001b[0m\u001b[0;34m\u001b[0m\u001b[0m\n",
      "\u001b[0;32m~/.local/lib/python3.5/site-packages/keras/engine/training.py\u001b[0m in \u001b[0;36m_standardize_input_data\u001b[0;34m(data, names, shapes, check_batch_axis, exception_prefix)\u001b[0m\n\u001b[1;32m    121\u001b[0m                             \u001b[0;34m': expected '\u001b[0m \u001b[0;34m+\u001b[0m \u001b[0mnames\u001b[0m\u001b[0;34m[\u001b[0m\u001b[0mi\u001b[0m\u001b[0;34m]\u001b[0m \u001b[0;34m+\u001b[0m \u001b[0;34m' to have shape '\u001b[0m \u001b[0;34m+\u001b[0m\u001b[0;34m\u001b[0m\u001b[0m\n\u001b[1;32m    122\u001b[0m                             \u001b[0mstr\u001b[0m\u001b[0;34m(\u001b[0m\u001b[0mshape\u001b[0m\u001b[0;34m)\u001b[0m \u001b[0;34m+\u001b[0m \u001b[0;34m' but got array with shape '\u001b[0m \u001b[0;34m+\u001b[0m\u001b[0;34m\u001b[0m\u001b[0m\n\u001b[0;32m--> 123\u001b[0;31m                             str(data_shape))\n\u001b[0m\u001b[1;32m    124\u001b[0m     \u001b[0;32mreturn\u001b[0m \u001b[0mdata\u001b[0m\u001b[0;34m\u001b[0m\u001b[0m\n\u001b[1;32m    125\u001b[0m \u001b[0;34m\u001b[0m\u001b[0m\n",
      "\u001b[0;31mValueError\u001b[0m: Error when checking : expected conv1d_25_input to have shape (48, 32) but got array with shape (2, 10)"
     ]
    }
   ],
   "source": [
    "mp1=model.predict(n2)\n",
    "print(mp1)\n"
   ]
  },
  {
   "cell_type": "code",
   "execution_count": 380,
   "metadata": {},
   "outputs": [
    {
     "name": "stdout",
     "output_type": "stream",
     "text": [
      "mx1 (1, 48, 32)\n",
      "[[9.9245280e-01 2.4215181e-04 4.9515753e-03 1.0738717e-05 4.1588599e-05\n",
      "  8.6684158e-06 2.2923348e-03]]\n",
      "[0]\n"
     ]
    }
   ],
   "source": [
    "\n",
    "mx1=testX[0:1,:]\n",
    "print('mx1',mx1.shape)\n",
    "mp1=model.predict(mx1)\n",
    "print(mp1)\n",
    "tmp1=numpy.argmax(mp1,1)\n",
    "print(tmp1)\n"
   ]
  },
  {
   "cell_type": "code",
   "execution_count": 277,
   "metadata": {},
   "outputs": [
    {
     "data": {
      "text/plain": [
       "array([ 0,  0,  0,  0,  0,  0,  0,  0,  0,  0,  0,  0,  0,  0,  0,  0,  0,\n",
       "        0, -1,  0,  0,  0,  0, -2,  3,  2,  0,  4,  0,  1,  0,  2,  0])"
      ]
     },
     "execution_count": 277,
     "metadata": {},
     "output_type": "execute_result"
    }
   ],
   "source": [
    "#softmax(trainPredict)\n",
    "trainPredict=numpy.argmax(trainPredict1,1)\n",
    "testPredict=numpy.argmax(testPredict1,1)\n",
    "diffY=testPredict-testY\n",
    "diffY\n",
    "#len(testPredict)"
   ]
  },
  {
   "cell_type": "code",
   "execution_count": 278,
   "metadata": {},
   "outputs": [
    {
     "data": {
      "text/plain": [
       "array([0, 6, 1, 6, 6, 6, 6, 6, 6, 6, 6, 6, 6, 6, 6, 6, 6, 1, 1, 6, 6, 6,\n",
       "       6, 4, 5, 5, 0, 6, 6, 5, 0, 5, 6])"
      ]
     },
     "execution_count": 278,
     "metadata": {},
     "output_type": "execute_result"
    }
   ],
   "source": [
    "testPredict"
   ]
  },
  {
   "cell_type": "code",
   "execution_count": 282,
   "metadata": {},
   "outputs": [
    {
     "data": {
      "text/plain": [
       "array([0, 6, 1, 6, 6, 6, 6, 6, 6, 6, 6, 6, 6, 6, 6, 6, 6, 1, 2, 6, 6, 6,\n",
       "       6, 6, 2, 3, 0, 2, 6, 4, 0, 3, 6])"
      ]
     },
     "execution_count": 282,
     "metadata": {},
     "output_type": "execute_result"
    }
   ],
   "source": [
    "testY"
   ]
  },
  {
   "cell_type": "code",
   "execution_count": 221,
   "metadata": {},
   "outputs": [
    {
     "data": {
      "image/png": "[encoded data removed]",
      "text/plain": [
       "<Figure size 432x288 with 1 Axes>"
      ]
     },
     "metadata": {},
     "output_type": "display_data"
    }
   ],
   "source": [
    "plt.plot(diffY)\n",
    "plt.show()"
   ]
  },
  {
   "cell_type": "code",
   "execution_count": 222,
   "metadata": {},
   "outputs": [],
   "source": [
    "# invert predictions\n",
    "#trainPredict = scaler.inverse_transform(trainPredict)\n",
    "#trainY = scaler.inverse_transform([trainY])\n",
    "#testPredict = scaler.inverse_transform(testPredict)\n",
    "#testY = scaler.inverse_transform([testY])"
   ]
  },
  {
   "cell_type": "code",
   "execution_count": 223,
   "metadata": {},
   "outputs": [
    {
     "name": "stdout",
     "output_type": "stream",
     "text": [
      "Train Score: 0.491 RMSE\n",
      "Test Score: 1.087 RMSE\n"
     ]
    }
   ],
   "source": [
    "# calculate root mean squared error\n",
    "trainScore = math.sqrt(mean_squared_error(trainY, trainPredict))\n",
    "print('Train Score: %.3f RMSE' % (trainScore))\n",
    "testScore = math.sqrt(mean_squared_error(testY, testPredict))\n",
    "print('Test Score: %.3f RMSE' % (testScore))"
   ]
  },
  {
   "cell_type": "code",
   "execution_count": 234,
   "metadata": {},
   "outputs": [
    {
     "name": "stdout",
     "output_type": "stream",
     "text": [
      "(141, 48, 32)\n"
     ]
    },
    {
     "ename": "ValueError",
     "evalue": "could not broadcast input array from shape (108) into shape (81,32)",
     "output_type": "error",
     "traceback": [
      "\u001b[0;31m---------------------------------------------------------------------------\u001b[0m",
      "\u001b[0;31mValueError\u001b[0m                                Traceback (most recent call last)",
      "\u001b[0;32m<ipython-input-234-44853d77e2ce>\u001b[0m in \u001b[0;36m<module>\u001b[0;34m()\u001b[0m\n\u001b[1;32m      3\u001b[0m \u001b[0mtrainPredictPlot\u001b[0m\u001b[0;34m[\u001b[0m\u001b[0;34m:\u001b[0m\u001b[0;34m,\u001b[0m \u001b[0;34m:\u001b[0m\u001b[0;34m]\u001b[0m \u001b[0;34m=\u001b[0m \u001b[0mnumpy\u001b[0m\u001b[0;34m.\u001b[0m\u001b[0mnan\u001b[0m\u001b[0;34m\u001b[0m\u001b[0m\n\u001b[1;32m      4\u001b[0m \u001b[0mprint\u001b[0m\u001b[0;34m(\u001b[0m\u001b[0mtrainPredictPlot\u001b[0m\u001b[0;34m.\u001b[0m\u001b[0mshape\u001b[0m\u001b[0;34m)\u001b[0m\u001b[0;34m\u001b[0m\u001b[0m\n\u001b[0;32m----> 5\u001b[0;31m \u001b[0mtrainPredictPlot\u001b[0m\u001b[0;34m[\u001b[0m\u001b[0mlook_back\u001b[0m\u001b[0;34m:\u001b[0m\u001b[0mlen\u001b[0m\u001b[0;34m(\u001b[0m\u001b[0mtrainPredict\u001b[0m\u001b[0;34m)\u001b[0m\u001b[0;34m+\u001b[0m\u001b[0mlook_back\u001b[0m\u001b[0;34m,\u001b[0m \u001b[0;36m0\u001b[0m\u001b[0;34m]\u001b[0m \u001b[0;34m=\u001b[0m \u001b[0mtrainPredict\u001b[0m\u001b[0;34m\u001b[0m\u001b[0m\n\u001b[0m\u001b[1;32m      6\u001b[0m \u001b[0;31m# shift test predictions for plotting\u001b[0m\u001b[0;34m\u001b[0m\u001b[0;34m\u001b[0m\u001b[0m\n\u001b[1;32m      7\u001b[0m \u001b[0mtestPredictPlot\u001b[0m \u001b[0;34m=\u001b[0m \u001b[0mnumpy\u001b[0m\u001b[0;34m.\u001b[0m\u001b[0mempty_like\u001b[0m\u001b[0;34m(\u001b[0m\u001b[0mdataset\u001b[0m\u001b[0;34m)\u001b[0m\u001b[0;34m\u001b[0m\u001b[0m\n",
      "\u001b[0;31mValueError\u001b[0m: could not broadcast input array from shape (108) into shape (81,32)"
     ]
    }
   ],
   "source": [
    "# shift train predictions for plotting\n",
    "trainPredictPlot = numpy.empty_like(dataset)\n",
    "trainPredictPlot[:, :] = numpy.nan\n",
    "print(trainPredictPlot.shape)\n",
    "trainPredictPlot[look_back:len(trainPredict)+look_back, 0] = trainPredict\n",
    "# shift test predictions for plotting\n",
    "testPredictPlot = numpy.empty_like(dataset)\n",
    "testPredictPlot[:, :] = numpy.nan\n",
    "testPredictPlot[len(trainPredict)+(look_back*2)-7:len(dataset)-9, 0] = testPredict\n",
    "# plot baseline and predictions\n",
    "#plt.plot(scaler.inverse_transform(dataset),label=\"set\")\n",
    "plt.plot(trainPredictPlot,label=\"train\")\n",
    "plt.plot(testPredictPlot,label=\"test\")\n",
    "plt.legend()\n",
    "plt.show()"
   ]
  },
  {
   "cell_type": "code",
   "execution_count": 239,
   "metadata": {},
   "outputs": [
    {
     "data": {
      "text/plain": [
       "(141,)"
      ]
     },
     "execution_count": 239,
     "metadata": {},
     "output_type": "execute_result"
    }
   ],
   "source": [
    "# shift train predictions for plotting\n",
    "trainPredictPlot = numpy.empty_like(Ydataset)\n",
    "trainPredictPlot[:] = numpy.nan\n",
    "wws=2;\n",
    "trainPredictPlot[wws:len(trainPredict)+wws] = trainPredict\n",
    "\n",
    "# shift test predictions for plotting\n",
    "testPredictPlot = numpy.empty_like(Ydataset)\n",
    "testPredictPlot[:] = numpy.nan\n",
    "testPredictPlot.shape"
   ]
  },
  {
   "cell_type": "code",
   "execution_count": 244,
   "metadata": {},
   "outputs": [
    {
     "data": {
      "image/png": "[encoded data removed]",
      "text/plain": [
       "<Figure size 432x288 with 2 Axes>"
      ]
     },
     "metadata": {},
     "output_type": "display_data"
    }
   ],
   "source": [
    "testPredictPlot[len(trainPredict):len(Ydataset)] = testPredict\n",
    "# plot baseline and predictions\n",
    "\n",
    "fig, ax1 = plt.subplots()\n",
    "\n",
    "\n",
    "ax2 = ax1.twinx()\n",
    "#ax1.plot(trainY,label=\"set\")\n",
    "ax1.plot(trainPredictPlot,label=\"train\")\n",
    "ax2.plot(testPredictPlot,label=\"testm\")\n",
    "#plt.figure(figsize=(15,3))\n",
    "\n",
    "plt.legend()\n",
    "plt.show()"
   ]
  },
  {
   "cell_type": "code",
   "execution_count": null,
   "metadata": {},
   "outputs": [],
   "source": []
  },
  {
   "cell_type": "code",
   "execution_count": null,
   "metadata": {},
   "outputs": [],
   "source": []
  },
  {
   "cell_type": "code",
   "execution_count": null,
   "metadata": {},
   "outputs": [],
   "source": []
  },
  {
   "cell_type": "code",
   "execution_count": null,
   "metadata": {},
   "outputs": [],
   "source": []
  }
 ],
 "metadata": {
  "kernelspec": {
   "display_name": "Python 3",
   "language": "python",
   "name": "python3"
  },
  "language_info": {
   "codemirror_mode": {
    "name": "ipython",
    "version": 3
   },
   "file_extension": ".py",
   "mimetype": "text/x-python",
   "name": "python",
   "nbconvert_exporter": "python",
   "pygments_lexer": "ipython3",
   "version": "3.5.2"
  }
 },
 "nbformat": 4,
 "nbformat_minor": 2
}
