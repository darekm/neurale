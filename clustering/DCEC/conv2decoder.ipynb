{
 "cells": [
  {
   "cell_type": "code",
   "execution_count": 84,
   "metadata": {},
   "outputs": [],
   "source": [
    "import numpy\n",
    "import matplotlib.pyplot as plt\n",
    "import pandas\n",
    "import math\n",
    "from tensorflow.keras.models import Sequential\n",
    "from tensorflow.keras.layers import Dense,Activation,Dropout\n",
    "from tensorflow.keras.layers import LSTM,Reshape,Layer\n",
    "from tensorflow.keras.layers import Embedding\n",
    "from tensorflow.keras.layers import Conv1D, GlobalAveragePooling1D, MaxPooling1D\n",
    "from tensorflow.keras.layers import Conv2D,Flatten,ConvLSTM2D,Conv1D\n",
    "import tensorflow as tf\n",
    "from tensorflow.keras import backend as K\n",
    "\n",
    "from tensorflow.keras.backend import argmax\n",
    "from sklearn.preprocessing import MinMaxScaler\n",
    "from sklearn.metrics import mean_squared_error\n",
    "\n",
    "from tensorflow.keras.utils import to_categorical"
   ]
  },
  {
   "cell_type": "code",
   "execution_count": 85,
   "metadata": {},
   "outputs": [],
   "source": [
    "# convert an array of values into a dataset matrix\n",
    "def create_dataset(dataset, look_back=1):\n",
    "    dataX, dataY = [], []\n",
    "    for i in range(len(dataset)-look_back-1):\n",
    "        a = dataset[i:(i+look_back), 0]\n",
    "        dataY.append(dataset[i + look_back, 0]) \n",
    "        dataX.append(a)\n",
    "    return numpy.array(dataX), numpy.array(dataY)"
   ]
  },
  {
   "cell_type": "code",
   "execution_count": 86,
   "metadata": {},
   "outputs": [],
   "source": [
    "def create_resultset(dataset, look_back=1):\n",
    "    dataX, dataY = [], []\n",
    "    for i in range(len(dataset)-look_back-1):\n",
    "        dataY.append(dataset.iloc[i + look_back, 0]) \n",
    "    return  numpy.array(dataY)"
   ]
  },
  {
   "cell_type": "code",
   "execution_count": 87,
   "metadata": {},
   "outputs": [
    {
     "name": "stdout",
     "output_type": "stream",
     "text": [
      "MM (4030, 1)\n",
      "YPRED: (4030, 1)\n"
     ]
    }
   ],
   "source": [
    "import datasets \n",
    "from datasets import load_ypred, load_usps, load_mrec\n",
    "\n",
    "Y=load_ypred()\n",
    "\n",
    "#Y.shape\n",
    "Ysize=len(numpy.bincount(Y.iloc[:,0]))\n"
   ]
  },
  {
   "cell_type": "code",
   "execution_count": 88,
   "metadata": {},
   "outputs": [
    {
     "name": "stdout",
     "output_type": "stream",
     "text": [
      "len 4030\n"
     ]
    },
    {
     "data": {
      "text/plain": [
       "array([[0, 0, 0, ..., 0, 0, 1],\n",
       "       [0, 0, 0, ..., 0, 0, 9],\n",
       "       [0, 0, 0, ..., 0, 0, 2],\n",
       "       ...,\n",
       "       [0, 0, 0, ..., 0, 0, 1],\n",
       "       [0, 0, 0, ..., 0, 0, 9],\n",
       "       [0, 0, 0, ..., 0, 0, 3]], dtype=int32)"
      ]
     },
     "execution_count": 88,
     "metadata": {},
     "output_type": "execute_result"
    }
   ],
   "source": [
    "from tensorflow.keras.preprocessing.sequence import pad_sequences\n",
    "print('len',len(Y))\n",
    "ZZ=pad_sequences(numpy.array(Y),maxlen=10)\n",
    "ZZ"
   ]
  },
  {
   "cell_type": "code",
   "execution_count": 89,
   "metadata": {},
   "outputs": [
    {
     "data": {
      "text/plain": [
       "(3, 1)"
      ]
     },
     "execution_count": 89,
     "metadata": {},
     "output_type": "execute_result"
    }
   ],
   "source": [
    "ww=numpy.array([[1],[2],[2]])\n",
    "ww.shape"
   ]
  },
  {
   "cell_type": "code",
   "execution_count": 90,
   "metadata": {},
   "outputs": [
    {
     "data": {
      "text/plain": [
       "array([219, 491, 466, 208, 378, 268, 298,  82,  64, 448, 128, 240, 152,\n",
       "       266, 196, 126])"
      ]
     },
     "execution_count": 90,
     "metadata": {},
     "output_type": "execute_result"
    }
   ],
   "source": [
    "from sklearn.preprocessing import MinMaxScaler\n",
    "\n",
    "scaler = MinMaxScaler(feature_range=(0, 0.999))\n",
    "YM = scaler.fit_transform(Y)\n",
    "#YM=Y.loc[:,:]\n",
    "#YM\n",
    "\n",
    "numpy.bincount(Y.iloc[:,0])"
   ]
  },
  {
   "cell_type": "code",
   "execution_count": 91,
   "metadata": {},
   "outputs": [],
   "source": [
    "look_back = 20\n",
    "trainX0, _ = create_dataset(YM, look_back)\n",
    "trainY =create_resultset(Y,look_back)\n",
    "Ysize=16\n"
   ]
  },
  {
   "cell_type": "code",
   "execution_count": 92,
   "metadata": {},
   "outputs": [
    {
     "data": {
      "text/plain": [
       "(4009, 20)"
      ]
     },
     "execution_count": 92,
     "metadata": {},
     "output_type": "execute_result"
    }
   ],
   "source": [
    "# reshape input to be [samples, time steps, features]\n",
    "trainX = numpy.reshape(trainX0, (trainX0.shape[0], trainX0.shape[1],1))\n",
    "trainX0.shape\n",
    "\n",
    "#testX = numpy.reshape(testX, (testX.shape[0], 1, testX.shape[1]))"
   ]
  },
  {
   "cell_type": "code",
   "execution_count": 93,
   "metadata": {},
   "outputs": [
    {
     "data": {
      "text/plain": [
       "(4009, 16)"
      ]
     },
     "execution_count": 93,
     "metadata": {},
     "output_type": "execute_result"
    }
   ],
   "source": [
    "trainYO = to_categorical(trainY, num_classes=Ysize)\n",
    "trainYO.shape"
   ]
  },
  {
   "cell_type": "code",
   "execution_count": 123,
   "metadata": {},
   "outputs": [],
   "source": [
    "class MyReshape(Layer):\n",
    "\n",
    "    def __init__(self, output_dim, **kwargs):\n",
    "        self.output_dim = output_dim\n",
    "        super(MyReshape, self).__init__(**kwargs)\n",
    "\n",
    "    def build(self, input_shape):\n",
    "        # Create a trainable weight variable for this layer.\n",
    "        print('buikd',input_shape)\n",
    "        self.w = tf.Variable(initial_value=tf.ones((1,20)),\n",
    "                             trainable=False)\n",
    "      \n",
    "        super(MyReshape, self).build(input_shape)  # Be sure to call this at the end\n",
    "\n",
    "    def call(self, x):\n",
    "        print('call',x)\n",
    "        input_shape=x.shape\n",
    "        print('call inp',input_shape)\n",
    "        \n",
    "        return K.reshape(x, (-1,input_shape[1],self.output_dim[1]))\n",
    "\n",
    "    def compute_output_shape(self, input_shape):\n",
    "        print('output' ,input_shape)\n",
    "        return (input_shape[0], self.output_dim)"
   ]
  },
  {
   "cell_type": "code",
   "execution_count": 124,
   "metadata": {},
   "outputs": [
    {
     "name": "stdout",
     "output_type": "stream",
     "text": [
      "buikd (None, 20)\n"
     ]
    },
    {
     "ename": "ValueError",
     "evalue": "Tensor-typed variable initializers must either be wrapped in an init_scope or callable (e.g., `tf.Variable(lambda : tf.truncated_normal([10, 40]))`) when building functions. Please file a feature request if this restriction inconveniences you.",
     "output_type": "error",
     "traceback": [
      "\u001b[0;31m---------------------------------------------------------------------------\u001b[0m",
      "\u001b[0;31mValueError\u001b[0m                                Traceback (most recent call last)",
      "\u001b[0;32m<ipython-input-124-13a13ebd46a7>\u001b[0m in \u001b[0;36m<module>\u001b[0;34m()\u001b[0m\n\u001b[1;32m      1\u001b[0m \u001b[0mmodel2\u001b[0m \u001b[0;34m=\u001b[0m \u001b[0mSequential\u001b[0m\u001b[0;34m(\u001b[0m\u001b[0;34m)\u001b[0m\u001b[0;34m\u001b[0m\u001b[0m\n\u001b[0;32m----> 2\u001b[0;31m \u001b[0mmodel2\u001b[0m\u001b[0;34m.\u001b[0m\u001b[0madd\u001b[0m\u001b[0;34m(\u001b[0m\u001b[0mMyReshape\u001b[0m\u001b[0;34m(\u001b[0m\u001b[0;34m(\u001b[0m\u001b[0mlook_back\u001b[0m\u001b[0;34m,\u001b[0m\u001b[0;36m1\u001b[0m\u001b[0;34m)\u001b[0m\u001b[0;34m,\u001b[0m\u001b[0minput_shape\u001b[0m\u001b[0;34m=\u001b[0m\u001b[0;34m(\u001b[0m\u001b[0mlook_back\u001b[0m\u001b[0;34m,\u001b[0m\u001b[0;34m)\u001b[0m\u001b[0;34m)\u001b[0m\u001b[0;34m)\u001b[0m\u001b[0;34m\u001b[0m\u001b[0m\n\u001b[0m\u001b[1;32m      3\u001b[0m \u001b[0;31m#model2.add( ReformatLayer( look_back,input_shape=(1,)))\u001b[0m\u001b[0;34m\u001b[0m\u001b[0;34m\u001b[0m\u001b[0m\n\u001b[1;32m      4\u001b[0m \u001b[0;31m#model2.add(Reshape((look_back,1),input_shape=(look_back,)))\u001b[0m\u001b[0;34m\u001b[0m\u001b[0;34m\u001b[0m\u001b[0m\n\u001b[1;32m      5\u001b[0m \u001b[0;31m#model2.add(Conv1D(120,5 , activation='relu'))\u001b[0m\u001b[0;34m\u001b[0m\u001b[0;34m\u001b[0m\u001b[0m\n",
      "\u001b[0;32m~/.local/lib/python3.5/site-packages/tensorflow/python/training/tracking/base.py\u001b[0m in \u001b[0;36m_method_wrapper\u001b[0;34m(self, *args, **kwargs)\u001b[0m\n\u001b[1;32m    454\u001b[0m     \u001b[0mself\u001b[0m\u001b[0;34m.\u001b[0m\u001b[0m_setattr_tracking\u001b[0m \u001b[0;34m=\u001b[0m \u001b[0;32mFalse\u001b[0m  \u001b[0;31m# pylint: disable=protected-access\u001b[0m\u001b[0;34m\u001b[0m\u001b[0m\n\u001b[1;32m    455\u001b[0m     \u001b[0;32mtry\u001b[0m\u001b[0;34m:\u001b[0m\u001b[0;34m\u001b[0m\u001b[0m\n\u001b[0;32m--> 456\u001b[0;31m       \u001b[0mresult\u001b[0m \u001b[0;34m=\u001b[0m \u001b[0mmethod\u001b[0m\u001b[0;34m(\u001b[0m\u001b[0mself\u001b[0m\u001b[0;34m,\u001b[0m \u001b[0;34m*\u001b[0m\u001b[0margs\u001b[0m\u001b[0;34m,\u001b[0m \u001b[0;34m**\u001b[0m\u001b[0mkwargs\u001b[0m\u001b[0;34m)\u001b[0m\u001b[0;34m\u001b[0m\u001b[0m\n\u001b[0m\u001b[1;32m    457\u001b[0m     \u001b[0;32mfinally\u001b[0m\u001b[0;34m:\u001b[0m\u001b[0;34m\u001b[0m\u001b[0m\n\u001b[1;32m    458\u001b[0m       \u001b[0mself\u001b[0m\u001b[0;34m.\u001b[0m\u001b[0m_setattr_tracking\u001b[0m \u001b[0;34m=\u001b[0m \u001b[0mprevious_value\u001b[0m  \u001b[0;31m# pylint: disable=protected-access\u001b[0m\u001b[0;34m\u001b[0m\u001b[0m\n",
      "\u001b[0;32m~/.local/lib/python3.5/site-packages/tensorflow/python/keras/engine/sequential.py\u001b[0m in \u001b[0;36madd\u001b[0;34m(self, layer)\u001b[0m\n\u001b[1;32m    167\u001b[0m           \u001b[0;31m# and create the node connecting the current layer\u001b[0m\u001b[0;34m\u001b[0m\u001b[0;34m\u001b[0m\u001b[0m\n\u001b[1;32m    168\u001b[0m           \u001b[0;31m# to the input layer we just created.\u001b[0m\u001b[0;34m\u001b[0m\u001b[0;34m\u001b[0m\u001b[0m\n\u001b[0;32m--> 169\u001b[0;31m           \u001b[0mlayer\u001b[0m\u001b[0;34m(\u001b[0m\u001b[0mx\u001b[0m\u001b[0;34m)\u001b[0m\u001b[0;34m\u001b[0m\u001b[0m\n\u001b[0m\u001b[1;32m    170\u001b[0m           \u001b[0mset_inputs\u001b[0m \u001b[0;34m=\u001b[0m \u001b[0;32mTrue\u001b[0m\u001b[0;34m\u001b[0m\u001b[0m\n\u001b[1;32m    171\u001b[0m \u001b[0;34m\u001b[0m\u001b[0m\n",
      "\u001b[0;32m~/.local/lib/python3.5/site-packages/tensorflow/python/keras/engine/base_layer.py\u001b[0m in \u001b[0;36m__call__\u001b[0;34m(self, inputs, *args, **kwargs)\u001b[0m\n\u001b[1;32m    592\u001b[0m           \u001b[0;31m# Build layer if applicable (if the `build` method has been\u001b[0m\u001b[0;34m\u001b[0m\u001b[0;34m\u001b[0m\u001b[0m\n\u001b[1;32m    593\u001b[0m           \u001b[0;31m# overridden).\u001b[0m\u001b[0;34m\u001b[0m\u001b[0;34m\u001b[0m\u001b[0m\n\u001b[0;32m--> 594\u001b[0;31m           \u001b[0mself\u001b[0m\u001b[0;34m.\u001b[0m\u001b[0m_maybe_build\u001b[0m\u001b[0;34m(\u001b[0m\u001b[0minputs\u001b[0m\u001b[0;34m)\u001b[0m\u001b[0;34m\u001b[0m\u001b[0m\n\u001b[0m\u001b[1;32m    595\u001b[0m           \u001b[0;31m# Explicitly pass the learning phase placeholder to `call` if\u001b[0m\u001b[0;34m\u001b[0m\u001b[0;34m\u001b[0m\u001b[0m\n\u001b[1;32m    596\u001b[0m           \u001b[0;31m# the `training` argument was left unspecified by the user.\u001b[0m\u001b[0;34m\u001b[0m\u001b[0;34m\u001b[0m\u001b[0m\n",
      "\u001b[0;32m~/.local/lib/python3.5/site-packages/tensorflow/python/keras/engine/base_layer.py\u001b[0m in \u001b[0;36m_maybe_build\u001b[0;34m(self, inputs)\u001b[0m\n\u001b[1;32m   1711\u001b[0m     \u001b[0;31m# Only call `build` if the user has manually overridden the build method.\u001b[0m\u001b[0;34m\u001b[0m\u001b[0;34m\u001b[0m\u001b[0m\n\u001b[1;32m   1712\u001b[0m     \u001b[0;32mif\u001b[0m \u001b[0;32mnot\u001b[0m \u001b[0mhasattr\u001b[0m\u001b[0;34m(\u001b[0m\u001b[0mself\u001b[0m\u001b[0;34m.\u001b[0m\u001b[0mbuild\u001b[0m\u001b[0;34m,\u001b[0m \u001b[0;34m'_is_default'\u001b[0m\u001b[0;34m)\u001b[0m\u001b[0;34m:\u001b[0m\u001b[0;34m\u001b[0m\u001b[0m\n\u001b[0;32m-> 1713\u001b[0;31m       \u001b[0mself\u001b[0m\u001b[0;34m.\u001b[0m\u001b[0mbuild\u001b[0m\u001b[0;34m(\u001b[0m\u001b[0minput_shapes\u001b[0m\u001b[0;34m)\u001b[0m\u001b[0;34m\u001b[0m\u001b[0m\n\u001b[0m\u001b[1;32m   1714\u001b[0m     \u001b[0;31m# We must set self.built since user defined build functions are not\u001b[0m\u001b[0;34m\u001b[0m\u001b[0;34m\u001b[0m\u001b[0m\n\u001b[1;32m   1715\u001b[0m     \u001b[0;31m# constrained to set self.built.\u001b[0m\u001b[0;34m\u001b[0m\u001b[0;34m\u001b[0m\u001b[0m\n",
      "\u001b[0;32m<ipython-input-123-024de85e8eb4>\u001b[0m in \u001b[0;36mbuild\u001b[0;34m(self, input_shape)\u001b[0m\n\u001b[1;32m      9\u001b[0m         \u001b[0mprint\u001b[0m\u001b[0;34m(\u001b[0m\u001b[0;34m'buikd'\u001b[0m\u001b[0;34m,\u001b[0m\u001b[0minput_shape\u001b[0m\u001b[0;34m)\u001b[0m\u001b[0;34m\u001b[0m\u001b[0m\n\u001b[1;32m     10\u001b[0m         self.w = tf.Variable(initial_value=tf.ones((1,20)),\n\u001b[0;32m---> 11\u001b[0;31m                              trainable=False)\n\u001b[0m\u001b[1;32m     12\u001b[0m \u001b[0;34m\u001b[0m\u001b[0m\n\u001b[1;32m     13\u001b[0m         \u001b[0msuper\u001b[0m\u001b[0;34m(\u001b[0m\u001b[0mMyReshape\u001b[0m\u001b[0;34m,\u001b[0m \u001b[0mself\u001b[0m\u001b[0;34m)\u001b[0m\u001b[0;34m.\u001b[0m\u001b[0mbuild\u001b[0m\u001b[0;34m(\u001b[0m\u001b[0minput_shape\u001b[0m\u001b[0;34m)\u001b[0m  \u001b[0;31m# Be sure to call this at the end\u001b[0m\u001b[0;34m\u001b[0m\u001b[0m\n",
      "\u001b[0;32m~/.local/lib/python3.5/site-packages/tensorflow/python/ops/variables.py\u001b[0m in \u001b[0;36m__call__\u001b[0;34m(cls, *args, **kwargs)\u001b[0m\n\u001b[1;32m    212\u001b[0m       \u001b[0;32mreturn\u001b[0m \u001b[0mcls\u001b[0m\u001b[0;34m.\u001b[0m\u001b[0m_variable_v1_call\u001b[0m\u001b[0;34m(\u001b[0m\u001b[0;34m*\u001b[0m\u001b[0margs\u001b[0m\u001b[0;34m,\u001b[0m \u001b[0;34m**\u001b[0m\u001b[0mkwargs\u001b[0m\u001b[0;34m)\u001b[0m\u001b[0;34m\u001b[0m\u001b[0m\n\u001b[1;32m    213\u001b[0m     \u001b[0;32melif\u001b[0m \u001b[0mcls\u001b[0m \u001b[0;32mis\u001b[0m \u001b[0mVariable\u001b[0m\u001b[0;34m:\u001b[0m\u001b[0;34m\u001b[0m\u001b[0m\n\u001b[0;32m--> 214\u001b[0;31m       \u001b[0;32mreturn\u001b[0m \u001b[0mcls\u001b[0m\u001b[0;34m.\u001b[0m\u001b[0m_variable_v2_call\u001b[0m\u001b[0;34m(\u001b[0m\u001b[0;34m*\u001b[0m\u001b[0margs\u001b[0m\u001b[0;34m,\u001b[0m \u001b[0;34m**\u001b[0m\u001b[0mkwargs\u001b[0m\u001b[0;34m)\u001b[0m\u001b[0;34m\u001b[0m\u001b[0m\n\u001b[0m\u001b[1;32m    215\u001b[0m     \u001b[0;32melse\u001b[0m\u001b[0;34m:\u001b[0m\u001b[0;34m\u001b[0m\u001b[0m\n\u001b[1;32m    216\u001b[0m       \u001b[0;32mreturn\u001b[0m \u001b[0msuper\u001b[0m\u001b[0;34m(\u001b[0m\u001b[0mVariableMetaclass\u001b[0m\u001b[0;34m,\u001b[0m \u001b[0mcls\u001b[0m\u001b[0;34m)\u001b[0m\u001b[0;34m.\u001b[0m\u001b[0m__call__\u001b[0m\u001b[0;34m(\u001b[0m\u001b[0;34m*\u001b[0m\u001b[0margs\u001b[0m\u001b[0;34m,\u001b[0m \u001b[0;34m**\u001b[0m\u001b[0mkwargs\u001b[0m\u001b[0;34m)\u001b[0m\u001b[0;34m\u001b[0m\u001b[0m\n",
      "\u001b[0;32m~/.local/lib/python3.5/site-packages/tensorflow/python/ops/variables.py\u001b[0m in \u001b[0;36m_variable_v2_call\u001b[0;34m(cls, initial_value, trainable, validate_shape, caching_device, name, variable_def, dtype, import_scope, constraint, synchronization, aggregation)\u001b[0m\n\u001b[1;32m    206\u001b[0m         \u001b[0mconstraint\u001b[0m\u001b[0;34m=\u001b[0m\u001b[0mconstraint\u001b[0m\u001b[0;34m,\u001b[0m\u001b[0;34m\u001b[0m\u001b[0m\n\u001b[1;32m    207\u001b[0m         \u001b[0msynchronization\u001b[0m\u001b[0;34m=\u001b[0m\u001b[0msynchronization\u001b[0m\u001b[0;34m,\u001b[0m\u001b[0;34m\u001b[0m\u001b[0m\n\u001b[0;32m--> 208\u001b[0;31m         aggregation=aggregation)\n\u001b[0m\u001b[1;32m    209\u001b[0m \u001b[0;34m\u001b[0m\u001b[0m\n\u001b[1;32m    210\u001b[0m   \u001b[0;32mdef\u001b[0m \u001b[0m__call__\u001b[0m\u001b[0;34m(\u001b[0m\u001b[0mcls\u001b[0m\u001b[0;34m,\u001b[0m \u001b[0;34m*\u001b[0m\u001b[0margs\u001b[0m\u001b[0;34m,\u001b[0m \u001b[0;34m**\u001b[0m\u001b[0mkwargs\u001b[0m\u001b[0;34m)\u001b[0m\u001b[0;34m:\u001b[0m\u001b[0;34m\u001b[0m\u001b[0m\n",
      "\u001b[0;32m~/.local/lib/python3.5/site-packages/tensorflow/python/ops/variables.py\u001b[0m in \u001b[0;36m<lambda>\u001b[0;34m(**kws)\u001b[0m\n\u001b[1;32m    188\u001b[0m                         aggregation=VariableAggregation.NONE):\n\u001b[1;32m    189\u001b[0m     \u001b[0;34m\"\"\"Call on Variable class. Useful to force the signature.\"\"\"\u001b[0m\u001b[0;34m\u001b[0m\u001b[0m\n\u001b[0;32m--> 190\u001b[0;31m     \u001b[0mprevious_getter\u001b[0m \u001b[0;34m=\u001b[0m \u001b[0;32mlambda\u001b[0m \u001b[0;34m**\u001b[0m\u001b[0mkws\u001b[0m\u001b[0;34m:\u001b[0m \u001b[0mdefault_variable_creator_v2\u001b[0m\u001b[0;34m(\u001b[0m\u001b[0;32mNone\u001b[0m\u001b[0;34m,\u001b[0m \u001b[0;34m**\u001b[0m\u001b[0mkws\u001b[0m\u001b[0;34m)\u001b[0m\u001b[0;34m\u001b[0m\u001b[0m\n\u001b[0m\u001b[1;32m    191\u001b[0m     \u001b[0;32mfor\u001b[0m \u001b[0m_\u001b[0m\u001b[0;34m,\u001b[0m \u001b[0mgetter\u001b[0m \u001b[0;32min\u001b[0m \u001b[0mops\u001b[0m\u001b[0;34m.\u001b[0m\u001b[0mget_default_graph\u001b[0m\u001b[0;34m(\u001b[0m\u001b[0;34m)\u001b[0m\u001b[0;34m.\u001b[0m\u001b[0m_variable_creator_stack\u001b[0m\u001b[0;34m:\u001b[0m  \u001b[0;31m# pylint: disable=protected-access\u001b[0m\u001b[0;34m\u001b[0m\u001b[0m\n\u001b[1;32m    192\u001b[0m       \u001b[0mprevious_getter\u001b[0m \u001b[0;34m=\u001b[0m \u001b[0m_make_getter\u001b[0m\u001b[0;34m(\u001b[0m\u001b[0mgetter\u001b[0m\u001b[0;34m,\u001b[0m \u001b[0mprevious_getter\u001b[0m\u001b[0;34m)\u001b[0m\u001b[0;34m\u001b[0m\u001b[0m\n",
      "\u001b[0;32m~/.local/lib/python3.5/site-packages/tensorflow/python/ops/variable_scope.py\u001b[0m in \u001b[0;36mdefault_variable_creator_v2\u001b[0;34m(next_creator, **kwargs)\u001b[0m\n\u001b[1;32m   2523\u001b[0m       \u001b[0mvalidate_shape\u001b[0m\u001b[0;34m=\u001b[0m\u001b[0mvalidate_shape\u001b[0m\u001b[0;34m,\u001b[0m \u001b[0mcaching_device\u001b[0m\u001b[0;34m=\u001b[0m\u001b[0mcaching_device\u001b[0m\u001b[0;34m,\u001b[0m\u001b[0;34m\u001b[0m\u001b[0m\n\u001b[1;32m   2524\u001b[0m       \u001b[0mname\u001b[0m\u001b[0;34m=\u001b[0m\u001b[0mname\u001b[0m\u001b[0;34m,\u001b[0m \u001b[0mdtype\u001b[0m\u001b[0;34m=\u001b[0m\u001b[0mdtype\u001b[0m\u001b[0;34m,\u001b[0m \u001b[0mconstraint\u001b[0m\u001b[0;34m=\u001b[0m\u001b[0mconstraint\u001b[0m\u001b[0;34m,\u001b[0m \u001b[0mvariable_def\u001b[0m\u001b[0;34m=\u001b[0m\u001b[0mvariable_def\u001b[0m\u001b[0;34m,\u001b[0m\u001b[0;34m\u001b[0m\u001b[0m\n\u001b[0;32m-> 2525\u001b[0;31m       import_scope=import_scope, distribute_strategy=distribute_strategy)\n\u001b[0m\u001b[1;32m   2526\u001b[0m \u001b[0;34m\u001b[0m\u001b[0m\n\u001b[1;32m   2527\u001b[0m \u001b[0;34m\u001b[0m\u001b[0m\n",
      "\u001b[0;32m~/.local/lib/python3.5/site-packages/tensorflow/python/ops/variables.py\u001b[0m in \u001b[0;36m__call__\u001b[0;34m(cls, *args, **kwargs)\u001b[0m\n\u001b[1;32m    214\u001b[0m       \u001b[0;32mreturn\u001b[0m \u001b[0mcls\u001b[0m\u001b[0;34m.\u001b[0m\u001b[0m_variable_v2_call\u001b[0m\u001b[0;34m(\u001b[0m\u001b[0;34m*\u001b[0m\u001b[0margs\u001b[0m\u001b[0;34m,\u001b[0m \u001b[0;34m**\u001b[0m\u001b[0mkwargs\u001b[0m\u001b[0;34m)\u001b[0m\u001b[0;34m\u001b[0m\u001b[0m\n\u001b[1;32m    215\u001b[0m     \u001b[0;32melse\u001b[0m\u001b[0;34m:\u001b[0m\u001b[0;34m\u001b[0m\u001b[0m\n\u001b[0;32m--> 216\u001b[0;31m       \u001b[0;32mreturn\u001b[0m \u001b[0msuper\u001b[0m\u001b[0;34m(\u001b[0m\u001b[0mVariableMetaclass\u001b[0m\u001b[0;34m,\u001b[0m \u001b[0mcls\u001b[0m\u001b[0;34m)\u001b[0m\u001b[0;34m.\u001b[0m\u001b[0m__call__\u001b[0m\u001b[0;34m(\u001b[0m\u001b[0;34m*\u001b[0m\u001b[0margs\u001b[0m\u001b[0;34m,\u001b[0m \u001b[0;34m**\u001b[0m\u001b[0mkwargs\u001b[0m\u001b[0;34m)\u001b[0m\u001b[0;34m\u001b[0m\u001b[0m\n\u001b[0m\u001b[1;32m    217\u001b[0m \u001b[0;34m\u001b[0m\u001b[0m\n\u001b[1;32m    218\u001b[0m \u001b[0;34m\u001b[0m\u001b[0m\n",
      "\u001b[0;32m~/.local/lib/python3.5/site-packages/tensorflow/python/ops/resource_variable_ops.py\u001b[0m in \u001b[0;36m__init__\u001b[0;34m(self, initial_value, trainable, collections, validate_shape, caching_device, name, dtype, variable_def, import_scope, constraint, distribute_strategy)\u001b[0m\n\u001b[1;32m    420\u001b[0m           \u001b[0mname\u001b[0m\u001b[0;34m=\u001b[0m\u001b[0mname\u001b[0m\u001b[0;34m,\u001b[0m\u001b[0;34m\u001b[0m\u001b[0m\n\u001b[1;32m    421\u001b[0m           \u001b[0mdtype\u001b[0m\u001b[0;34m=\u001b[0m\u001b[0mdtype\u001b[0m\u001b[0;34m,\u001b[0m\u001b[0;34m\u001b[0m\u001b[0m\n\u001b[0;32m--> 422\u001b[0;31m           constraint=constraint)\n\u001b[0m\u001b[1;32m    423\u001b[0m \u001b[0;34m\u001b[0m\u001b[0m\n\u001b[1;32m    424\u001b[0m   \u001b[0;32mdef\u001b[0m \u001b[0m__repr__\u001b[0m\u001b[0;34m(\u001b[0m\u001b[0mself\u001b[0m\u001b[0;34m)\u001b[0m\u001b[0;34m:\u001b[0m\u001b[0;34m\u001b[0m\u001b[0m\n",
      "\u001b[0;32m~/.local/lib/python3.5/site-packages/tensorflow/python/ops/resource_variable_ops.py\u001b[0m in \u001b[0;36m_init_from_args\u001b[0;34m(self, initial_value, trainable, collections, caching_device, name, dtype, constraint)\u001b[0m\n\u001b[1;32m    490\u001b[0m     if isinstance(initial_value, ops.Tensor) and hasattr(\n\u001b[1;32m    491\u001b[0m         initial_value, \"graph\") and initial_value.graph.building_function:\n\u001b[0;32m--> 492\u001b[0;31m       raise ValueError(\"Tensor-typed variable initializers must either be \"\n\u001b[0m\u001b[1;32m    493\u001b[0m                        \u001b[0;34m\"wrapped in an init_scope or callable \"\u001b[0m\u001b[0;34m\u001b[0m\u001b[0m\n\u001b[1;32m    494\u001b[0m                        \u001b[0;34m\"(e.g., `tf.Variable(lambda : \"\u001b[0m\u001b[0;34m\u001b[0m\u001b[0m\n",
      "\u001b[0;31mValueError\u001b[0m: Tensor-typed variable initializers must either be wrapped in an init_scope or callable (e.g., `tf.Variable(lambda : tf.truncated_normal([10, 40]))`) when building functions. Please file a feature request if this restriction inconveniences you."
     ]
    }
   ],
   "source": [
    "model2 = Sequential()\n",
    "model2.add(MyReshape((look_back,1),input_shape=(look_back,)))\n",
    "#model2.add( ReformatLayer( look_back,input_shape=(1,)))\n",
    "#model2.add(Reshape((look_back,1),input_shape=(look_back,)))\n",
    "#model2.add(Conv1D(120,5 , activation='relu'))\n",
    "model2.add(Conv1D(120,5 , activation='relu'))\n",
    "model2.add(Flatten())\n",
    "model2.add(Dense(Ysize, activation='softmax'))\n",
    "\n",
    "\n",
    "model2.summary()"
   ]
  },
  {
   "cell_type": "code",
   "execution_count": 116,
   "metadata": {},
   "outputs": [
    {
     "name": "stdout",
     "output_type": "stream",
     "text": [
      "Train on 3608 samples, validate on 401 samples\n",
      "Epoch 1/7\n",
      "3608/3608 [==============================] - 0s 78us/sample - loss: 2.1913 - accuracy: 0.3276 - val_loss: 0.7319 - val_accuracy: 1.0000\n",
      "Epoch 2/7\n",
      "3608/3608 [==============================] - 0s 36us/sample - loss: 1.7278 - accuracy: 0.4678 - val_loss: 0.4412 - val_accuracy: 1.0000\n",
      "Epoch 3/7\n",
      "3608/3608 [==============================] - 0s 38us/sample - loss: 1.5690 - accuracy: 0.5238 - val_loss: 0.3118 - val_accuracy: 1.0000\n",
      "Epoch 4/7\n",
      "3608/3608 [==============================] - 0s 67us/sample - loss: 1.4431 - accuracy: 0.5660 - val_loss: 0.2762 - val_accuracy: 1.0000\n",
      "Epoch 5/7\n",
      "3608/3608 [==============================] - 0s 67us/sample - loss: 1.3443 - accuracy: 0.6070 - val_loss: 0.2473 - val_accuracy: 1.0000\n",
      "Epoch 6/7\n",
      "3608/3608 [==============================] - 0s 67us/sample - loss: 1.2529 - accuracy: 0.6286 - val_loss: 0.1991 - val_accuracy: 1.0000\n",
      "Epoch 7/7\n",
      "3608/3608 [==============================] - 0s 67us/sample - loss: 1.1749 - accuracy: 0.6522 - val_loss: 0.1533 - val_accuracy: 1.0000\n"
     ]
    },
    {
     "data": {
      "text/plain": [
       "<tensorflow.python.keras.callbacks.History at 0x7f99a81cdac8>"
      ]
     },
     "execution_count": 116,
     "metadata": {},
     "output_type": "execute_result"
    }
   ],
   "source": [
    "model2.compile(loss='categorical_crossentropy', optimizer='adam', metrics=['accuracy'])\n",
    "model2.fit(trainX0, trainYO, epochs=7,validation_split=0.1)"
   ]
  },
  {
   "cell_type": "code",
   "execution_count": 26,
   "metadata": {},
   "outputs": [
    {
     "name": "stdout",
     "output_type": "stream",
     "text": [
      "Model: \"sequential\"\n",
      "_________________________________________________________________\n",
      "Layer (type)                 Output Shape              Param #   \n",
      "=================================================================\n",
      "conv1d (Conv1D)              (None, 16, 120)           720       \n",
      "_________________________________________________________________\n",
      "max_pooling1d (MaxPooling1D) (None, 16, 120)           0         \n",
      "_________________________________________________________________\n",
      "conv1d_1 (Conv1D)            (None, 15, 20)            4820      \n",
      "_________________________________________________________________\n",
      "dropout (Dropout)            (None, 15, 20)            0         \n",
      "_________________________________________________________________\n",
      "flatten (Flatten)            (None, 300)               0         \n",
      "_________________________________________________________________\n",
      "dense (Dense)                (None, 16)                4816      \n",
      "=================================================================\n",
      "Total params: 10,356\n",
      "Trainable params: 10,356\n",
      "Non-trainable params: 0\n",
      "_________________________________________________________________\n"
     ]
    }
   ],
   "source": [
    "model = Sequential()\n",
    "model.add(Conv1D(120,5 , activation='relu', input_shape=(look_back,1)))\n",
    "model.add(MaxPooling1D(1))\n",
    "model.add(Conv1D(20, 2, activation='relu'))\n",
    "#model.add(MaxPooling1D(1))\n",
    "model.add(Dropout(0.01))\n",
    "#model.add(Dense(128))\n",
    "#model.add(Conv1D(128,1 ))\n",
    "\n",
    "model.add(Flatten())\n",
    "#model.add(Conv1D(128,1 ))\n",
    "#model.add(MaxPooling1D())\n",
    "#model.add(Conv1D(128, 1, activation='relu'))\n",
    "#model.add(GlobalAveragePooling1D())\n",
    "#model.add(Dropout(0.3))\n",
    "model.add(Dense(Ysize, activation='softmax'))\n",
    "model.summary()"
   ]
  },
  {
   "cell_type": "code",
   "execution_count": 28,
   "metadata": {
    "scrolled": false
   },
   "outputs": [
    {
     "name": "stdout",
     "output_type": "stream",
     "text": [
      "Train on 3608 samples, validate on 401 samples\n",
      "Epoch 1/70\n",
      "3608/3608 [==============================] - 0s 112us/sample - loss: 2.3075 - accuracy: 0.2971 - val_loss: 0.7321 - val_accuracy: 1.0000\n",
      "Epoch 2/70\n",
      "3608/3608 [==============================] - 0s 52us/sample - loss: 1.7821 - accuracy: 0.4498 - val_loss: 0.3874 - val_accuracy: 1.0000\n",
      "Epoch 3/70\n",
      "3608/3608 [==============================] - 0s 51us/sample - loss: 1.5577 - accuracy: 0.5288 - val_loss: 0.3246 - val_accuracy: 1.0000\n",
      "Epoch 4/70\n",
      "3608/3608 [==============================] - 0s 50us/sample - loss: 1.4009 - accuracy: 0.5757 - val_loss: 0.3632 - val_accuracy: 1.0000\n",
      "Epoch 5/70\n",
      "3608/3608 [==============================] - 0s 52us/sample - loss: 1.2858 - accuracy: 0.6247 - val_loss: 0.1938 - val_accuracy: 1.0000\n",
      "Epoch 6/70\n",
      "3608/3608 [==============================] - 0s 52us/sample - loss: 1.1744 - accuracy: 0.6574 - val_loss: 0.1461 - val_accuracy: 1.0000\n",
      "Epoch 7/70\n",
      "3608/3608 [==============================] - 0s 52us/sample - loss: 1.0773 - accuracy: 0.6954 - val_loss: 0.1538 - val_accuracy: 1.0000\n",
      "Epoch 8/70\n",
      "3608/3608 [==============================] - 0s 55us/sample - loss: 0.9881 - accuracy: 0.7278 - val_loss: 0.1287 - val_accuracy: 1.0000\n",
      "Epoch 9/70\n",
      "3608/3608 [==============================] - 0s 56us/sample - loss: 0.9036 - accuracy: 0.7530 - val_loss: 0.1187 - val_accuracy: 1.0000\n",
      "Epoch 10/70\n",
      "3608/3608 [==============================] - 0s 56us/sample - loss: 0.8349 - accuracy: 0.7766 - val_loss: 0.0878 - val_accuracy: 1.0000\n",
      "Epoch 11/70\n",
      "3608/3608 [==============================] - 0s 56us/sample - loss: 0.7655 - accuracy: 0.7943 - val_loss: 0.0723 - val_accuracy: 1.0000\n",
      "Epoch 12/70\n",
      "3608/3608 [==============================] - 0s 56us/sample - loss: 0.7032 - accuracy: 0.8101 - val_loss: 0.0653 - val_accuracy: 1.0000\n",
      "Epoch 13/70\n",
      "3608/3608 [==============================] - 0s 56us/sample - loss: 0.6595 - accuracy: 0.8226 - val_loss: 0.0417 - val_accuracy: 1.0000\n",
      "Epoch 14/70\n",
      "3608/3608 [==============================] - 0s 55us/sample - loss: 0.6132 - accuracy: 0.8334 - val_loss: 0.0727 - val_accuracy: 1.0000\n",
      "Epoch 15/70\n",
      "3608/3608 [==============================] - 0s 56us/sample - loss: 0.5749 - accuracy: 0.8381 - val_loss: 0.0516 - val_accuracy: 1.0000\n",
      "Epoch 16/70\n",
      "3608/3608 [==============================] - 0s 56us/sample - loss: 0.5340 - accuracy: 0.8495 - val_loss: 0.0243 - val_accuracy: 1.0000\n",
      "Epoch 17/70\n",
      "3608/3608 [==============================] - 0s 57us/sample - loss: 0.5111 - accuracy: 0.8584 - val_loss: 0.0475 - val_accuracy: 1.0000\n",
      "Epoch 18/70\n",
      "3608/3608 [==============================] - 0s 55us/sample - loss: 0.4717 - accuracy: 0.8645 - val_loss: 0.0555 - val_accuracy: 1.0000\n",
      "Epoch 19/70\n",
      "3608/3608 [==============================] - 0s 56us/sample - loss: 0.4534 - accuracy: 0.8714 - val_loss: 0.0257 - val_accuracy: 1.0000\n",
      "Epoch 20/70\n",
      "3608/3608 [==============================] - 0s 56us/sample - loss: 0.4315 - accuracy: 0.8744 - val_loss: 0.0272 - val_accuracy: 1.0000\n",
      "Epoch 21/70\n",
      "3608/3608 [==============================] - 0s 56us/sample - loss: 0.4058 - accuracy: 0.8808 - val_loss: 0.0278 - val_accuracy: 1.0000\n",
      "Epoch 22/70\n",
      "3608/3608 [==============================] - 0s 52us/sample - loss: 0.3914 - accuracy: 0.8805 - val_loss: 0.0380 - val_accuracy: 1.0000\n",
      "Epoch 23/70\n",
      "3608/3608 [==============================] - 0s 56us/sample - loss: 0.3703 - accuracy: 0.8880 - val_loss: 0.0287 - val_accuracy: 1.0000\n",
      "Epoch 24/70\n",
      "3608/3608 [==============================] - 0s 56us/sample - loss: 0.3550 - accuracy: 0.8933 - val_loss: 0.0224 - val_accuracy: 1.0000\n",
      "Epoch 25/70\n",
      "3608/3608 [==============================] - 0s 56us/sample - loss: 0.3398 - accuracy: 0.8983 - val_loss: 0.0288 - val_accuracy: 1.0000\n",
      "Epoch 26/70\n",
      "3608/3608 [==============================] - 0s 56us/sample - loss: 0.3350 - accuracy: 0.9024 - val_loss: 0.0156 - val_accuracy: 1.0000\n",
      "Epoch 27/70\n",
      "3608/3608 [==============================] - 0s 56us/sample - loss: 0.3156 - accuracy: 0.9024 - val_loss: 0.0201 - val_accuracy: 1.0000\n",
      "Epoch 28/70\n",
      "3608/3608 [==============================] - 0s 56us/sample - loss: 0.3017 - accuracy: 0.9066 - val_loss: 0.0124 - val_accuracy: 1.0000\n",
      "Epoch 29/70\n",
      "3608/3608 [==============================] - 0s 55us/sample - loss: 0.3014 - accuracy: 0.9049 - val_loss: 0.0188 - val_accuracy: 1.0000\n",
      "Epoch 30/70\n",
      "3608/3608 [==============================] - 0s 61us/sample - loss: 0.2885 - accuracy: 0.9091 - val_loss: 0.0190 - val_accuracy: 1.0000\n",
      "Epoch 31/70\n",
      "3608/3608 [==============================] - 0s 61us/sample - loss: 0.2825 - accuracy: 0.9110 - val_loss: 0.0172 - val_accuracy: 1.0000\n",
      "Epoch 32/70\n",
      "3608/3608 [==============================] - 0s 69us/sample - loss: 0.2733 - accuracy: 0.9160 - val_loss: 0.0214 - val_accuracy: 1.0000\n",
      "Epoch 33/70\n",
      "3608/3608 [==============================] - 0s 67us/sample - loss: 0.2577 - accuracy: 0.9169 - val_loss: 0.0192 - val_accuracy: 1.0000\n",
      "Epoch 34/70\n",
      "3608/3608 [==============================] - 0s 67us/sample - loss: 0.2596 - accuracy: 0.9193 - val_loss: 0.0098 - val_accuracy: 1.0000\n",
      "Epoch 35/70\n",
      "3608/3608 [==============================] - 0s 67us/sample - loss: 0.2558 - accuracy: 0.9180 - val_loss: 0.0151 - val_accuracy: 1.0000\n",
      "Epoch 36/70\n",
      "3608/3608 [==============================] - 0s 68us/sample - loss: 0.2456 - accuracy: 0.9210 - val_loss: 0.0180 - val_accuracy: 1.0000\n",
      "Epoch 37/70\n",
      "3608/3608 [==============================] - 0s 68us/sample - loss: 0.2383 - accuracy: 0.9241 - val_loss: 0.0131 - val_accuracy: 1.0000\n",
      "Epoch 38/70\n",
      "3608/3608 [==============================] - 0s 67us/sample - loss: 0.2373 - accuracy: 0.9235 - val_loss: 0.0233 - val_accuracy: 1.0000\n",
      "Epoch 39/70\n",
      "3608/3608 [==============================] - 0s 68us/sample - loss: 0.2320 - accuracy: 0.9282 - val_loss: 0.0128 - val_accuracy: 1.0000\n",
      "Epoch 40/70\n",
      "3608/3608 [==============================] - 0s 68us/sample - loss: 0.2238 - accuracy: 0.9282 - val_loss: 0.0075 - val_accuracy: 1.0000\n",
      "Epoch 41/70\n",
      "3608/3608 [==============================] - 0s 67us/sample - loss: 0.2263 - accuracy: 0.9296 - val_loss: 0.0146 - val_accuracy: 1.0000\n",
      "Epoch 42/70\n",
      "3608/3608 [==============================] - 0s 67us/sample - loss: 0.2211 - accuracy: 0.9263 - val_loss: 0.0162 - val_accuracy: 1.0000\n",
      "Epoch 43/70\n",
      "3608/3608 [==============================] - 0s 76us/sample - loss: 0.2144 - accuracy: 0.9296 - val_loss: 0.0065 - val_accuracy: 1.0000\n",
      "Epoch 44/70\n",
      "3608/3608 [==============================] - 0s 78us/sample - loss: 0.2074 - accuracy: 0.9349 - val_loss: 0.0171 - val_accuracy: 1.0000\n",
      "Epoch 45/70\n",
      "3608/3608 [==============================] - 0s 76us/sample - loss: 0.2102 - accuracy: 0.9299 - val_loss: 0.0113 - val_accuracy: 1.0000\n",
      "Epoch 46/70\n",
      "3608/3608 [==============================] - 0s 75us/sample - loss: 0.1998 - accuracy: 0.9338 - val_loss: 0.0059 - val_accuracy: 1.0000\n",
      "Epoch 47/70\n",
      "3608/3608 [==============================] - 0s 76us/sample - loss: 0.1969 - accuracy: 0.9351 - val_loss: 0.0098 - val_accuracy: 1.0000\n",
      "Epoch 48/70\n",
      "3608/3608 [==============================] - 0s 76us/sample - loss: 0.1892 - accuracy: 0.9390 - val_loss: 0.0084 - val_accuracy: 1.0000\n",
      "Epoch 49/70\n",
      "3608/3608 [==============================] - 0s 75us/sample - loss: 0.1898 - accuracy: 0.9415 - val_loss: 0.0083 - val_accuracy: 1.0000\n",
      "Epoch 50/70\n",
      "3608/3608 [==============================] - 0s 76us/sample - loss: 0.1887 - accuracy: 0.9385 - val_loss: 0.0108 - val_accuracy: 1.0000\n",
      "Epoch 51/70\n",
      "3608/3608 [==============================] - 0s 75us/sample - loss: 0.1831 - accuracy: 0.9399 - val_loss: 0.0123 - val_accuracy: 1.0000\n",
      "Epoch 52/70\n",
      "3608/3608 [==============================] - 0s 75us/sample - loss: 0.1794 - accuracy: 0.9376 - val_loss: 0.0065 - val_accuracy: 1.0000\n",
      "Epoch 53/70\n",
      "3608/3608 [==============================] - 0s 75us/sample - loss: 0.1747 - accuracy: 0.9412 - val_loss: 0.0054 - val_accuracy: 1.0000\n",
      "Epoch 54/70\n",
      "3608/3608 [==============================] - 0s 76us/sample - loss: 0.1735 - accuracy: 0.9443 - val_loss: 0.0066 - val_accuracy: 1.0000\n",
      "Epoch 55/70\n",
      "3608/3608 [==============================] - 0s 76us/sample - loss: 0.1746 - accuracy: 0.9424 - val_loss: 0.0089 - val_accuracy: 1.0000\n",
      "Epoch 56/70\n"
     ]
    },
    {
     "name": "stdout",
     "output_type": "stream",
     "text": [
      "3608/3608 [==============================] - 0s 76us/sample - loss: 0.1692 - accuracy: 0.9440 - val_loss: 0.0221 - val_accuracy: 1.0000\n",
      "Epoch 57/70\n",
      "3608/3608 [==============================] - 0s 75us/sample - loss: 0.1714 - accuracy: 0.9432 - val_loss: 0.0094 - val_accuracy: 1.0000\n",
      "Epoch 58/70\n",
      "3608/3608 [==============================] - 0s 75us/sample - loss: 0.1626 - accuracy: 0.9471 - val_loss: 0.0066 - val_accuracy: 1.0000\n",
      "Epoch 59/70\n",
      "3608/3608 [==============================] - 0s 76us/sample - loss: 0.1594 - accuracy: 0.9446 - val_loss: 0.0048 - val_accuracy: 1.0000\n",
      "Epoch 60/70\n",
      "3608/3608 [==============================] - 0s 74us/sample - loss: 0.1563 - accuracy: 0.9473 - val_loss: 0.0071 - val_accuracy: 1.0000\n",
      "Epoch 61/70\n",
      "3608/3608 [==============================] - 0s 76us/sample - loss: 0.1489 - accuracy: 0.9507 - val_loss: 0.0081 - val_accuracy: 1.0000\n",
      "Epoch 62/70\n",
      "3608/3608 [==============================] - 0s 76us/sample - loss: 0.1505 - accuracy: 0.9529 - val_loss: 0.0030 - val_accuracy: 1.0000\n",
      "Epoch 63/70\n",
      "3608/3608 [==============================] - 0s 75us/sample - loss: 0.1526 - accuracy: 0.9498 - val_loss: 0.0049 - val_accuracy: 1.0000\n",
      "Epoch 64/70\n",
      "3608/3608 [==============================] - 0s 98us/sample - loss: 0.1475 - accuracy: 0.9496 - val_loss: 0.0034 - val_accuracy: 1.0000\n",
      "Epoch 65/70\n",
      "3608/3608 [==============================] - 0s 99us/sample - loss: 0.1502 - accuracy: 0.9507 - val_loss: 0.0040 - val_accuracy: 1.0000\n",
      "Epoch 66/70\n",
      "3608/3608 [==============================] - 0s 99us/sample - loss: 0.1473 - accuracy: 0.9504 - val_loss: 0.0037 - val_accuracy: 1.0000\n",
      "Epoch 67/70\n",
      "3608/3608 [==============================] - 0s 98us/sample - loss: 0.1430 - accuracy: 0.9487 - val_loss: 0.0055 - val_accuracy: 1.0000\n",
      "Epoch 68/70\n",
      "3608/3608 [==============================] - 0s 99us/sample - loss: 0.1394 - accuracy: 0.9557 - val_loss: 0.0098 - val_accuracy: 1.0000\n",
      "Epoch 69/70\n",
      "3608/3608 [==============================] - 0s 117us/sample - loss: 0.1397 - accuracy: 0.9515 - val_loss: 0.0062 - val_accuracy: 1.0000\n",
      "Epoch 70/70\n",
      "3608/3608 [==============================] - 0s 117us/sample - loss: 0.1439 - accuracy: 0.9501 - val_loss: 0.0040 - val_accuracy: 1.0000\n"
     ]
    },
    {
     "data": {
      "text/plain": [
       "<tensorflow.python.keras.callbacks.History at 0x7f9a84306358>"
      ]
     },
     "execution_count": 28,
     "metadata": {},
     "output_type": "execute_result"
    }
   ],
   "source": [
    "#model.compile(loss='categorical_crossentropy',\n",
    "#              optimizer='adam',\n",
    "#              metrics=['accuracy'])\n",
    "model.compile(loss='categorical_crossentropy', optimizer='adam', metrics=['accuracy'])\n",
    "model.fit(trainX, trainYO, epochs=70,validation_split=0.1)"
   ]
  },
  {
   "cell_type": "code",
   "execution_count": 11,
   "metadata": {},
   "outputs": [
    {
     "name": "stdout",
     "output_type": "stream",
     "text": [
      "ll [[4.64789046e-05 1.27639040e-01 1.01697037e-03 7.79515680e-14\n",
      "  3.54250398e-04 9.94177535e-04 2.15455401e-03 2.10913640e-06\n",
      "  1.54945269e-07 7.37730659e-07 2.88686570e-05 5.56765609e-17\n",
      "  1.60258524e-02 8.51084054e-01 3.92470356e-05 6.13519282e-04]\n",
      " [4.99964245e-02 3.78726693e-14 1.57194881e-06 9.21752317e-21\n",
      "  3.63504732e-05 1.03601838e-08 1.01050839e-03 1.55618356e-03\n",
      "  3.21657353e-06 9.44499373e-01 6.39095379e-05 2.87898911e-05\n",
      "  6.57187002e-07 2.36565247e-03 3.87233342e-07 4.37006587e-04]\n",
      " [7.75541703e-04 8.57356135e-05 9.98414636e-01 4.57845408e-06\n",
      "  3.61598999e-04 3.29468778e-04 1.60045802e-05 2.89503149e-23\n",
      "  4.39330461e-19 4.79616954e-12 1.34675054e-24 5.68114933e-09\n",
      "  3.20404638e-06 4.67437440e-06 6.65284782e-18 4.65360699e-06]\n",
      " [5.97485632e-06 1.43172871e-03 9.72558837e-03 2.32251679e-07\n",
      "  1.72865798e-03 2.22913150e-05 5.26649784e-03 1.22006040e-03\n",
      "  4.15046024e-08 2.02487674e-04 4.32640547e-03 2.56399856e-19\n",
      "  9.63680804e-01 1.23628890e-02 1.21503726e-05 1.41252376e-05]\n",
      " [9.41874236e-02 2.00731706e-12 1.19459519e-05 1.02528175e-13\n",
      "  3.33153323e-04 3.52413976e-04 5.96884498e-03 9.35192853e-02\n",
      "  6.29321657e-05 5.62045395e-01 5.93658595e-04 7.36543536e-02\n",
      "  2.31900488e-11 5.64718619e-03 1.31458932e-04 1.63491964e-01]\n",
      " [1.59541105e-06 3.54927724e-05 9.99558508e-01 1.44383405e-09\n",
      "  3.76845361e-04 7.99066527e-07 8.23567081e-09 4.53537061e-22\n",
      "  2.57869668e-18 1.77994815e-16 3.24102617e-28 1.17100663e-09\n",
      "  1.57067495e-06 2.50290268e-05 4.21249999e-18 1.16643697e-07]\n",
      " [5.24077450e-07 3.54071915e-07 1.64166444e-10 7.61239813e-13\n",
      "  2.53873604e-05 6.13905859e-09 2.98712735e-06 4.16133162e-06\n",
      "  2.21392042e-08 2.40949657e-06 9.95430589e-01 1.50931812e-13\n",
      "  4.38108062e-03 2.92343572e-07 1.10496838e-08 1.52266366e-04]\n",
      " [9.35375690e-01 1.21527635e-10 1.24229800e-05 3.27539329e-10\n",
      "  1.17115846e-07 3.32280729e-06 2.28105491e-04 1.53208788e-08\n",
      "  5.54303733e-05 7.91727507e-05 2.91445268e-09 5.48087619e-03\n",
      "  5.36696187e-10 1.07794739e-02 5.44805223e-09 4.79854532e-02]\n",
      " [1.31693414e-05 3.43521088e-02 2.65658274e-02 1.92833893e-16\n",
      "  1.72199736e-06 7.78445319e-05 7.24031343e-05 9.80476500e-08\n",
      "  2.01869327e-07 1.26985751e-05 1.78559771e-04 1.62049499e-16\n",
      "  1.79669894e-02 9.20752525e-01 4.86083536e-06 9.79553647e-07]\n",
      " [1.16233956e-02 1.26688712e-11 1.62083023e-08 7.25164767e-21\n",
      "  8.02380242e-08 1.62697216e-08 6.81206802e-05 6.69809338e-03\n",
      "  4.32062780e-06 9.78110254e-01 3.42164864e-03 1.69451323e-05\n",
      "  1.72069085e-05 1.49056814e-06 8.48673437e-07 3.75681484e-05]\n",
      " [1.86779129e-04 1.18182925e-06 9.99774873e-01 2.03862616e-08\n",
      "  4.57512179e-08 3.78136292e-06 2.28559305e-08 3.41288098e-25\n",
      "  9.64587823e-19 1.21431892e-11 2.36981997e-26 9.89355039e-12\n",
      "  3.57797525e-08 1.10024727e-08 4.19558411e-22 3.33125899e-05]\n",
      " [1.19557080e-06 9.86543298e-01 4.58509385e-06 2.15595386e-09\n",
      "  3.31517936e-06 1.12862317e-07 2.57675019e-08 1.00239902e-06\n",
      "  8.63846772e-11 2.60829693e-05 4.22143983e-03 1.71442711e-16\n",
      "  5.80539042e-03 3.35544650e-03 3.51261988e-05 2.98394752e-06]\n",
      " [4.22645845e-02 4.79545109e-16 4.38188363e-05 3.48942253e-15\n",
      "  7.25281552e-07 4.94824562e-05 6.32939773e-05 6.90964935e-03\n",
      "  5.95570309e-05 7.20228612e-01 8.15463252e-08 1.28706323e-03\n",
      "  1.65762279e-10 8.70616759e-07 4.46463027e-08 2.29092211e-01]\n",
      " [6.95477070e-07 4.11593704e-04 9.99400496e-01 8.39277536e-09\n",
      "  4.84321163e-07 9.17459511e-06 9.92686378e-09 3.52920271e-25\n",
      "  4.34049585e-18 1.33392822e-13 2.52041986e-24 3.09691422e-12\n",
      "  1.59291056e-04 1.82383628e-05 2.85124572e-14 6.56311201e-08]\n",
      " [2.31489597e-04 5.21547634e-07 4.01986108e-06 4.28592107e-15\n",
      "  2.45786741e-05 8.38836769e-08 1.22146330e-05 5.93113100e-06\n",
      "  5.30744728e-04 1.93392516e-05 9.90374327e-01 2.68153340e-08\n",
      "  7.68523291e-03 8.53523090e-07 4.35549964e-11 1.11076655e-03]\n",
      " [9.99891520e-01 2.82132106e-07 3.51047784e-05 3.04155798e-11\n",
      "  1.17346521e-09 2.06438045e-07 7.10661929e-09 2.47662455e-23\n",
      "  4.06093439e-19 1.37389307e-07 1.38717708e-26 2.43390491e-06\n",
      "  3.67592675e-12 3.93977494e-13 1.50313276e-18 7.02008183e-05]\n",
      " [7.07963090e-06 6.50358925e-06 2.46407435e-04 2.86703387e-13\n",
      "  1.70610729e-05 1.59735302e-03 6.87170043e-10 3.21280669e-09\n",
      "  2.01577688e-08 3.51575011e-07 1.74704189e-06 1.09508629e-14\n",
      "  6.10673521e-03 9.90056157e-01 9.09728369e-12 1.96062517e-03]\n",
      " [9.12006140e-01 1.56245822e-10 2.60654190e-07 5.27767442e-19\n",
      "  8.56463666e-05 2.34305389e-07 1.01830100e-03 1.60516038e-06\n",
      "  9.07811682e-06 7.88331851e-02 4.38424264e-04 1.05898914e-06\n",
      "  1.03623410e-04 1.19804566e-08 2.71899113e-03 4.78333700e-03]\n",
      " [1.19279696e-06 4.60502925e-08 9.99956250e-01 6.71408484e-11\n",
      "  6.41875204e-07 8.53077267e-07 7.06356741e-06 1.42594241e-24\n",
      "  1.59890714e-15 7.06355287e-12 3.80299519e-26 5.86483570e-11\n",
      "  2.49168352e-05 1.13965136e-07 1.89677442e-21 9.00402574e-06]\n",
      " [8.45559384e-07 9.99933600e-01 1.22163567e-06 2.25280732e-13\n",
      "  5.14162990e-10 4.65224215e-09 1.04858495e-08 2.59239277e-16\n",
      "  6.26812454e-17 4.29673019e-10 1.76424046e-16 2.07299927e-19\n",
      "  6.43664171e-05 1.56404917e-10 2.86284776e-12 2.39628117e-09]\n",
      " [9.13653970e-01 9.02717232e-15 6.44152396e-06 4.69751386e-15\n",
      "  1.30907949e-06 1.51278485e-07 1.80353620e-03 2.98881857e-03\n",
      "  4.73703898e-04 2.37289872e-02 4.75177512e-06 7.40799987e-06\n",
      "  3.14830184e-09 4.72377113e-04 2.41443688e-11 5.68585545e-02]\n",
      " [6.63963476e-07 3.63088725e-06 9.99992251e-01 6.59806915e-07\n",
      "  2.35295062e-07 8.90319427e-07 6.04660311e-13 3.49224874e-29\n",
      "  7.89940382e-23 1.35049318e-12 5.90108594e-27 5.15614366e-17\n",
      "  1.71456668e-06 9.77564807e-10 6.74458772e-16 4.70951944e-10]\n",
      " [2.19818158e-03 3.09974303e-11 1.12643371e-04 3.26737069e-21\n",
      "  4.22983896e-04 2.91119832e-05 1.25984883e-07 1.29082226e-04\n",
      "  2.69601308e-03 8.35453818e-07 8.02831709e-01 2.04719466e-12\n",
      "  1.62704185e-01 3.03586889e-09 7.57036905e-05 2.87995245e-02]\n",
      " [9.99009848e-01 4.02611659e-06 6.39020582e-04 1.48476426e-10\n",
      "  5.33037529e-14 1.88291006e-13 4.22470691e-07 2.22028337e-31\n",
      "  6.75847745e-24 2.18455281e-08 0.00000000e+00 4.53331133e-08\n",
      "  2.53838506e-10 5.15341346e-11 3.78472112e-22 3.46585090e-04]\n",
      " [3.79834564e-05 2.37671658e-03 8.37121297e-06 8.73764714e-15\n",
      "  3.96544965e-05 3.01757055e-08 5.98896258e-13 3.46737531e-13\n",
      "  5.00668187e-11 1.64645627e-07 5.87088152e-07 7.73132446e-16\n",
      "  1.65973524e-05 9.97519910e-01 7.21923021e-10 2.53251264e-09]\n",
      " [3.67928371e-02 1.01395102e-07 1.15824405e-04 4.50763066e-10\n",
      "  5.48010030e-06 5.06530151e-10 1.36438621e-11 1.21230699e-19\n",
      "  2.52075321e-08 4.33832072e-02 1.13865043e-23 7.31692051e-12\n",
      "  1.18803795e-12 1.87048134e-14 1.62763259e-04 9.19539750e-01]\n",
      " [2.32725029e-06 6.20302121e-09 9.99952555e-01 2.70958233e-14\n",
      "  1.50902423e-07 1.95493334e-13 2.69879386e-09 6.18748135e-28\n",
      "  1.10221880e-10 7.11122550e-10 2.44494342e-23 1.60170373e-07\n",
      "  2.80762433e-05 1.49386087e-05 5.93156167e-14 1.80907978e-06]\n",
      " [6.41829558e-07 9.98561442e-01 6.34846458e-07 4.52875937e-13\n",
      "  5.38926903e-09 2.13237639e-11 3.96083770e-08 1.44149031e-26\n",
      "  2.17071433e-17 1.30623637e-10 1.88922930e-28 9.64092955e-13\n",
      "  1.42264180e-03 4.01050269e-11 7.59941189e-15 1.46516004e-05]\n",
      " [8.40871751e-01 9.30083832e-09 7.90106691e-03 1.13283356e-08\n",
      "  4.48668243e-06 7.65888402e-08 5.95263031e-04 6.88278434e-10\n",
      "  1.64683183e-06 8.88256542e-03 5.82112752e-16 1.26519658e-13\n",
      "  9.36453333e-08 4.59400712e-11 2.69306821e-12 1.41743049e-01]]\n",
      "[13  9  2 12  9  2 10  0 13  9  2  1  9  2 10  0 13  0  2  1  0  2 10  0\n",
      " 13 15  2  1  0]\n",
      "[13  9  2 12  9  2 10  0 13  9  2  1  9  2 10  0 13  0  2  1  0  2 10  0\n",
      " 13 15  2  1  0]\n"
     ]
    }
   ],
   "source": [
    "nn=model.predict(trainX[1:30])\n",
    "print('ll',nn)\n",
    "nn2=numpy.argmax(nn,1)\n",
    "print(nn2)\n",
    "print(trainY[1:30])"
   ]
  },
  {
   "cell_type": "code",
   "execution_count": null,
   "metadata": {},
   "outputs": [],
   "source": []
  }
 ],
 "metadata": {
  "kernelspec": {
   "display_name": "Python 3",
   "language": "python",
   "name": "python3"
  },
  "language_info": {
   "codemirror_mode": {
    "name": "ipython",
    "version": 3
   },
   "file_extension": ".py",
   "mimetype": "text/x-python",
   "name": "python",
   "nbconvert_exporter": "python",
   "pygments_lexer": "ipython3",
   "version": "3.5.2"
  }
 },
 "nbformat": 4,
 "nbformat_minor": 2
}
