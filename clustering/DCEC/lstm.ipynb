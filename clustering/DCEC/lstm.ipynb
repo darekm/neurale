{
 "cells": [
  {
   "cell_type": "code",
   "execution_count": 2,
   "metadata": {},
   "outputs": [],
   "source": [
    "import numpy\n",
    "import matplotlib.pyplot as plt\n",
    "import pandas\n",
    "import math\n",
    "from tensorflow.keras.models import Sequential\n",
    "from tensorflow.keras.layers import Dense,Activation,Dropout\n",
    "from tensorflow.keras.layers import LSTM\n",
    "from tensorflow.keras.layers import Embedding\n",
    "from tensorflow.keras.layers import Conv1D, GlobalAveragePooling1D, MaxPooling1D\n",
    "\n",
    "from tensorflow.keras.backend import argmax\n",
    "from sklearn.preprocessing import MinMaxScaler\n",
    "from sklearn.metrics import mean_squared_error\n",
    "\n",
    "from tensorflow.keras.utils import to_categorical"
   ]
  },
  {
   "cell_type": "code",
   "execution_count": 3,
   "metadata": {},
   "outputs": [],
   "source": [
    "# convert an array of values into a dataset matrix\n",
    "def create_dataset(dataset, look_back=1):\n",
    "    dataX, dataY = [], []\n",
    "    for i in range(len(dataset)-look_back-1):\n",
    "        a = dataset[i:(i+look_back), 0]\n",
    "        dataY.append(dataset[i + look_back, 0]) \n",
    "        dataX.append(a)\n",
    "    return numpy.array(dataX), numpy.array(dataY)"
   ]
  },
  {
   "cell_type": "code",
   "execution_count": 4,
   "metadata": {},
   "outputs": [
    {
     "name": "stdout",
     "output_type": "stream",
     "text": [
      "MM (4030, 1)\n",
      "YPRED: (4030, 1)\n"
     ]
    },
    {
     "data": {
      "text/plain": [
       "2"
      ]
     },
     "execution_count": 4,
     "metadata": {},
     "output_type": "execute_result"
    }
   ],
   "source": [
    "import datasets \n",
    "from datasets import load_ypred, load_usps, load_mrec\n",
    "\n",
    "Y=load_ypred()\n",
    "\n",
    "Y.shape\n",
    "Y.iloc[10,0]"
   ]
  },
  {
   "cell_type": "code",
   "execution_count": 5,
   "metadata": {},
   "outputs": [],
   "source": [
    "from sklearn.preprocessing import MinMaxScaler\n",
    "\n",
    "scaler = MinMaxScaler(feature_range=(0, 0.999))\n",
    "YM = scaler.fit_transform(Y)\n"
   ]
  },
  {
   "cell_type": "code",
   "execution_count": 6,
   "metadata": {},
   "outputs": [],
   "source": [
    "look_back = 10\n",
    "trainX, trainY = create_dataset(YM, look_back)\n"
   ]
  },
  {
   "cell_type": "code",
   "execution_count": 7,
   "metadata": {},
   "outputs": [
    {
     "data": {
      "text/plain": [
       "array([0.1332, 0.7992, 0.3996, ..., 0.1332, 0.0666, 0.5994])"
      ]
     },
     "execution_count": 7,
     "metadata": {},
     "output_type": "execute_result"
    }
   ],
   "source": [
    "trainY"
   ]
  },
  {
   "cell_type": "code",
   "execution_count": 8,
   "metadata": {},
   "outputs": [
    {
     "data": {
      "text/plain": [
       "array([[0.0666, 0.5994, 0.1332, ..., 0.1332, 0.7992, 0.5994],\n",
       "       [0.5994, 0.1332, 0.7992, ..., 0.7992, 0.5994, 0.1332],\n",
       "       [0.1332, 0.7992, 0.3996, ..., 0.5994, 0.1332, 0.7992],\n",
       "       ...,\n",
       "       [0.0666, 0.5994, 0.1332, ..., 0.7326, 0.0666, 0.5994],\n",
       "       [0.5994, 0.1332, 0.0666, ..., 0.0666, 0.5994, 0.1332],\n",
       "       [0.1332, 0.0666, 0.5994, ..., 0.5994, 0.1332, 0.0666]])"
      ]
     },
     "execution_count": 8,
     "metadata": {},
     "output_type": "execute_result"
    }
   ],
   "source": [
    "trainX"
   ]
  },
  {
   "cell_type": "code",
   "execution_count": 9,
   "metadata": {},
   "outputs": [
    {
     "data": {
      "text/plain": [
       "(4019, 1, 10)"
      ]
     },
     "execution_count": 9,
     "metadata": {},
     "output_type": "execute_result"
    }
   ],
   "source": [
    "# reshape input to be [samples, time steps, features]\n",
    "trainX = numpy.reshape(trainX, (trainX.shape[0], 1, trainX.shape[1]))\n",
    "trainX.shape\n",
    "#testX = numpy.reshape(testX, (testX.shape[0], 1, testX.shape[1]))"
   ]
  },
  {
   "cell_type": "code",
   "execution_count": 10,
   "metadata": {},
   "outputs": [],
   "source": [
    "#le = preprocessing.LabelEncoder()\n",
    "#YN=utils.column_or_1d(Ydataset, warn=True)\n",
    "#YO=le.fit_transform(trainY)\n",
    "#YO\n"
   ]
  },
  {
   "cell_type": "code",
   "execution_count": 25,
   "metadata": {},
   "outputs": [
    {
     "name": "stdout",
     "output_type": "stream",
     "text": [
      "Epoch 1/10\n",
      "4019/4019 - 0s - loss: 0.2563\n",
      "Epoch 2/10\n",
      "4019/4019 - 0s - loss: 0.1939\n",
      "Epoch 3/10\n",
      "4019/4019 - 0s - loss: 0.1370\n",
      "Epoch 4/10\n",
      "4019/4019 - 0s - loss: 0.0971\n",
      "Epoch 5/10\n",
      "4019/4019 - 0s - loss: 0.0706\n",
      "Epoch 6/10\n",
      "4019/4019 - 0s - loss: 0.0589\n",
      "Epoch 7/10\n",
      "4019/4019 - 0s - loss: 0.0550\n",
      "Epoch 8/10\n",
      "4019/4019 - 0s - loss: 0.0531\n",
      "Epoch 9/10\n",
      "4019/4019 - 0s - loss: 0.0522\n",
      "Epoch 10/10\n",
      "4019/4019 - 0s - loss: 0.0515\n"
     ]
    },
    {
     "data": {
      "text/plain": [
       "<tensorflow.python.keras.callbacks.History at 0x7f5a4c499860>"
      ]
     },
     "execution_count": 25,
     "metadata": {},
     "output_type": "execute_result"
    }
   ],
   "source": [
    "# create and fit the LSTM network\n",
    "model = Sequential()\n",
    "model.add(LSTM(4, input_shape=(1, look_back)))\n",
    "model.add(Dense(1))\n",
    "model.compile(loss='mean_absolute_error'\n",
    "              , optimizer='adam')\n",
    "model.fit(trainX, trainY, epochs=10, verbose=2)"
   ]
  },
  {
   "cell_type": "code",
   "execution_count": 26,
   "metadata": {},
   "outputs": [
    {
     "data": {
      "text/plain": [
       "array([[[0.5994, 0.1332, 0.7992, 0.3996, 0.8658, 0.5994, 0.1332, 0.7992,\n",
       "         0.5994, 0.1332]],\n",
       "\n",
       "       [[0.1332, 0.7992, 0.3996, 0.8658, 0.5994, 0.1332, 0.7992, 0.5994,\n",
       "         0.1332, 0.7992]],\n",
       "\n",
       "       [[0.7992, 0.3996, 0.8658, 0.5994, 0.1332, 0.7992, 0.5994, 0.1332,\n",
       "         0.7992, 0.3996]],\n",
       "\n",
       "       [[0.3996, 0.8658, 0.5994, 0.1332, 0.7992, 0.5994, 0.1332, 0.7992,\n",
       "         0.3996, 0.8658]],\n",
       "\n",
       "       [[0.8658, 0.5994, 0.1332, 0.7992, 0.5994, 0.1332, 0.7992, 0.3996,\n",
       "         0.8658, 0.5994]],\n",
       "\n",
       "       [[0.5994, 0.1332, 0.7992, 0.5994, 0.1332, 0.7992, 0.3996, 0.8658,\n",
       "         0.5994, 0.1332]],\n",
       "\n",
       "       [[0.1332, 0.7992, 0.5994, 0.1332, 0.7992, 0.3996, 0.8658, 0.5994,\n",
       "         0.1332, 0.7992]]])"
      ]
     },
     "execution_count": 26,
     "metadata": {},
     "output_type": "execute_result"
    }
   ],
   "source": [
    "trainX[1:8,:]"
   ]
  },
  {
   "cell_type": "code",
   "execution_count": 27,
   "metadata": {},
   "outputs": [
    {
     "name": "stdout",
     "output_type": "stream",
     "text": [
      "ll\n",
      "[[0.81976426]\n",
      " [0.40435225]\n",
      " [0.8882693 ]\n",
      " [0.58376896]\n",
      " [0.14225036]\n",
      " [0.80790144]\n",
      " [0.61237615]\n",
      " [0.1057815 ]\n",
      " [0.8197643 ]]\n"
     ]
    }
   ],
   "source": [
    "nn=model.predict(trainX[1:10,:])\n",
    "print('ll')\n",
    "print(nn)"
   ]
  },
  {
   "cell_type": "raw",
   "metadata": {},
   "source": [
    "#nn=model.predict(trainX)\n",
    "#print(nn.shape)\n",
    "print('oo')"
   ]
  },
  {
   "cell_type": "code",
   "execution_count": 1,
   "metadata": {},
   "outputs": [
    {
     "ename": "NameError",
     "evalue": "name 'model' is not defined",
     "output_type": "error",
     "traceback": [
      "\u001b[0;31m---------------------------------------------------------------------------\u001b[0m",
      "\u001b[0;31mNameError\u001b[0m                                 Traceback (most recent call last)",
      "\u001b[0;32m<ipython-input-1-3a6361452f1c>\u001b[0m in \u001b[0;36m<module>\u001b[0;34m()\u001b[0m\n\u001b[0;32m----> 1\u001b[0;31m \u001b[0mscore\u001b[0m \u001b[0;34m=\u001b[0m \u001b[0mmodel\u001b[0m\u001b[0;34m.\u001b[0m\u001b[0mevaluate\u001b[0m\u001b[0;34m(\u001b[0m\u001b[0mtrainX\u001b[0m\u001b[0;34m,\u001b[0m \u001b[0mtrainY\u001b[0m\u001b[0;34m,\u001b[0m \u001b[0mverbose\u001b[0m\u001b[0;34m=\u001b[0m\u001b[0;36m1\u001b[0m\u001b[0;34m)\u001b[0m\u001b[0;34m\u001b[0m\u001b[0m\n\u001b[0m\u001b[1;32m      2\u001b[0m \u001b[0;34m\u001b[0m\u001b[0m\n\u001b[1;32m      3\u001b[0m \u001b[0mprint\u001b[0m\u001b[0;34m(\u001b[0m\u001b[0;34m'Test loss:'\u001b[0m\u001b[0;34m,\u001b[0m \u001b[0mscore\u001b[0m\u001b[0;34m)\u001b[0m\u001b[0;34m\u001b[0m\u001b[0m\n\u001b[1;32m      4\u001b[0m \u001b[0mprint\u001b[0m\u001b[0;34m(\u001b[0m\u001b[0;34m'Test accuracy:'\u001b[0m\u001b[0;34m,\u001b[0m \u001b[0mscore\u001b[0m\u001b[0;34m)\u001b[0m\u001b[0;34m\u001b[0m\u001b[0m\n",
      "\u001b[0;31mNameError\u001b[0m: name 'model' is not defined"
     ]
    }
   ],
   "source": [
    "score = model.evaluate(trainX, trainY, verbose=1)\n",
    "\n",
    "print('Test loss:', score)\n",
    "print('Test accuracy:', score)\n"
   ]
  },
  {
   "cell_type": "code",
   "execution_count": null,
   "metadata": {},
   "outputs": [],
   "source": []
  }
 ],
 "metadata": {
  "kernelspec": {
   "display_name": "Python 3",
   "language": "python",
   "name": "python3"
  },
  "language_info": {
   "codemirror_mode": {
    "name": "ipython",
    "version": 3
   },
   "file_extension": ".py",
   "mimetype": "text/x-python",
   "name": "python",
   "nbconvert_exporter": "python",
   "pygments_lexer": "ipython3",
   "version": "3.5.2"
  }
 },
 "nbformat": 4,
 "nbformat_minor": 2
}
