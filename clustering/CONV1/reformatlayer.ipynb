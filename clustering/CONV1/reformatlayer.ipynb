{
 "cells": [
  {
   "cell_type": "code",
   "execution_count": 602,
   "metadata": {},
   "outputs": [],
   "source": [
    "import numpy as np\n",
    "import matplotlib.pyplot as plt\n",
    "import pandas\n",
    "import math\n",
    "import tensorflow as tf\n",
    "from tensorflow.keras.models import Sequential\n",
    "from tensorflow.keras.layers import Dense,Activation,Dropout\n",
    "from tensorflow.keras.layers import Layer,Input,InputSpec\n",
    "from tensorflow.keras.layers import Embedding\n",
    "from tensorflow.keras.layers import Conv1D, GlobalAveragePooling1D, MaxPooling1D\n",
    "from tensorflow.keras.layers import Conv2D,Flatten,ConvLSTM2D,Conv1D\n",
    "from tensorflow.keras import backend as K\n",
    "\n",
    "from tensorflow.python.ops import math_ops\n",
    "from tensorflow.keras.backend import argmax\n",
    "from sklearn.preprocessing import MinMaxScaler\n",
    "from sklearn.metrics import mean_squared_error\n",
    "from reformat import ReformatLayer\n",
    "\n",
    "from tensorflow.keras.utils import to_categorical\n"
   ]
  },
  {
   "cell_type": "code",
   "execution_count": 639,
   "metadata": {},
   "outputs": [],
   "source": [
    "class ReformatLayer(Layer):\n",
    "    def __init__(self, n_window,   **kwargs):\n",
    "        if 'input_shape' not in kwargs and 'input_dim' in kwargs:\n",
    "            kwargs['input_shape'] = (kwargs.pop('input_dim'),)\n",
    "        super(ReformatLayer, self).__init__(**kwargs)\n",
    "        self.n_window = n_window\n",
    "        #self.initial_weights = weights\n",
    "        self.input_spec = InputSpec(ndim=2)\n",
    "\n",
    "    def _MinMax(self,aInp):\n",
    "        xf = K.cast(aInp, 'float32') \n",
    "        x = math_ops.div_no_nan(\n",
    "            math_ops.subtract( xf,  tf.reduce_min(xf)            ), \n",
    "            math_ops.subtract(tf.reduce_max(xf),    tf.reduce_min(xf)) \n",
    "            )\n",
    "        return x\n",
    "    def _create_data(self,ainp,aWindow):\n",
    "        xx=ainp\n",
    "        for i in range(aWindow-1):\n",
    "            x=tf.roll(ainp,-i-1,0)\n",
    "            xx=tf.concat([xx,x],1)\n",
    "        #x2=tf.roll(ainp,[-1,-1],[-1,2])\n",
    "        #xx2=tf.concat([xx,x2],1)\n",
    "        #x3=tf.roll(ainp,[-1,-1],[-1,3])\n",
    "        #xx3=tf.concat([xx2,x3],1)\n",
    "        print('x2=',xx)\n",
    "        return xx    \n",
    "\n",
    "    def create_dataset(self, dataset, look_back=1):\n",
    "        from sklearn.preprocessing import MinMaxScaler\n",
    "        print('dataset ',dataset) \n",
    "        print('datshape',dataset.get_shape()[0])\n",
    "        ln=dataset.get_shape()[0]\n",
    "        #scaler = MinMaxScaler(feature_range=(0, 0.999))\n",
    "        #YM = scaler.fit_transform(dataset)\n",
    "        dataX=[]\n",
    "        dataY =  []\n",
    "        if ln is not None:\n",
    "            for i in range(ln-look_back):\n",
    "                a = dataset[i:(i+look_back)]\n",
    "                dataY.append(dataset[i + look_back]) \n",
    "                dataX.append(a)\n",
    "        #dataXX= numpy.reshape(dataX, (dataX.shape[0], dataX.shape[1],1))\n",
    "    \n",
    "        return np.array(dataX), np.array(dataY) \n",
    "\n",
    "    def build(self, input_shape):\n",
    "        print('build', input_shape)\n",
    "        #input_dim = input_shape[1]\n",
    "        self.input_spec = InputSpec(dtype=K.floatx(), shape=(None,1 ))\n",
    "        self.total = tf.Variable(initial_value=tf.ones((input_shape[1],)),\n",
    "                             trainable=False)\n",
    "\n",
    "        #self.input_spec = [InputSpec(shape=input_shape)]\n",
    "        # assert len(input_shape) == 1\n",
    "        #input_dim = input_shape[1]\n",
    "        #self.input_spec = InputSpec(dtype=tf.int32, shape=(None, input_dim))\n",
    "        #self.clusters = self.add_weight('clusters',(self.n_clusters, input_dim), initializer='glorot_uniform')\n",
    "        self.built = True\n",
    "\n",
    "    def call(self, inputs, **kwargs):\n",
    "        print('call',inputs)\n",
    "        xx0=self._MinMax(inputs)\n",
    "        print('minmax=',xx0)\n",
    "        #x,y=self.create_dataset(inputs,self.n_window)\n",
    "        x=self._create_data(xx0,self.n_window)\n",
    "        print('x.shape',x.shape)\n",
    "        x1= np.reshape(x, (x.shape[0], 1,x.shape[1]))\n",
    "        print('xq=',x1.shape)\n",
    "        return x1\n",
    "\n",
    "    def compute_output_shape(self, input_shape):\n",
    "        print('output',input_shape)\n",
    "        assert input_shape and len(input_shape) == 2\n",
    "        return input_shape[0], self.n_window\n",
    "\n",
    "    def get_config(self):\n",
    "        config = {'n_window': self.n_window}\n",
    "        base_config = super(ReformatLayer, self).get_config()\n",
    "        return dict(list(base_config.items()) + list(config.items()))\n",
    "     "
   ]
  },
  {
   "cell_type": "code",
   "execution_count": null,
   "metadata": {},
   "outputs": [],
   "source": []
  },
  {
   "cell_type": "code",
   "execution_count": 640,
   "metadata": {},
   "outputs": [
    {
     "data": {
      "text/plain": [
       "<tf.Tensor: id=11673, shape=(1,), dtype=int32, numpy=array([1], dtype=int32)>"
      ]
     },
     "execution_count": 640,
     "metadata": {},
     "output_type": "execute_result"
    }
   ],
   "source": [
    "x = tf.ones((1),dtype=tf.int32)\n",
    "#x=K.reshape(x,(None,1))\n",
    "x"
   ]
  },
  {
   "cell_type": "code",
   "execution_count": 641,
   "metadata": {},
   "outputs": [
    {
     "data": {
      "text/plain": [
       "array([1., 2., 3.], dtype=float32)"
      ]
     },
     "execution_count": 641,
     "metadata": {},
     "output_type": "execute_result"
    }
   ],
   "source": [
    "mm=np.array([1,2,3])\n",
    "mmm=mm.astype(K.floatx())\n",
    "mmm"
   ]
  },
  {
   "cell_type": "code",
   "execution_count": null,
   "metadata": {},
   "outputs": [],
   "source": []
  },
  {
   "cell_type": "code",
   "execution_count": 642,
   "metadata": {},
   "outputs": [
    {
     "data": {
      "text/plain": [
       "<tf.Tensor: id=11684, shape=(4, 4), dtype=int64, numpy=\n",
       "array([[1, 2, 3, 5],\n",
       "       [2, 3, 5, 6],\n",
       "       [3, 5, 6, 7],\n",
       "       [5, 6, 7, 8]])>"
      ]
     },
     "execution_count": 642,
     "metadata": {},
     "output_type": "execute_result"
    }
   ],
   "source": [
    "y=[[1],[2],[3],[5],[6],[7],[8]]\n",
    "#y=[[]]\n",
    "\n",
    "#xx=tf.concat([[]],0)\n",
    "xx=np.array(y[0:len(y)-3])\n",
    "#x1=np.array(y[1:len(y)-2])\n",
    "#xx=tf.concat([y,y],1)\n",
    "for i in range(3):\n",
    "    x1=y[i+1:len(y)-2+i]\n",
    "    \n",
    "    xx=tf.concat([xx,x1],1)\n",
    "    \n",
    "xx"
   ]
  },
  {
   "cell_type": "code",
   "execution_count": 643,
   "metadata": {},
   "outputs": [
    {
     "data": {
      "text/plain": [
       "<tf.Tensor: id=11689, shape=(7, 2), dtype=int32, numpy=\n",
       "array([[1, 1],\n",
       "       [2, 2],\n",
       "       [3, 3],\n",
       "       [5, 5],\n",
       "       [6, 6],\n",
       "       [7, 7],\n",
       "       [8, 8]], dtype=int32)>"
      ]
     },
     "execution_count": 643,
     "metadata": {},
     "output_type": "execute_result"
    }
   ],
   "source": [
    "#xx = tf.concat([y,[[12],[13],[14],[15],[16],[17]]],1)\n",
    "xx= tf.concat([y,y],1)\n",
    "#xx = tf.concat([xx,[[12],[13],[14],[15],[16],[17]]],1)\n",
    "#xx = tf.concat([xx,[[12],[13],[14],[15],[16],[17]]],1)\n",
    "xx\n",
    "#xx2=K.reshape(xx,(-1,5))\n",
    "#xx2.shape"
   ]
  },
  {
   "cell_type": "code",
   "execution_count": 644,
   "metadata": {},
   "outputs": [
    {
     "data": {
      "text/plain": [
       "<tf.Tensor: id=11697, shape=(20,), dtype=int32, numpy=\n",
       "array([3, 4, 5, 6, 7, 1, 1, 1, 1, 1, 1, 1, 1, 1, 1, 3, 4, 5, 6, 7],\n",
       "      dtype=int32)>"
      ]
     },
     "execution_count": 644,
     "metadata": {},
     "output_type": "execute_result"
    }
   ],
   "source": [
    "x = tf.ones((10),dtype=tf.int32)\n",
    "y=[3,4,5,6,7]\n",
    "z=tf.concat([y,x,y],0)\n",
    "z"
   ]
  },
  {
   "cell_type": "code",
   "execution_count": 645,
   "metadata": {},
   "outputs": [
    {
     "data": {
      "text/plain": [
       "<tf.Tensor: id=11700, shape=(20, 1), dtype=int32, numpy=\n",
       "array([[3],\n",
       "       [4],\n",
       "       [5],\n",
       "       [6],\n",
       "       [7],\n",
       "       [1],\n",
       "       [1],\n",
       "       [1],\n",
       "       [1],\n",
       "       [1],\n",
       "       [1],\n",
       "       [1],\n",
       "       [1],\n",
       "       [1],\n",
       "       [1],\n",
       "       [3],\n",
       "       [4],\n",
       "       [5],\n",
       "       [6],\n",
       "       [7]], dtype=int32)>"
      ]
     },
     "execution_count": 645,
     "metadata": {},
     "output_type": "execute_result"
    }
   ],
   "source": [
    "zt2=K.reshape(z,(-1,1))\n",
    "zt2"
   ]
  },
  {
   "cell_type": "code",
   "execution_count": 646,
   "metadata": {},
   "outputs": [
    {
     "data": {
      "text/plain": [
       "<tf.Tensor: id=11697, shape=(20,), dtype=int32, numpy=\n",
       "array([3, 4, 5, 6, 7, 1, 1, 1, 1, 1, 1, 1, 1, 1, 1, 3, 4, 5, 6, 7],\n",
       "      dtype=int32)>"
      ]
     },
     "execution_count": 646,
     "metadata": {},
     "output_type": "execute_result"
    }
   ],
   "source": [
    "#x=[1,1]\n",
    "#tf.backend.eval(x)\n",
    "wi=Input([1,2,3])\n",
    "z2=tf.constant([])\n",
    "z1=tf.constant([2])\n",
    "#z2.append(z1)\n",
    "#z=tf.Variable([1])\n",
    "#z=tf.Tensor([1,2,3],dtype=tf.int32)\n",
    "z"
   ]
  },
  {
   "cell_type": "code",
   "execution_count": 647,
   "metadata": {},
   "outputs": [
    {
     "name": "stdout",
     "output_type": "stream",
     "text": [
      "build (20, 1)\n",
      "call tf.Tensor(\n",
      "[[3]\n",
      " [4]\n",
      " [5]\n",
      " [6]\n",
      " [7]\n",
      " [1]\n",
      " [1]\n",
      " [1]\n",
      " [1]\n",
      " [1]\n",
      " [1]\n",
      " [1]\n",
      " [1]\n",
      " [1]\n",
      " [1]\n",
      " [3]\n",
      " [4]\n",
      " [5]\n",
      " [6]\n",
      " [7]], shape=(20, 1), dtype=int32)\n",
      "minmax= tf.Tensor(\n",
      "[[0.33333334]\n",
      " [0.5       ]\n",
      " [0.6666667 ]\n",
      " [0.8333333 ]\n",
      " [1.        ]\n",
      " [0.        ]\n",
      " [0.        ]\n",
      " [0.        ]\n",
      " [0.        ]\n",
      " [0.        ]\n",
      " [0.        ]\n",
      " [0.        ]\n",
      " [0.        ]\n",
      " [0.        ]\n",
      " [0.        ]\n",
      " [0.33333334]\n",
      " [0.5       ]\n",
      " [0.6666667 ]\n",
      " [0.8333333 ]\n",
      " [1.        ]], shape=(20, 1), dtype=float32)\n",
      "x2= tf.Tensor(\n",
      "[[0.33333334 0.5        0.6666667  0.8333333  1.        ]\n",
      " [0.5        0.6666667  0.8333333  1.         0.        ]\n",
      " [0.6666667  0.8333333  1.         0.         0.        ]\n",
      " [0.8333333  1.         0.         0.         0.        ]\n",
      " [1.         0.         0.         0.         0.        ]\n",
      " [0.         0.         0.         0.         0.        ]\n",
      " [0.         0.         0.         0.         0.        ]\n",
      " [0.         0.         0.         0.         0.        ]\n",
      " [0.         0.         0.         0.         0.        ]\n",
      " [0.         0.         0.         0.         0.        ]\n",
      " [0.         0.         0.         0.         0.        ]\n",
      " [0.         0.         0.         0.         0.33333334]\n",
      " [0.         0.         0.         0.33333334 0.5       ]\n",
      " [0.         0.         0.33333334 0.5        0.6666667 ]\n",
      " [0.         0.33333334 0.5        0.6666667  0.8333333 ]\n",
      " [0.33333334 0.5        0.6666667  0.8333333  1.        ]\n",
      " [0.5        0.6666667  0.8333333  1.         0.33333334]\n",
      " [0.6666667  0.8333333  1.         0.33333334 0.5       ]\n",
      " [0.8333333  1.         0.33333334 0.5        0.6666667 ]\n",
      " [1.         0.33333334 0.5        0.6666667  0.8333333 ]], shape=(20, 5), dtype=float32)\n",
      "x.shape (20, 5)\n",
      "xq= (20, 1, 5)\n",
      "[[[0.33333334 0.5        0.6666667  0.8333333  1.        ]]\n",
      "\n",
      " [[0.5        0.6666667  0.8333333  1.         0.        ]]\n",
      "\n",
      " [[0.6666667  0.8333333  1.         0.         0.        ]]\n",
      "\n",
      " [[0.8333333  1.         0.         0.         0.        ]]\n",
      "\n",
      " [[1.         0.         0.         0.         0.        ]]\n",
      "\n",
      " [[0.         0.         0.         0.         0.        ]]\n",
      "\n",
      " [[0.         0.         0.         0.         0.        ]]\n",
      "\n",
      " [[0.         0.         0.         0.         0.        ]]\n",
      "\n",
      " [[0.         0.         0.         0.         0.        ]]\n",
      "\n",
      " [[0.         0.         0.         0.         0.        ]]\n",
      "\n",
      " [[0.         0.         0.         0.         0.        ]]\n",
      "\n",
      " [[0.         0.         0.         0.         0.33333334]]\n",
      "\n",
      " [[0.         0.         0.         0.33333334 0.5       ]]\n",
      "\n",
      " [[0.         0.         0.33333334 0.5        0.6666667 ]]\n",
      "\n",
      " [[0.         0.33333334 0.5        0.6666667  0.8333333 ]]\n",
      "\n",
      " [[0.33333334 0.5        0.6666667  0.8333333  1.        ]]\n",
      "\n",
      " [[0.5        0.6666667  0.8333333  1.         0.33333334]]\n",
      "\n",
      " [[0.6666667  0.8333333  1.         0.33333334 0.5       ]]\n",
      "\n",
      " [[0.8333333  1.         0.33333334 0.5        0.6666667 ]]\n",
      "\n",
      " [[1.         0.33333334 0.5        0.6666667  0.8333333 ]]]\n"
     ]
    }
   ],
   "source": [
    "linear_layer = ReformatLayer( 5)\n",
    "y = linear_layer(zt2)\n",
    "print(y)"
   ]
  },
  {
   "cell_type": "code",
   "execution_count": 651,
   "metadata": {},
   "outputs": [],
   "source": [
    "# convert an array of values into a dataset matrix\n",
    "def create_dataset(dataset, look_back=1):\n",
    "    dataX, dataY = [], []\n",
    "    for i in range(len(dataset)-look_back-1):\n",
    "        a = dataset[i:(i+look_back), 0]\n",
    "        dataY.append(dataset[i + look_back, 0]) \n",
    "        dataX.append(a)\n",
    "    return numpy.array(dataX), numpy.array(dataY)"
   ]
  },
  {
   "cell_type": "code",
   "execution_count": null,
   "metadata": {},
   "outputs": [],
   "source": [
    "zzz="
   ]
  },
  {
   "cell_type": "code",
   "execution_count": 654,
   "metadata": {},
   "outputs": [
    {
     "data": {
      "text/plain": [
       "array([[3, 4, 5, 6, 7],\n",
       "       [4, 5, 6, 7, 1],\n",
       "       [5, 6, 7, 1, 1],\n",
       "       [6, 7, 1, 1, 1],\n",
       "       [7, 1, 1, 1, 1],\n",
       "       [1, 1, 1, 1, 1],\n",
       "       [1, 1, 1, 1, 1],\n",
       "       [1, 1, 1, 1, 1],\n",
       "       [1, 1, 1, 1, 1],\n",
       "       [1, 1, 1, 1, 1],\n",
       "       [1, 1, 1, 1, 1],\n",
       "       [1, 1, 1, 1, 3],\n",
       "       [1, 1, 1, 3, 4],\n",
       "       [1, 1, 3, 4, 5]], dtype=int32)"
      ]
     },
     "execution_count": 654,
     "metadata": {},
     "output_type": "execute_result"
    }
   ],
   "source": []
  },
  {
   "cell_type": "code",
   "execution_count": 657,
   "metadata": {},
   "outputs": [
    {
     "data": {
      "text/plain": [
       "array([[0.33333 ],\n",
       "       [0.499995],\n",
       "       [0.66666 ],\n",
       "       [0.833325],\n",
       "       [0.99999 ],\n",
       "       [0.      ],\n",
       "       [0.      ],\n",
       "       [0.      ],\n",
       "       [0.      ],\n",
       "       [0.      ],\n",
       "       [0.      ],\n",
       "       [0.      ],\n",
       "       [0.      ],\n",
       "       [0.      ],\n",
       "       [0.      ],\n",
       "       [0.33333 ],\n",
       "       [0.499995],\n",
       "       [0.66666 ],\n",
       "       [0.833325],\n",
       "       [0.99999 ]])"
      ]
     },
     "execution_count": 657,
     "metadata": {},
     "output_type": "execute_result"
    }
   ],
   "source": [
    "from sklearn.preprocessing import MinMaxScaler\n",
    "\n",
    "scaler = MinMaxScaler(feature_range=(0, 0.99999))\n",
    "YM = scaler.fit_transform(zt2)\n",
    "#YM=Y.loc[:,:]\n",
    "YM\n",
    "\n",
    "#numpy.bincount(Y.iloc[:,0])"
   ]
  },
  {
   "cell_type": "code",
   "execution_count": 658,
   "metadata": {},
   "outputs": [
    {
     "data": {
      "text/plain": [
       "array([[0.33333 , 0.499995, 0.66666 , 0.833325, 0.99999 ],\n",
       "       [0.499995, 0.66666 , 0.833325, 0.99999 , 0.      ],\n",
       "       [0.66666 , 0.833325, 0.99999 , 0.      , 0.      ],\n",
       "       [0.833325, 0.99999 , 0.      , 0.      , 0.      ],\n",
       "       [0.99999 , 0.      , 0.      , 0.      , 0.      ],\n",
       "       [0.      , 0.      , 0.      , 0.      , 0.      ],\n",
       "       [0.      , 0.      , 0.      , 0.      , 0.      ],\n",
       "       [0.      , 0.      , 0.      , 0.      , 0.      ],\n",
       "       [0.      , 0.      , 0.      , 0.      , 0.      ],\n",
       "       [0.      , 0.      , 0.      , 0.      , 0.      ],\n",
       "       [0.      , 0.      , 0.      , 0.      , 0.      ],\n",
       "       [0.      , 0.      , 0.      , 0.      , 0.33333 ],\n",
       "       [0.      , 0.      , 0.      , 0.33333 , 0.499995],\n",
       "       [0.      , 0.      , 0.33333 , 0.499995, 0.66666 ]])"
      ]
     },
     "execution_count": 658,
     "metadata": {},
     "output_type": "execute_result"
    }
   ],
   "source": [
    "zz1,zz2=create_dataset(YM,5)\n",
    "zz1"
   ]
  },
  {
   "cell_type": "code",
   "execution_count": 659,
   "metadata": {},
   "outputs": [
    {
     "data": {
      "text/plain": [
       "(14, 5)"
      ]
     },
     "execution_count": 659,
     "metadata": {},
     "output_type": "execute_result"
    }
   ],
   "source": [
    "zz1.shape"
   ]
  },
  {
   "cell_type": "code",
   "execution_count": 648,
   "metadata": {},
   "outputs": [],
   "source": [
    "class ComputeSum(Layer):\n",
    "\n",
    "    def __init__(self):\n",
    "        super(ComputeSum, self).__init__()\n",
    "        #self.total = tf.Variable(initial_value=tf.zeros((input_dim,)),\n",
    "        #                     trainable=False)\n",
    "\n",
    "    def build(self, input_shape):\n",
    "        print('build', input_shape)\n",
    "        print('bmm',input_shape[-1])\n",
    "        #init = tf.constant([1,2,3,4])\n",
    "        self.w = tf.Variable(initial_value=\n",
    "                             tf.ones((input_shape[-1],20)),\n",
    "                             trainable=False)\n",
    "        #self.w = self.add_weight(shape=(input_shape[-1], 3),\n",
    "        #                     initializer='random_normal',\n",
    "        #                     trainable=False)\n",
    "        #self.w=np.array([1.,2.,3.]\n",
    "    def call(self, inputs):\n",
    "        print('call',inputs)\n",
    "        print('w',self.w)\n",
    "        return tf.matmul(inputs, self.w) \n",
    "        #self.total.assign_add(tf.reduce_sum(inputs, axis=0))\n",
    "        #return self.total"
   ]
  },
  {
   "cell_type": "code",
   "execution_count": 649,
   "metadata": {},
   "outputs": [
    {
     "name": "stdout",
     "output_type": "stream",
     "text": [
      "x1 tf.Tensor(\n",
      "[[4.]\n",
      " [5.]\n",
      " [6.]\n",
      " [7.]\n",
      " [2.]\n",
      " [3.]], shape=(6, 1), dtype=float32)\n",
      "xshape (6, 2)\n"
     ]
    },
    {
     "ename": "InvalidArgumentError",
     "evalue": "If there is only one output, it must have the same size as the input. Input size: 6 output size: 0 [Op:SplitV] name: split",
     "output_type": "error",
     "traceback": [
      "\u001b[0;31m---------------------------------------------------------------------------\u001b[0m",
      "\u001b[0;31mInvalidArgumentError\u001b[0m                      Traceback (most recent call last)",
      "\u001b[0;32m<ipython-input-649-5ff9d85bcec3>\u001b[0m in \u001b[0;36m<module>\u001b[0;34m()\u001b[0m\n\u001b[1;32m     11\u001b[0m \u001b[0;31m#x=tf.reshape(x,(-1,1))\u001b[0m\u001b[0;34m\u001b[0m\u001b[0;34m\u001b[0m\u001b[0m\n\u001b[1;32m     12\u001b[0m \u001b[0mprint\u001b[0m\u001b[0;34m(\u001b[0m\u001b[0;34m'xshape'\u001b[0m\u001b[0;34m,\u001b[0m\u001b[0mxn\u001b[0m\u001b[0;34m.\u001b[0m\u001b[0mshape\u001b[0m\u001b[0;34m)\u001b[0m\u001b[0;34m\u001b[0m\u001b[0m\n\u001b[0;32m---> 13\u001b[0;31m \u001b[0mxn3\u001b[0m\u001b[0;34m,\u001b[0m\u001b[0mxn4\u001b[0m\u001b[0;34m=\u001b[0m\u001b[0mtf\u001b[0m\u001b[0;34m.\u001b[0m\u001b[0msplit\u001b[0m\u001b[0;34m(\u001b[0m\u001b[0mxn\u001b[0m\u001b[0;34m,\u001b[0m\u001b[0;34m[\u001b[0m\u001b[0;36m0\u001b[0m\u001b[0;34m]\u001b[0m\u001b[0;34m,\u001b[0m\u001b[0;36m0\u001b[0m\u001b[0;34m)\u001b[0m\u001b[0;34m\u001b[0m\u001b[0m\n\u001b[0m\u001b[1;32m     14\u001b[0m \u001b[0;31m#y=tf.roll(xn,2,0)\u001b[0m\u001b[0;34m\u001b[0m\u001b[0;34m\u001b[0m\u001b[0m\n\u001b[1;32m     15\u001b[0m \u001b[0;31m#y=tf.slice(x,[0,3],[-1 ,-1])\u001b[0m\u001b[0;34m\u001b[0m\u001b[0;34m\u001b[0m\u001b[0m\n",
      "\u001b[0;32m~/.local/lib/python3.5/site-packages/tensorflow/python/ops/array_ops.py\u001b[0m in \u001b[0;36msplit\u001b[0;34m(value, num_or_size_splits, axis, num, name)\u001b[0m\n\u001b[1;32m   1537\u001b[0m \u001b[0;34m\u001b[0m\u001b[0m\n\u001b[1;32m   1538\u001b[0m   return gen_array_ops.split_v(\n\u001b[0;32m-> 1539\u001b[0;31m       value=value, size_splits=size_splits, axis=axis, num_split=num, name=name)\n\u001b[0m\u001b[1;32m   1540\u001b[0m \u001b[0;34m\u001b[0m\u001b[0m\n\u001b[1;32m   1541\u001b[0m \u001b[0;34m\u001b[0m\u001b[0m\n",
      "\u001b[0;32m~/.local/lib/python3.5/site-packages/tensorflow/python/ops/gen_array_ops.py\u001b[0m in \u001b[0;36msplit_v\u001b[0;34m(value, size_splits, axis, num_split, name)\u001b[0m\n\u001b[1;32m   9406\u001b[0m       \u001b[0;32melse\u001b[0m\u001b[0;34m:\u001b[0m\u001b[0;34m\u001b[0m\u001b[0m\n\u001b[1;32m   9407\u001b[0m         \u001b[0mmessage\u001b[0m \u001b[0;34m=\u001b[0m \u001b[0me\u001b[0m\u001b[0;34m.\u001b[0m\u001b[0mmessage\u001b[0m\u001b[0;34m\u001b[0m\u001b[0m\n\u001b[0;32m-> 9408\u001b[0;31m       \u001b[0m_six\u001b[0m\u001b[0;34m.\u001b[0m\u001b[0mraise_from\u001b[0m\u001b[0;34m(\u001b[0m\u001b[0m_core\u001b[0m\u001b[0;34m.\u001b[0m\u001b[0m_status_to_exception\u001b[0m\u001b[0;34m(\u001b[0m\u001b[0me\u001b[0m\u001b[0;34m.\u001b[0m\u001b[0mcode\u001b[0m\u001b[0;34m,\u001b[0m \u001b[0mmessage\u001b[0m\u001b[0;34m)\u001b[0m\u001b[0;34m,\u001b[0m \u001b[0;32mNone\u001b[0m\u001b[0;34m)\u001b[0m\u001b[0;34m\u001b[0m\u001b[0m\n\u001b[0m\u001b[1;32m   9409\u001b[0m   \u001b[0;31m# Add nodes to the TensorFlow graph.\u001b[0m\u001b[0;34m\u001b[0m\u001b[0;34m\u001b[0m\u001b[0m\n\u001b[1;32m   9410\u001b[0m   \u001b[0mnum_split\u001b[0m \u001b[0;34m=\u001b[0m \u001b[0m_execute\u001b[0m\u001b[0;34m.\u001b[0m\u001b[0mmake_int\u001b[0m\u001b[0;34m(\u001b[0m\u001b[0mnum_split\u001b[0m\u001b[0;34m,\u001b[0m \u001b[0;34m\"num_split\"\u001b[0m\u001b[0;34m)\u001b[0m\u001b[0;34m\u001b[0m\u001b[0m\n",
      "\u001b[0;32m~/.local/lib/python3.5/site-packages/six.py\u001b[0m in \u001b[0;36mraise_from\u001b[0;34m(value, from_value)\u001b[0m\n",
      "\u001b[0;31mInvalidArgumentError\u001b[0m: If there is only one output, it must have the same size as the input. Input size: 6 output size: 0 [Op:SplitV] name: split"
     ]
    }
   ],
   "source": [
    "x = tf.concat([[1.,2.,3,4,5,6]],0)\n",
    "x=tf.reshape(x,[-1,1])\n",
    "x1 = tf.concat([[2.,3,4,5,6,7]],0)\n",
    "x1=tf.roll(x1,-2,0)\n",
    "x1=tf.reshape(x1,[-1,1])\n",
    "print('x1',x1)\n",
    "#xn=tf.stack([x,x1],1)\n",
    "xn=tf.concat([x,x1],1)\n",
    "xn2=tf.concat([xn,x],1)\n",
    "#x=Input(numpy.array([[1.,1.,2.][1,4,6]]))\n",
    "#x=tf.reshape(x,(-1,1))\n",
    "print('xshape',xn.shape)\n",
    "xn3,xn4=tf.split(xn,[0],0)\n",
    "#y=tf.roll(xn,2,0)\n",
    "#y=tf.slice(x,[0,3],[-1 ,-1])\n",
    "print(xn3)"
   ]
  },
  {
   "cell_type": "code",
   "execution_count": 474,
   "metadata": {},
   "outputs": [
    {
     "name": "stdout",
     "output_type": "stream",
     "text": [
      "tf.Tensor(\n",
      "[[1. 3.]\n",
      " [2. 4.]\n",
      " [3. 5.]], shape=(3, 2), dtype=float32)\n"
     ]
    },
    {
     "data": {
      "text/plain": [
       "<tf.Tensor: id=7992, shape=(3, 2), dtype=float32, numpy=\n",
       "array([[1., 3.],\n",
       "       [2., 4.],\n",
       "       [3., 5.]], dtype=float32)>"
      ]
     },
     "execution_count": 474,
     "metadata": {},
     "output_type": "execute_result"
    }
   ],
   "source": [
    "x1=[1.,2,3]\n",
    "x2=[3.,4,5]\n",
    "z=tf.stack([x1,x2],1)\n",
    "print(z)\n",
    "z2=z[2:4]\n",
    "z"
   ]
  },
  {
   "cell_type": "code",
   "execution_count": 384,
   "metadata": {},
   "outputs": [
    {
     "name": "stdout",
     "output_type": "stream",
     "text": [
      "build (6, 1)\n",
      "bmm 1\n",
      "call tf.Tensor(\n",
      "[[1.]\n",
      " [2.]\n",
      " [3.]\n",
      " [4.]\n",
      " [5.]\n",
      " [6.]], shape=(6, 1), dtype=float32)\n",
      "w <tf.Variable 'compute_sum_36/Variable:0' shape=(1, 20) dtype=float32, numpy=\n",
      "array([[1., 1., 1., 1., 1., 1., 1., 1., 1., 1., 1., 1., 1., 1., 1., 1.,\n",
      "        1., 1., 1., 1.]], dtype=float32)>\n"
     ]
    },
    {
     "data": {
      "text/plain": [
       "<tf.Tensor: id=6381, shape=(6, 20), dtype=float32, numpy=\n",
       "array([[1., 1., 1., 1., 1., 1., 1., 1., 1., 1., 1., 1., 1., 1., 1., 1.,\n",
       "        1., 1., 1., 1.],\n",
       "       [2., 2., 2., 2., 2., 2., 2., 2., 2., 2., 2., 2., 2., 2., 2., 2.,\n",
       "        2., 2., 2., 2.],\n",
       "       [3., 3., 3., 3., 3., 3., 3., 3., 3., 3., 3., 3., 3., 3., 3., 3.,\n",
       "        3., 3., 3., 3.],\n",
       "       [4., 4., 4., 4., 4., 4., 4., 4., 4., 4., 4., 4., 4., 4., 4., 4.,\n",
       "        4., 4., 4., 4.],\n",
       "       [5., 5., 5., 5., 5., 5., 5., 5., 5., 5., 5., 5., 5., 5., 5., 5.,\n",
       "        5., 5., 5., 5.],\n",
       "       [6., 6., 6., 6., 6., 6., 6., 6., 6., 6., 6., 6., 6., 6., 6., 6.,\n",
       "        6., 6., 6., 6.]], dtype=float32)>"
      ]
     },
     "execution_count": 384,
     "metadata": {},
     "output_type": "execute_result"
    }
   ],
   "source": [
    "my_sum = ComputeSum()\n",
    "y = my_sum(x)\n",
    "#print(y.numpy())\n",
    "y\n",
    "#y = my_sum(x)\n",
    "#print(y.numpy())"
   ]
  },
  {
   "cell_type": "code",
   "execution_count": null,
   "metadata": {},
   "outputs": [],
   "source": []
  },
  {
   "cell_type": "code",
   "execution_count": null,
   "metadata": {},
   "outputs": [],
   "source": []
  }
 ],
 "metadata": {
  "kernelspec": {
   "display_name": "Python 3",
   "language": "python",
   "name": "python3"
  },
  "language_info": {
   "codemirror_mode": {
    "name": "ipython",
    "version": 3
   },
   "file_extension": ".py",
   "mimetype": "text/x-python",
   "name": "python",
   "nbconvert_exporter": "python",
   "pygments_lexer": "ipython3",
   "version": "3.5.2"
  }
 },
 "nbformat": 4,
 "nbformat_minor": 2
}
