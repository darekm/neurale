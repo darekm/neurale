{
 "cells": [
  {
   "cell_type": "code",
   "execution_count": 71,
   "metadata": {},
   "outputs": [],
   "source": [
    "import numpy\n",
    "import matplotlib.pyplot as plt\n",
    "import pandas\n",
    "import math\n",
    "import tensorflow as tf\n",
    "from tensorflow.keras.models import Sequential\n",
    "from tensorflow.keras.layers import Dense,Activation,Dropout\n",
    "from tensorflow.keras.layers import Layer,Input,InputSpec\n",
    "from tensorflow.keras.layers import Embedding\n",
    "from tensorflow.keras.layers import Conv1D, GlobalAveragePooling1D, MaxPooling1D\n",
    "from tensorflow.keras.layers import Conv2D,Flatten,ConvLSTM2D,Conv1D\n",
    "from tensorflow.keras import backend as K\n",
    "\n",
    "from tensorflow.keras.backend import argmax\n",
    "from sklearn.preprocessing import MinMaxScaler\n",
    "from sklearn.metrics import mean_squared_error\n",
    "\n",
    "from tensorflow.keras.utils import to_categorical\n"
   ]
  },
  {
   "cell_type": "code",
   "execution_count": 174,
   "metadata": {},
   "outputs": [],
   "source": [
    "def create_dataset(dataset, look_back=1):\n",
    "    from sklearn.preprocessing import MinMaxScaler\n",
    "    print('dataset ',dataset) \n",
    "    #scaler = MinMaxScaler(feature_range=(0, 0.999))\n",
    "    #YM = scaler.fit_transform(dataset)\n",
    "    dataX, dataY = [], []\n",
    "    for i in range(len(dataset)-look_back):\n",
    "        a = dataset[i:(i+look_back)]\n",
    "        dataY.append(dataset[i + look_back]) \n",
    "        dataX.append(a)\n",
    "    #dataXX= numpy.reshape(dataX, (dataX.shape[0], dataX.shape[1],1))\n",
    "    \n",
    "    return numpy.array(dataX), numpy.array(dataY)"
   ]
  },
  {
   "cell_type": "code",
   "execution_count": 175,
   "metadata": {},
   "outputs": [],
   "source": [
    "class ReformatLayer(Layer):\n",
    "    def __init__(self, n_window,   **kwargs):\n",
    "        if 'input_shape' not in kwargs and 'input_dim' in kwargs:\n",
    "            kwargs['input_shape'] = (kwargs.pop('input_dim'),)\n",
    "        super(ReformatLayer, self).__init__(**kwargs)\n",
    "        self.n_window = n_window\n",
    "        #self.initial_weights = weights\n",
    "        #self.input_spec = InputSpec(ndim=2)\n",
    "\n",
    " \n",
    "\n",
    "    def build(self, input_shape):\n",
    "        print('build', input_shape)\n",
    "        #self.input_spec = [InputSpec(shape=input_shape)]\n",
    "        # assert len(input_shape) == 1\n",
    "        #input_dim = input_shape[1]\n",
    "        #self.input_spec = InputSpec(dtype=tf.int32, shape=(None, input_dim))\n",
    "        #self.clusters = self.add_weight('clusters',(self.n_clusters, input_dim), initializer='glorot_uniform')\n",
    "        self.built = True\n",
    "\n",
    "    def call(self, inputs, **kwargs):\n",
    "        print('call',inputs)\n",
    "        x,y=create_dataset(inputs,self.n_window)\n",
    "        print('x.shape',x.shape,'  ',y.shape)\n",
    "        #x1= numpy.reshape(x, (x.shape[0], x.shape[1],1))\n",
    "\n",
    "        return x\n",
    "\n",
    "    def compute_output_shape(self, input_shape):\n",
    "        assert input_shape and len(input_shape) == 2\n",
    "        return input_shape[0], self.n_window\n",
    "\n",
    "    def get_config(self):\n",
    "        config = {'n_window': self.n_window}\n",
    "        base_config = super(ReformatLayer, self).get_config()\n",
    "        return dict(list(base_config.items()) + list(config.items()))\n",
    "     "
   ]
  },
  {
   "cell_type": "code",
   "execution_count": 176,
   "metadata": {},
   "outputs": [
    {
     "data": {
      "text/plain": [
       "TensorShape([None, 1, 10])"
      ]
     },
     "execution_count": 176,
     "metadata": {},
     "output_type": "execute_result"
    }
   ],
   "source": [
    "xx = Input(shape=[1,10])\n",
    "xx.shape"
   ]
  },
  {
   "cell_type": "code",
   "execution_count": 177,
   "metadata": {},
   "outputs": [
    {
     "data": {
      "text/plain": [
       "<tf.Tensor: id=4271, shape=(18,), dtype=int32, numpy=array([3, 4, 5, 6, 1, 1, 1, 1, 1, 1, 1, 1, 1, 1, 3, 4, 5, 6], dtype=int32)>"
      ]
     },
     "execution_count": 177,
     "metadata": {},
     "output_type": "execute_result"
    }
   ],
   "source": [
    "x = tf.ones((10),dtype=tf.int32)\n",
    "y=[3,4,5,6]\n",
    "z=tf.concat([y,x,y],0)\n",
    "#x=[1,1]\n",
    "#tf.backend.eval(x)\n",
    "wi=Input([1,2,3])\n",
    "z"
   ]
  },
  {
   "cell_type": "code",
   "execution_count": 178,
   "metadata": {},
   "outputs": [
    {
     "name": "stdout",
     "output_type": "stream",
     "text": [
      "build (18,)\n",
      "call tf.Tensor([3 4 5 6 1 1 1 1 1 1 1 1 1 1 3 4 5 6], shape=(18,), dtype=int32)\n",
      "dataset  tf.Tensor([3 4 5 6 1 1 1 1 1 1 1 1 1 1 3 4 5 6], shape=(18,), dtype=int32)\n",
      "x.shape (13, 5)    (13,)\n",
      "[[3 4 5 6 1]\n",
      " [4 5 6 1 1]\n",
      " [5 6 1 1 1]\n",
      " [6 1 1 1 1]\n",
      " [1 1 1 1 1]\n",
      " [1 1 1 1 1]\n",
      " [1 1 1 1 1]\n",
      " [1 1 1 1 1]\n",
      " [1 1 1 1 1]\n",
      " [1 1 1 1 1]\n",
      " [1 1 1 1 3]\n",
      " [1 1 1 3 4]\n",
      " [1 1 3 4 5]]\n"
     ]
    }
   ],
   "source": [
    "linear_layer = ReformatLayer( 5)\n",
    "y = linear_layer(z)\n",
    "print(y)"
   ]
  },
  {
   "cell_type": "code",
   "execution_count": null,
   "metadata": {},
   "outputs": [],
   "source": []
  },
  {
   "cell_type": "code",
   "execution_count": 111,
   "metadata": {},
   "outputs": [],
   "source": [
    "class ComputeSum(Layer):\n",
    "\n",
    "    def __init__(self):\n",
    "        super(ComputeSum, self).__init__()\n",
    "        #self.total = tf.Variable(initial_value=tf.zeros((input_dim,)),\n",
    "        #                     trainable=False)\n",
    "\n",
    "    def build(self, input_shape):\n",
    "        print('build', input_shape)\n",
    "        self.total = tf.Variable(initial_value=tf.zeros((input_shape[1],)),\n",
    "                             trainable=False)\n",
    "    def call(self, inputs):\n",
    "        self.total.assign_add(tf.reduce_sum(inputs, axis=0))\n",
    "        return self.total"
   ]
  },
  {
   "cell_type": "code",
   "execution_count": null,
   "metadata": {},
   "outputs": [],
   "source": [
    "x = tf.ones((3, 4))\n",
    "#x=Input(numpy.array([[1.,1.,2.][1,4,6]]))\n",
    "y=x[0:2]"
   ]
  },
  {
   "cell_type": "code",
   "execution_count": 136,
   "metadata": {},
   "outputs": [
    {
     "name": "stdout",
     "output_type": "stream",
     "text": [
      "tf.Tensor([1 2 3 3 4 5], shape=(6,), dtype=int32)\n"
     ]
    },
    {
     "data": {
      "text/plain": [
       "<tf.Tensor: id=443, shape=(2,), dtype=int32, numpy=array([3, 3], dtype=int32)>"
      ]
     },
     "execution_count": 136,
     "metadata": {},
     "output_type": "execute_result"
    }
   ],
   "source": [
    "x1=[1,2,3]\n",
    "x2=[3,4,5]\n",
    "z=tf.concat([x1,x2],0)\n",
    "print(z)\n",
    "z2=z[2:4]\n",
    "z2"
   ]
  },
  {
   "cell_type": "code",
   "execution_count": 125,
   "metadata": {},
   "outputs": [
    {
     "name": "stdout",
     "output_type": "stream",
     "text": [
      "build (3, 4)\n",
      "[3. 3. 3. 3.]\n",
      "[6. 6. 6. 6.]\n"
     ]
    }
   ],
   "source": [
    "my_sum = ComputeSum()\n",
    "y = my_sum(x)\n",
    "print(y.numpy())\n",
    "y = my_sum(x)\n",
    "print(y.numpy())"
   ]
  },
  {
   "cell_type": "code",
   "execution_count": null,
   "metadata": {},
   "outputs": [],
   "source": []
  }
 ],
 "metadata": {
  "kernelspec": {
   "display_name": "Python 3",
   "language": "python",
   "name": "python3"
  },
  "language_info": {
   "codemirror_mode": {
    "name": "ipython",
    "version": 3
   },
   "file_extension": ".py",
   "mimetype": "text/x-python",
   "name": "python",
   "nbconvert_exporter": "python",
   "pygments_lexer": "ipython3",
   "version": "3.5.2"
  }
 },
 "nbformat": 4,
 "nbformat_minor": 2
}
