{
 "cells": [
  {
   "cell_type": "code",
   "execution_count": 1,
   "metadata": {},
   "outputs": [],
   "source": [
    "import tensorflow as tf\n",
    "from time import time\n",
    "import numpy as np\n",
    "import tensorflow.keras.backend as K\n",
    "#import tensorflow_probability as tfp\n",
    "\n",
    "from tensorflow.keras.layers import Layer, InputSpec,Input\n",
    "from tensorflow.keras.layers import Conv2D, Conv2DTranspose, Conv1D,  Dense, Flatten, Reshape\n",
    "\n",
    "from tensorflow.keras.models import Model\n",
    "from tensorflow.python.keras.utils.vis_utils import plot_model\n",
    "from sklearn.cluster import KMeans\n",
    "\n",
    "from datasets import load_mnist, load_usps, load_mrec"
   ]
  },
  {
   "cell_type": "code",
   "execution_count": 59,
   "metadata": {},
   "outputs": [
    {
     "name": "stdout",
     "output_type": "stream",
     "text": [
      "MM (4032, 258)\n",
      "MREC: (4031, 8, 32, 1)\n"
     ]
    }
   ],
   "source": [
    "# load dataset\n",
    "Ndataset='mrec'\n",
    "Nclusters=4\n",
    "Nsave_dir='temp'\n",
    "Ngamma=0.1\n",
    "Ntol=0.001\n",
    "#num_batches = 100\n",
    "batch_size = 256\n",
    "learning_rate = 0.001\n",
    "nGamma=0.1\n",
    "\n",
    "xData, YY = load_mrec()\n",
    "tdataset = tf.data.Dataset.from_tensor_slices((xData))\n",
    "dataset = tdataset.batch(batch_size)"
   ]
  },
  {
   "cell_type": "code",
   "execution_count": 60,
   "metadata": {},
   "outputs": [],
   "source": [
    "class Encoder(tf.keras.Model):\n",
    "    def __init__(self,     input_shape=(8, 32, 1), filters=[32, 64, 128],aclusters=16):\n",
    "        super(Encoder, self).__init__()\n",
    "        #self.w='name'\n",
    "        #self.ishape=input_shape\n",
    "        self.filters=filters\n",
    "        #self.pad3\n",
    "        # model = Sequential()\n",
    "        if input_shape[0] % 8 == 0:\n",
    "            pad3 = 'same'\n",
    "        else:\n",
    "            pad3 = 'valid'\n",
    "            \n",
    "        self.conv0= Conv2D(self.filters[0], 5, strides=(1,2), padding='same', activation='relu', name='conv0', input_shape=input_shape)\n",
    "        self.conv1= Conv2D(self.filters[1], 5, strides=(2,4), padding='same', activation='relu', name='conv1')\n",
    "        self.conv2= Conv2D(self.filters[2], 3, strides=2, padding=pad3, activation='relu', name='conv2')\n",
    "        self.flat= Flatten()\n",
    "        self.emb=Dense(units=aclusters, name='embedding')\n",
    "         \n",
    "               \n",
    "    def call(self, x, training=True):\n",
    "        #print('e0',x.shape)\n",
    "        x = self.conv0(x)\n",
    "        #print('e1',x.shape)\n",
    "        x = self.conv1(x)\n",
    "        x = self.conv2(x)\n",
    "        #print('e3',x.shape)\n",
    "        x = self.flat(x)\n",
    "        return self.emb(x)\n",
    "    \n",
    "         \n",
    "   "
   ]
  },
  {
   "cell_type": "code",
   "execution_count": 61,
   "metadata": {},
   "outputs": [],
   "source": [
    "class Decoder(tf.keras.Model):\n",
    "     def __init__(self,     output_shape=(8,32,1), filters=[32, 64, 128],aclusters=16):\n",
    "        super(Decoder, self).__init__()\n",
    "        if output_shape[0] % 8 == 0:\n",
    "            pad3 = 'same'\n",
    "        else:\n",
    "            pad3 = 'valid'\n",
    "        #self.ishape=input_shape\n",
    "        self.filters=filters\n",
    "      \n",
    "        self.dense1=Dense(units=self.filters[2]*int(output_shape[0]/2)*int(output_shape[0]/8),input_shape=(aclusters,), activation='relu')\n",
    "\n",
    "        self.resh1=Reshape((int(output_shape[0]/4), int(output_shape[1]/16), filters[2]))\n",
    "        self.deconv2=Conv2DTranspose(self.filters[1], 3, strides=2, padding=pad3, activation='relu', name='deconv2')\n",
    "\n",
    "        self.deconv1=Conv2DTranspose(self.filters[0], 3, strides=(2,4), padding='same', activation='relu', name='deconv1')\n",
    "        self.deconv0=Conv2DTranspose(output_shape[2], 5, strides=(1,2), padding='same', name='deconv0')\n",
    "    \n",
    "     def call(self, x, training=True):\n",
    "        #print('d0',x.shape)\n",
    "        x = self.dense1(x)\n",
    "        #print('d1',x.shape)\n",
    "         \n",
    "        x = self.resh1(x)\n",
    "     \n",
    "        x = self.deconv2(x)\n",
    "        x = self.deconv1(x)\n",
    "        x = self.deconv0(x)       \n",
    "        return x "
   ]
  },
  {
   "cell_type": "code",
   "execution_count": 62,
   "metadata": {},
   "outputs": [],
   "source": [
    "class ClusteringLayer(Layer):\n",
    "    \"\"\"\n",
    "    Clustering layer converts input sample (feature) to soft label, i.e. a vector that represents the probability of the\n",
    "    sample belonging to each cluster. The probability is calculated with student's t-distribution.\n",
    "\n",
    "    # Example\n",
    "    ```\n",
    "        model.add(ClusteringLayer(n_clusters=10))\n",
    "    ```\n",
    "    # Arguments\n",
    "        n_clusters: number of clusters.\n",
    "        weights: list of Numpy array with shape `(n_clusters, n_features)` witch represents the initial cluster centers.\n",
    "        alpha: parameter in Student's t-distribution. Default to 1.0.\n",
    "    # Input shape\n",
    "        2D tensor with shape: `(n_samples, n_features)`.\n",
    "    # Output shape\n",
    "        2D tensor with shape: `(n_samples, n_clusters)`.\n",
    "    \"\"\"\n",
    "\n",
    "    def __init__(self, n_clusters,n_dim, weights=None, alpha=1.0, **kwargs):\n",
    "        if 'input_shape' not in kwargs and 'input_dim' in kwargs:\n",
    "            kwargs['input_shape'] = (kwargs.pop('input_dim'),)\n",
    "        super(ClusteringLayer, self).__init__(**kwargs)\n",
    "        self.n_clusters = n_clusters\n",
    "        self.n_dim=n_dim\n",
    "        self.alpha = alpha\n",
    "        self.initial_weights = weights\n",
    "        #self.input_spec = InputSpec(ndim=2)\n",
    "        self.input_spec = InputSpec(dtype=K.floatx(), shape=(None, n_dim))\n",
    "        self.clusters = self.add_weight('clusters',(self.n_clusters, self.n_dim),trainable=True, initializer='glorot_uniform')\n",
    " \n",
    "      \n",
    "        print('initLC')\n",
    "\n",
    " \n",
    "\n",
    "    def build(self, input_shape):\n",
    "        print('buildlc', input_shape)\n",
    "        assert len(input_shape) == 2\n",
    "        print('addw:',self.n_clusters)\n",
    "        #self.clusters = self.add_weight('clusters',(self.n_clusters, self.n_dim),trainable=True, initializer='glorot_uniform')\n",
    "        #input_dim = input_shape[1]\n",
    "        #self.input_spec = InputSpec(dtype=K.floatx(), shape=(None, input_dim))\n",
    "        if self.initial_weights is not None:\n",
    "            self.set_weights(self.initial_weights)\n",
    "            del self.initial_weights\n",
    "        self.built = True\n",
    "        super(ClusteringLayer, self).build(input_shape)\n",
    "\n",
    "    def call(self, inputs, **kwargs):\n",
    "        \"\"\" student t-distribution, as same as used in t-SNE algorithm.\n",
    "                 q_ij = 1/(1+dist(x_i, u_j)^2), then normalize it.\n",
    "        Arguments:\n",
    "            inputs: the variable containing data, shape=(n_samples, n_features)\n",
    "        Return:\n",
    "            q: student's t-distribution, or soft labels for each sample. shape=(n_samples, n_clusters)\n",
    "        \"\"\"\n",
    "        q = 1.0 / (1.0 + (K.sum(K.square(K.expand_dims(inputs, axis=1) - self.clusters), axis=2) / self.alpha))\n",
    "        q **= (self.alpha + 1.0) / 2.0\n",
    "        q = K.transpose(K.transpose(q) / K.sum(q, axis=1))\n",
    "        return q\n",
    "\n",
    "    def compute_output_shape(self, input_shape):\n",
    "        assert input_shape and len(input_shape) == 2\n",
    "        return input_shape[0], self.n_clusters\n",
    "\n",
    "    def get_config(self):\n",
    "        config = {'n_clusters': self.n_clusters}\n",
    "        base_config = super(ClusteringLayer, self).get_config()\n",
    "        return dict(list(base_config.items()) + list(config.items()))"
   ]
  },
  {
   "cell_type": "code",
   "execution_count": 63,
   "metadata": {},
   "outputs": [],
   "source": [
    "class ClusteringModel(tf.keras.Model):\n",
    "   \n",
    "    def __init__(self,     aClusters=16,aDim=16):\n",
    "        super(ClusteringModel, self).__init__()\n",
    "        #self.w='name'\n",
    "        self.emb=ClusteringLayer(n_clusters=aClusters,n_dim=aDim, name='clustering')\n",
    "         \n",
    "               \n",
    "    def call(self, x, training=True):\n",
    "        \n",
    "        return self.emb(x)\n",
    "    \n",
    "    def setWeights(self,aWeights):\n",
    "        self.emb.set_weights(aWeights)\n",
    " "
   ]
  },
  {
   "cell_type": "code",
   "execution_count": 64,
   "metadata": {},
   "outputs": [],
   "source": [
    "optimizer = tf.optimizers.Adam(learning_rate=learning_rate)\n",
    "#checkpoint = tf.train.Checkpoint(myModel=model,optimizer=optimizer)\n",
    "g_encoder = Encoder(aclusters=Nclusters)\n",
    "g_decoder = Decoder(aclusters=Nclusters)\n",
    "         "
   ]
  },
  {
   "cell_type": "code",
   "execution_count": 65,
   "metadata": {},
   "outputs": [],
   "source": [
    "def loss_mse( inputs, targets):\n",
    "    #error = inputs - targets\n",
    "    #sq=tf.square(error)\n",
    "    sq=tf.keras.losses.MSE(inputs,targets)\n",
    "\n",
    "    #return tf.compute_average_loss(   sq,        global_batch_size=GLOBAL_BATCH_SIZE)\n",
    "    return tf.reduce_mean(sq)\n",
    "def loss_kld(inputs,pred):\n",
    "    _nn=tf.keras.losses.KLD( inputs,pred)\n",
    "    return tf.reduce_mean(_nn)"
   ]
  },
  {
   "cell_type": "code",
   "execution_count": 66,
   "metadata": {},
   "outputs": [],
   "source": [
    "def pre_train():\n",
    "    #start = time.time()\n",
    "    loss = 0\n",
    "    xoptimizer = tf.optimizers.Adam()\n",
    "    \n",
    "    for (batch, (x)) in enumerate(dataset.take(-1)):\n",
    "        #if batch % 10 == 0:\n",
    "        #print('mse',x.shape)\n",
    "                 \n",
    "        #     print('.',end='')\n",
    "        #    print('Batch {} loss{:.3f}'.format(batch,loss) )\n",
    "    \n",
    "        loss = 0\n",
    "        with tf.GradientTape() as tape:\n",
    "            g_encoder.trainable = True\n",
    "            g_decoder.trainable = True\n",
    "            z = g_encoder(x, training=True)\n",
    "            x_hat = g_decoder(z, training=True)\n",
    "            loss = loss_mse(x, x_hat)\n",
    "            #print('mse',x.shape, loss.numpy())\n",
    "                  \n",
    "        #for  v in variables:\n",
    "        #    print (\"batch: \", v.name,'  ',v.shape)\n",
    "        #print('nam:',g_encoder.trainable_variables.shape)\n",
    "        #print('var:',variables)\n",
    "        variables = g_encoder.trainable_variables + g_decoder.trainable_variables\n",
    "        gradients = tape.gradient(loss, variables)\n",
    "        \n",
    "        xoptimizer.apply_gradients(zip(gradients, variables))\n",
    "        #xoptimizer.minimize(loss,variables)\n",
    "    return loss"
   ]
  },
  {
   "cell_type": "code",
   "execution_count": 67,
   "metadata": {},
   "outputs": [
    {
     "name": "stdout",
     "output_type": "stream",
     "text": [
      "Epoch 1  Loss 0.1283\n",
      "Epoch 2  Loss 0.0559\n",
      "Epoch 3  Loss 0.0523\n",
      "Epoch 4  Loss 0.0468\n",
      "Epoch 5  Loss 0.0464\n",
      "Epoch 6  Loss 0.0479\n"
     ]
    }
   ],
   "source": [
    "EPOCHS = 6\n",
    "\n",
    "for epoch in range(EPOCHS):\n",
    "    ls=pre_train()\n",
    "    print('Epoch {}  Loss {:.4f}'.format(epoch + 1,ls.numpy()))\n",
    "    nn=g_encoder.predict(xData)\n",
    "    nnp=nn.argmax(1)\n",
    "    \n",
    "    #printMetrics('pre: ',nnp,ls)\n",
    "  "
   ]
  },
  {
   "cell_type": "code",
   "execution_count": 68,
   "metadata": {},
   "outputs": [
    {
     "name": "stdout",
     "output_type": "stream",
     "text": [
      "Initializing cluster centers with k-means.\n",
      "data (4031, 8, 32, 1)\n",
      "pred: (4031,)\n",
      "(4, 4)\n"
     ]
    }
   ],
   "source": [
    "print('Initializing cluster centers with k-means.')\n",
    "kmeans = KMeans(n_clusters=Nclusters, n_init=20)\n",
    "y_pr = kmeans.fit_predict(g_encoder.predict(xData))\n",
    "print('data',xData.shape)\n",
    "print('pred:',y_pr.shape)\n",
    "print(kmeans.cluster_centers_.shape)"
   ]
  },
  {
   "cell_type": "code",
   "execution_count": 69,
   "metadata": {},
   "outputs": [
    {
     "name": "stdout",
     "output_type": "stream",
     "text": [
      "initLC\n"
     ]
    }
   ],
   "source": [
    "g_clustering=ClusteringModel(Nclusters,Nclusters)\n",
    "g_clustering.setWeights([kmeans.cluster_centers_])"
   ]
  },
  {
   "cell_type": "code",
   "execution_count": 70,
   "metadata": {},
   "outputs": [],
   "source": [
    "def target_distribution(q):\n",
    "    weight = q ** 2 / q.sum(0)\n",
    "    return (weight.T / weight.sum(1)).T\n"
   ]
  },
  {
   "cell_type": "code",
   "execution_count": 76,
   "metadata": {},
   "outputs": [],
   "source": [
    "def cluster_train():\n",
    "    nn2=g_encoder.predict(xData)\n",
    "    nn=g_clustering.predict(nn2)\n",
    "    #nnp=nn.argmax(1)\n",
    "    \n",
    "    p = target_distribution(nn)  # update the auxiliary target distribution p\n",
    "    ndataset = tf.data.Dataset.from_tensor_slices((xData, p)).batch(batch_size)\n",
    "    #printMetrics('Iter ',nnp,0.1)\n",
    "    #print('x',xData[0])\n",
    "    #print('q',nn[0])\n",
    "    #print('p',p.shape, p[0])\n",
    "    loss = 0\n",
    "    variables = g_encoder.variables + g_decoder.variables+ g_clustering.variables\n",
    "    #variables = g_encoder.variables + g_decoder.variables+ CLmodel.variables\n",
    "         \n",
    "    for (batch, (x, labels)) in enumerate(ndataset.take(-1)):\n",
    "        #if batch % 10 == 0:\n",
    "        #    nn=g_encoder.predict(xData)\n",
    "    \n",
    "            #p = target_distribution(nn)  # update the auxiliary target distribution p\n",
    "            #yn=CLmodel(nn)\n",
    "            #_nn=tf.keras.losses.KLD( p,yn)\n",
    "            #print('nn',_nn)\n",
    "        #     print('.',end='')\n",
    "        #    print('Batch {} loss{:.3f}'.format(batch,loss) )\n",
    "    \n",
    "        \n",
    "        #q, _ = self.model.predict(x, verbose=0)\n",
    "        #p = self.target_distribution(q)  # update the auxiliary target distribution p\n",
    "\n",
    "                # evaluate the clustering performance\n",
    "        #        self.y_pred = q.argmax(1)\n",
    "   \n",
    "        with tf.GradientTape() as tape:\n",
    "            g_encoder.trainable = True\n",
    "            g_decoder.trainable = True\n",
    "            g_clustering.trainable =True\n",
    "            z = g_encoder(x, training=True)\n",
    "            #y_pred = tf.argmax(z,1)\n",
    "            x_hat = g_decoder(z, training=True)\n",
    "            #y_hat=CLmodel(z)\n",
    "            y_hat=g_clustering(z,training=True)\n",
    "            #print('yhat',y_hat.numpy(),y_pred.shape, labels.shape)\n",
    "            #id=batch * batch_size\n",
    "            #pll=p[id:(id + batch_size)]\n",
    "            lossmse = loss_mse(x, x_hat)\n",
    "            losskld = loss_kld(labels,y_hat)   \n",
    "            loss=lossmse+losskld*2.01\n",
    "        \n",
    "        if batch % 4 == 0:\n",
    "            print('lossmse',lossmse.numpy(),':kld',losskld.numpy())\n",
    "            #print('labe=',labels[0])\n",
    "            #print('yhat',y_hat[0])\n",
    "            #print('pll=',pll[0])\n",
    "            #print('kld=',tf.keras.losses.KLD( pll[0],y_hat[0]))\n",
    "            \n",
    "                #print(labels)\n",
    "      \n",
    "        gradients = tape.gradient(loss, variables)\n",
    "        \n",
    "        optimizer.apply_gradients(zip(gradients, variables))\n",
    "    \n",
    "    return loss\n",
    " "
   ]
  },
  {
   "cell_type": "code",
   "execution_count": 77,
   "metadata": {},
   "outputs": [
    {
     "name": "stdout",
     "output_type": "stream",
     "text": [
      "lossmse 0.058771133 :kld 0.11148004\n",
      "lossmse 0.06539582 :kld 0.12182976\n",
      "lossmse 0.06339434 :kld 0.12570086\n",
      "lossmse 0.047260307 :kld 0.12210321\n",
      "Epoch 1  Loss 0.2663\n",
      "lossmse 0.059146814 :kld 0.111922845\n",
      "lossmse 0.06606577 :kld 0.12126787\n",
      "lossmse 0.06367731 :kld 0.13447234\n",
      "lossmse 0.046741724 :kld 0.10842277\n",
      "Epoch 2  Loss 0.2563\n",
      "lossmse 0.059340548 :kld 0.1112266\n",
      "lossmse 0.065432854 :kld 0.11946842\n",
      "lossmse 0.063645154 :kld 0.12316627\n",
      "lossmse 0.046362434 :kld 0.10478608\n",
      "Epoch 3  Loss 0.2501\n",
      "lossmse 0.05896339 :kld 0.11096558\n",
      "lossmse 0.064741105 :kld 0.119159706\n",
      "lossmse 0.063225925 :kld 0.12144093\n",
      "lossmse 0.0460693 :kld 0.107230924\n",
      "Epoch 4  Loss 0.2551\n",
      "lossmse 0.058547426 :kld 0.11081961\n",
      "lossmse 0.06417741 :kld 0.11906426\n",
      "lossmse 0.06275536 :kld 0.123726904\n",
      "lossmse 0.045835737 :kld 0.11231226\n",
      "Epoch 5  Loss 0.2713\n",
      "lossmse 0.058086403 :kld 0.11108421\n",
      "lossmse 0.063687965 :kld 0.11861112\n",
      "lossmse 0.062146246 :kld 0.12308161\n",
      "lossmse 0.04530735 :kld 0.11248666\n",
      "Epoch 6  Loss 0.2702\n",
      "lossmse 0.057627708 :kld 0.11105333\n",
      "lossmse 0.06293085 :kld 0.118518494\n",
      "lossmse 0.061652616 :kld 0.124097556\n",
      "lossmse 0.044677105 :kld 0.11603838\n",
      "Epoch 7  Loss 0.2787\n",
      "lossmse 0.05701375 :kld 0.11135365\n",
      "lossmse 0.061880607 :kld 0.11824173\n",
      "lossmse 0.060941942 :kld 0.12516809\n",
      "lossmse 0.04379009 :kld 0.115713954\n",
      "Epoch 8  Loss 0.2789\n"
     ]
    }
   ],
   "source": [
    "EPOCHS = 8\n",
    "\n",
    "for epoch in range(EPOCHS):\n",
    "    ls=cluster_train()\n",
    "    print('Epoch {}  Loss {:.4f}'.format(epoch + 1,ls.numpy()))\n",
    "             \n"
   ]
  },
  {
   "cell_type": "code",
   "execution_count": 73,
   "metadata": {},
   "outputs": [
    {
     "name": "stdout",
     "output_type": "stream",
     "text": [
      "[0 3 3 ... 3 3 1]\n",
      "[[0.34567416 0.1482989  0.14743216 0.14940721 0.14601126 0.14745481\n",
      "  0.15388493 0.16264652 0.2371572  0.17936563 0.16850697 0.20686391\n",
      "  0.2196264  0.22569378 0.37724337 0.19949634 0.24143307 0.24190047\n",
      "  0.19842869 0.30002573 0.27735373 0.23116323 0.22512838 0.262321\n",
      "  0.20983955 0.22712144 0.27819878 0.3181386  0.2897646  0.28069246\n",
      "  0.3520955  0.34343573]\n",
      " [0.9915896  0.9638796  0.9618306  0.9870201  0.87259287 0.9112918\n",
      "  0.9392773  0.7541688  0.9408755  0.9158301  0.85842127 0.937323\n",
      "  0.87291455 0.9109324  0.9399881  0.85233754 0.92732453 0.9040204\n",
      "  0.88500476 0.93359184 0.8802504  0.9124795  0.9146492  0.8793257\n",
      "  0.9209065  0.8914982  0.90436906 0.929199   0.8800101  0.9229748\n",
      "  0.9205111  0.90112305]\n",
      " [0.90936226 0.910603   0.9300319  0.9122635  0.8980655  0.896631\n",
      "  0.90081275 0.9071813  0.91900134 0.91337276 0.91152966 0.9156347\n",
      "  0.91497964 0.9176518  0.9326765  0.91569096 0.9185552  0.91886055\n",
      "  0.91529053 0.92516065 0.92176723 0.9168048  0.91732246 0.92110723\n",
      "  0.91480106 0.916758   0.92209053 0.9261388  0.9219076  0.9236269\n",
      "  0.92971194 0.9296875 ]\n",
      " [0.7374255  0.69800234 0.7362548  0.735414   0.73176545 0.7353487\n",
      "  0.74290997 0.75301546 0.7778209  0.7612483  0.7583953  0.7716514\n",
      "  0.77227736 0.7790779  0.8177534  0.77214533 0.78020865 0.7812494\n",
      "  0.771843   0.79858613 0.78956145 0.7763359  0.77778584 0.7880914\n",
      "  0.77119625 0.77650565 0.7908764  0.80178535 0.7904825  0.79510564\n",
      "  0.81145304 0.81144583]\n",
      " [0.34567416 0.1482989  0.14743216 0.14940721 0.14601126 0.14745481\n",
      "  0.15388493 0.16264652 0.2371572  0.17936563 0.16850697 0.20686391\n",
      "  0.2196264  0.22569378 0.37724337 0.19949634 0.24143307 0.24190047\n",
      "  0.19842869 0.30002573 0.27735373 0.23116323 0.22512838 0.262321\n",
      "  0.20983955 0.22712144 0.27819878 0.3181386  0.2897646  0.28069246\n",
      "  0.3520955  0.34343573]\n",
      " [0.9915896  0.9638796  0.9618306  0.9870201  0.87259287 0.9112918\n",
      "  0.9392773  0.7541688  0.9408755  0.9158301  0.85842127 0.937323\n",
      "  0.87291455 0.9109324  0.9399881  0.85233754 0.92732453 0.9040204\n",
      "  0.88500476 0.93359184 0.8802504  0.9124795  0.9146492  0.8793257\n",
      "  0.9209065  0.8914982  0.90436906 0.929199   0.8800101  0.9229748\n",
      "  0.9205111  0.90112305]\n",
      " [0.90936226 0.910603   0.9300319  0.9122635  0.8980655  0.896631\n",
      "  0.90081275 0.9071813  0.91900134 0.91337276 0.91152966 0.9156347\n",
      "  0.91497964 0.9176518  0.9326765  0.91569096 0.9185552  0.91886055\n",
      "  0.91529053 0.92516065 0.92176723 0.9168048  0.91732246 0.92110723\n",
      "  0.91480106 0.916758   0.92209053 0.9261388  0.9219076  0.9236269\n",
      "  0.92971194 0.9296875 ]\n",
      " [0.7374255  0.69800234 0.7362548  0.735414   0.73176545 0.7353487\n",
      "  0.74290997 0.75301546 0.7778209  0.7612483  0.7583953  0.7716514\n",
      "  0.77227736 0.7790779  0.8177534  0.77214533 0.78020865 0.7812494\n",
      "  0.771843   0.79858613 0.78956145 0.7763359  0.77778584 0.7880914\n",
      "  0.77119625 0.77650565 0.7908764  0.80178535 0.7904825  0.79510564\n",
      "  0.81145304 0.81144583]]\n"
     ]
    }
   ],
   "source": [
    "zzt = g_encoder.predict(xData)\n",
    "yyt=g_clustering.predict(zzt)\n",
    "\n",
    "yyn=yyt.argmax(1)\n",
    "print(yyn)\n",
    "print(xData[1].reshape(8,32))"
   ]
  },
  {
   "cell_type": "code",
   "execution_count": 74,
   "metadata": {},
   "outputs": [
    {
     "name": "stdout",
     "output_type": "stream",
     "text": [
      "Examples:\n"
     ]
    },
    {
     "data": {
      "image/png": "[encoded data removed]",
      "text/plain": [
       "<Figure size 432x288 with 1 Axes>"
      ]
     },
     "metadata": {},
     "output_type": "display_data"
    },
    {
     "name": "stdout",
     "output_type": "stream",
     "text": [
      "Class: 0 - Model's Output Class:\n"
     ]
    },
    {
     "data": {
      "image/png": "[encoded data removed]",
      "text/plain": [
       "<Figure size 432x288 with 1 Axes>"
      ]
     },
     "metadata": {},
     "output_type": "display_data"
    },
    {
     "name": "stdout",
     "output_type": "stream",
     "text": [
      "Class: 3 - Model's Output Class:\n"
     ]
    },
    {
     "data": {
      "image/png": "[encoded data removed]",
      "text/plain": [
       "<Figure size 432x288 with 1 Axes>"
      ]
     },
     "metadata": {},
     "output_type": "display_data"
    },
    {
     "name": "stdout",
     "output_type": "stream",
     "text": [
      "Class: 3 - Model's Output Class:\n"
     ]
    },
    {
     "data": {
      "image/png": "[encoded data removed]",
      "text/plain": [
       "<Figure size 432x288 with 1 Axes>"
      ]
     },
     "metadata": {},
     "output_type": "display_data"
    },
    {
     "name": "stdout",
     "output_type": "stream",
     "text": [
      "Class: 0 - Model's Output Class:\n"
     ]
    },
    {
     "data": {
      "image/png": "[encoded data removed]",
      "text/plain": [
       "<Figure size 432x288 with 1 Axes>"
      ]
     },
     "metadata": {},
     "output_type": "display_data"
    },
    {
     "name": "stdout",
     "output_type": "stream",
     "text": [
      "Class: 3 - Model's Output Class:\n"
     ]
    },
    {
     "data": {
      "image/png": "[encoded data removed]",
      "text/plain": [
       "<Figure size 432x288 with 1 Axes>"
      ]
     },
     "metadata": {},
     "output_type": "display_data"
    },
    {
     "name": "stdout",
     "output_type": "stream",
     "text": [
      "Class: 2 - Model's Output Class:\n"
     ]
    },
    {
     "data": {
      "image/png": "[encoded data removed]",
      "text/plain": [
       "<Figure size 432x288 with 1 Axes>"
      ]
     },
     "metadata": {},
     "output_type": "display_data"
    },
    {
     "name": "stdout",
     "output_type": "stream",
     "text": [
      "Class: 0 - Model's Output Class:\n"
     ]
    },
    {
     "data": {
      "image/png": "[encoded data removed]",
      "text/plain": [
       "<Figure size 432x288 with 1 Axes>"
      ]
     },
     "metadata": {},
     "output_type": "display_data"
    },
    {
     "name": "stdout",
     "output_type": "stream",
     "text": [
      "Class: 3 - Model's Output Class:\n"
     ]
    },
    {
     "data": {
      "image/png": "[encoded data removed]",
      "text/plain": [
       "<Figure size 432x288 with 1 Axes>"
      ]
     },
     "metadata": {},
     "output_type": "display_data"
    },
    {
     "name": "stdout",
     "output_type": "stream",
     "text": [
      "Class: 0 - Model's Output Class:\n"
     ]
    },
    {
     "data": {
      "image/png": "[encoded data removed]",
      "text/plain": [
       "<Figure size 432x288 with 1 Axes>"
      ]
     },
     "metadata": {},
     "output_type": "display_data"
    },
    {
     "name": "stdout",
     "output_type": "stream",
     "text": [
      "Class: 3 - Model's Output Class:\n"
     ]
    },
    {
     "data": {
      "image/png": "[encoded data removed]",
      "text/plain": [
       "<Figure size 432x288 with 1 Axes>"
      ]
     },
     "metadata": {},
     "output_type": "display_data"
    },
    {
     "name": "stdout",
     "output_type": "stream",
     "text": [
      "Class: 3 - Model's Output Class:\n"
     ]
    },
    {
     "data": {
      "image/png": "[encoded data removed]",
      "text/plain": [
       "<Figure size 432x288 with 1 Axes>"
      ]
     },
     "metadata": {},
     "output_type": "display_data"
    },
    {
     "name": "stdout",
     "output_type": "stream",
     "text": [
      "Class: 0 - Model's Output Class:\n"
     ]
    },
    {
     "data": {
      "image/png": "[encoded data removed]",
      "text/plain": [
       "<Figure size 432x288 with 1 Axes>"
      ]
     },
     "metadata": {},
     "output_type": "display_data"
    },
    {
     "name": "stdout",
     "output_type": "stream",
     "text": [
      "Class: 3 - Model's Output Class:\n"
     ]
    },
    {
     "data": {
      "image/png": "[encoded data removed]",
      "text/plain": [
       "<Figure size 432x288 with 1 Axes>"
      ]
     },
     "metadata": {},
     "output_type": "display_data"
    },
    {
     "name": "stdout",
     "output_type": "stream",
     "text": [
      "Class: 2 - Model's Output Class:\n"
     ]
    },
    {
     "data": {
      "image/png": "[encoded data removed]",
      "text/plain": [
       "<Figure size 432x288 with 1 Axes>"
      ]
     },
     "metadata": {},
     "output_type": "display_data"
    },
    {
     "name": "stdout",
     "output_type": "stream",
     "text": [
      "Class: 2 - Model's Output Class:\n"
     ]
    },
    {
     "data": {
      "image/png": "[encoded data removed]",
      "text/plain": [
       "<Figure size 432x288 with 1 Axes>"
      ]
     },
     "metadata": {},
     "output_type": "display_data"
    },
    {
     "name": "stdout",
     "output_type": "stream",
     "text": [
      "Class: 3 - Model's Output Class:\n"
     ]
    },
    {
     "data": {
      "image/png": "[encoded data removed]",
      "text/plain": [
       "<Figure size 432x288 with 1 Axes>"
      ]
     },
     "metadata": {},
     "output_type": "display_data"
    },
    {
     "name": "stdout",
     "output_type": "stream",
     "text": [
      "Class: 0 - Model's Output Class:\n"
     ]
    },
    {
     "data": {
      "image/png": "[encoded data removed]",
      "text/plain": [
       "<Figure size 432x288 with 1 Axes>"
      ]
     },
     "metadata": {},
     "output_type": "display_data"
    },
    {
     "name": "stdout",
     "output_type": "stream",
     "text": [
      "Class: 3 - Model's Output Class:\n"
     ]
    },
    {
     "data": {
      "image/png": "[encoded data removed]",
      "text/plain": [
       "<Figure size 432x288 with 1 Axes>"
      ]
     },
     "metadata": {},
     "output_type": "display_data"
    },
    {
     "name": "stdout",
     "output_type": "stream",
     "text": [
      "Class: 3 - Model's Output Class:\n"
     ]
    },
    {
     "data": {
      "image/png": "[encoded data removed]",
      "text/plain": [
       "<Figure size 432x288 with 1 Axes>"
      ]
     },
     "metadata": {},
     "output_type": "display_data"
    },
    {
     "name": "stdout",
     "output_type": "stream",
     "text": [
      "Class: 0 - Model's Output Class:\n"
     ]
    }
   ],
   "source": [
    "import matplotlib.pyplot as plt\n",
    "#print('Loss:', loss)\n",
    "print('Examples:')\n",
    "for i in range(20):\n",
    "    plt.imshow(xData[i].reshape(8,32), cmap='gray')\n",
    "    plt.axis('off')\n",
    "    plt.show()\n",
    "    print('Class:', yyn[i], '- Model\\'s Output Class:')"
   ]
  },
  {
   "cell_type": "code",
   "execution_count": 75,
   "metadata": {},
   "outputs": [
    {
     "data": {
      "image/png": "[encoded data removed]",
      "text/plain": [
       "<Figure size 1080x216 with 1 Axes>"
      ]
     },
     "metadata": {},
     "output_type": "display_data"
    }
   ],
   "source": [
    "plt.figure(figsize=(15,3))\n",
    "\n",
    "#fig, ax1 = plt.subplots()\n",
    "values, base = np.histogram(yyn)\n",
    "plt.plot(base[:-1], values, c='blue')\n",
    "\n",
    "#ax2 = ax1.twinx()\n",
    "#ax1.plot(test)\n",
    "\n",
    "#plt.plot(yyn,color=\"red\")\n",
    "plt.show()"
   ]
  },
  {
   "cell_type": "code",
   "execution_count": null,
   "metadata": {},
   "outputs": [],
   "source": []
  },
  {
   "cell_type": "code",
   "execution_count": null,
   "metadata": {},
   "outputs": [],
   "source": []
  }
 ],
 "metadata": {
  "kernelspec": {
   "display_name": "Python 3",
   "language": "python",
   "name": "python3"
  },
  "language_info": {
   "codemirror_mode": {
    "name": "ipython",
    "version": 3
   },
   "file_extension": ".py",
   "mimetype": "text/x-python",
   "name": "python",
   "nbconvert_exporter": "python",
   "pygments_lexer": "ipython3",
   "version": "3.5.2"
  }
 },
 "nbformat": 4,
 "nbformat_minor": 2
}
