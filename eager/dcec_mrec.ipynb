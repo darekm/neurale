{
 "cells": [
  {
   "cell_type": "code",
   "execution_count": 2,
   "metadata": {},
   "outputs": [],
   "source": [
    "#tf.__version__"
   ]
  },
  {
   "cell_type": "code",
   "execution_count": 3,
   "metadata": {},
   "outputs": [],
   "source": [
    "import tensorflow as tf\n",
    "import time\n",
    "import numpy as np\n",
    "import seaborn as sns\n",
    "\n",
    "import tensorflow.keras.backend as K\n",
    "#import tensorflow_probability as tfp\n",
    "\n",
    "from tensorflow.keras.layers import Layer, InputSpec,Input\n",
    "from tensorflow.keras.layers import Conv2D, Conv2DTranspose, Conv1D,  Dense, Flatten, Reshape\n",
    "\n",
    "from tensorflow.keras.models import Model\n",
    "from tensorflow.python.keras.utils.vis_utils import plot_model\n",
    "from sklearn.cluster import KMeans\n",
    "\n",
    "from datasets import load_mnist, load_usps, load_mrec"
   ]
  },
  {
   "cell_type": "code",
   "execution_count": 4,
   "metadata": {},
   "outputs": [],
   "source": [
    "# load dataset\n",
    "Ndataset='mrec'\n",
    "Nclusters=16\n",
    "Nsave_dir='temp'\n",
    "Ngamma=0.1\n",
    "Ntol=0.001\n",
    "#num_batches = 100\n",
    "batch_size = 256\n",
    "learning_rate = 0.001\n",
    "nGamma=0.1\n",
    "NDevice=tf.test.gpu_device_name()\n",
    "NCPU='/cpu:0'\n",
    "NGPU=tf.test.gpu_device_name()"
   ]
  },
  {
   "cell_type": "code",
   "execution_count": 5,
   "metadata": {},
   "outputs": [
    {
     "name": "stdout",
     "output_type": "stream",
     "text": [
      "MM (26046, 258)\n",
      "MREC: (26045, 8, 32, 1)\n"
     ]
    }
   ],
   "source": [
    "xData, YY = load_mrec(\"mrec20190724fftimg.csv\")\n",
    "#with tf.device(NDevice):\n",
    "with tf.device('/cpu:0'):\n",
    "    \n",
    "    tdataset = tf.data.Dataset.from_tensor_slices((xData))\n",
    "dataset = tdataset.batch(batch_size).shuffle(buffer_size=100000)"
   ]
  },
  {
   "cell_type": "code",
   "execution_count": 6,
   "metadata": {},
   "outputs": [],
   "source": [
    "class Encoder(tf.keras.Model):\n",
    "    def __init__(self,     input_shape=(8, 32, 1), filters=[32, 64, 128],aclusters=16):\n",
    "        super(Encoder, self).__init__()\n",
    "        #self.w='name'\n",
    "        #self.ishape=input_shape\n",
    "        self.filters=filters\n",
    "        #self.pad3\n",
    "        # model = Sequential()\n",
    "        if input_shape[0] % 8 == 0:\n",
    "            pad3 = 'same'\n",
    "        else:\n",
    "            pad3 = 'valid'\n",
    "            \n",
    "        self.conv0= Conv2D(self.filters[0], 5, strides=(1,2), padding='same', activation='relu', name='conv0', input_shape=input_shape)\n",
    "        self.conv1= Conv2D(self.filters[1], 5, strides=(2,4), padding='same', activation='relu', name='conv1')\n",
    "        self.conv2= Conv2D(self.filters[2], 3, strides=2, padding=pad3, activation='relu', name='conv2')\n",
    "        self.flat= Flatten()\n",
    "        self.emb=Dense(units=aclusters, name='embedding')\n",
    "         \n",
    "               \n",
    "    def call(self, x, training=True):\n",
    "        #print('e0',x.shape)\n",
    "        x = self.conv0(x)\n",
    "        #print('e1',x.shape)\n",
    "        x = self.conv1(x)\n",
    "        x = self.conv2(x)\n",
    "        #print('e3',x.shape)\n",
    "        x = self.flat(x)\n",
    "        return self.emb(x)\n",
    "    \n",
    "         \n",
    "   "
   ]
  },
  {
   "cell_type": "code",
   "execution_count": 7,
   "metadata": {},
   "outputs": [],
   "source": [
    "class Decoder(tf.keras.Model):\n",
    "     def __init__(self,     output_shape=(8,32,1), filters=[32, 64, 128],aclusters=16):\n",
    "        super(Decoder, self).__init__()\n",
    "        if output_shape[0] % 8 == 0:\n",
    "            pad3 = 'same'\n",
    "        else:\n",
    "            pad3 = 'valid'\n",
    "        #self.ishape=input_shape\n",
    "        self.filters=filters\n",
    "      \n",
    "        self.dense1=Dense(units=self.filters[2]*int(output_shape[0]/2)*int(output_shape[0]/8),input_shape=(aclusters,), activation='relu')\n",
    "\n",
    "        self.resh1=Reshape((int(output_shape[0]/4), int(output_shape[1]/16), filters[2]))\n",
    "        self.deconv2=Conv2DTranspose(self.filters[1], 3, strides=2, padding=pad3, activation='relu', name='deconv2')\n",
    "\n",
    "        self.deconv1=Conv2DTranspose(self.filters[0], 3, strides=(2,4), padding='same', activation='relu', name='deconv1')\n",
    "        self.deconv0=Conv2DTranspose(output_shape[2], 5, strides=(1,2), padding='same', name='deconv0')\n",
    "    \n",
    "     def call(self, x, training=True):\n",
    "        #print('d0',x.shape)\n",
    "        x = self.dense1(x)\n",
    "        #print('d1',x.shape)\n",
    "         \n",
    "        x = self.resh1(x)\n",
    "     \n",
    "        x = self.deconv2(x)\n",
    "        x = self.deconv1(x)\n",
    "        x = self.deconv0(x)       \n",
    "        return x "
   ]
  },
  {
   "cell_type": "code",
   "execution_count": 8,
   "metadata": {},
   "outputs": [],
   "source": [
    "class ClusteringLayer(Layer):\n",
    "    \"\"\"\n",
    "    Clustering layer converts input sample (feature) to soft label, i.e. a vector that represents the probability of the\n",
    "    sample belonging to each cluster. The probability is calculated with student's t-distribution.\n",
    "\n",
    "    # Example\n",
    "    ```\n",
    "        model.add(ClusteringLayer(n_clusters=10))\n",
    "    ```\n",
    "    # Arguments\n",
    "        n_clusters: number of clusters.\n",
    "        weights: list of Numpy array with shape `(n_clusters, n_features)` witch represents the initial cluster centers.\n",
    "        alpha: parameter in Student's t-distribution. Default to 1.0.\n",
    "    # Input shape\n",
    "        2D tensor with shape: `(n_samples, n_features)`.\n",
    "    # Output shape\n",
    "        2D tensor with shape: `(n_samples, n_clusters)`.\n",
    "    \"\"\"\n",
    "\n",
    "    def __init__(self, n_clusters,n_dim, weights=None, alpha=1.0, **kwargs):\n",
    "        if 'input_shape' not in kwargs and 'input_dim' in kwargs:\n",
    "            kwargs['input_shape'] = (kwargs.pop('input_dim'),)\n",
    "        super(ClusteringLayer, self).__init__(**kwargs)\n",
    "        self.n_clusters = n_clusters\n",
    "        self.n_dim=n_dim\n",
    "        self.alpha = alpha\n",
    "        self.initial_weights = weights\n",
    "        #self.input_spec = InputSpec(ndim=2)\n",
    "        self.input_spec = InputSpec(dtype=K.floatx(), shape=(None, n_dim))\n",
    "        self.clusters = self.add_weight('clusters',(self.n_clusters, self.n_dim),trainable=True, initializer='glorot_uniform')\n",
    " \n",
    "      \n",
    "        print('initLC')\n",
    "\n",
    " \n",
    "\n",
    "    def build(self, input_shape):\n",
    "        print('buildlc', input_shape)\n",
    "        assert len(input_shape) == 2\n",
    "        print('addw:',self.n_clusters)\n",
    "        #self.clusters = self.add_weight('clusters',(self.n_clusters, self.n_dim),trainable=True, initializer='glorot_uniform')\n",
    "        #input_dim = input_shape[1]\n",
    "        #self.input_spec = InputSpec(dtype=K.floatx(), shape=(None, input_dim))\n",
    "        if self.initial_weights is not None:\n",
    "            self.set_weights(self.initial_weights)\n",
    "            del self.initial_weights\n",
    "        self.built = True\n",
    "        super(ClusteringLayer, self).build(input_shape)\n",
    "\n",
    "    def call(self, inputs, **kwargs):\n",
    "        \"\"\" student t-distribution, as same as used in t-SNE algorithm.\n",
    "                 q_ij = 1/(1+dist(x_i, u_j)^2), then normalize it.\n",
    "        Arguments:\n",
    "            inputs: the variable containing data, shape=(n_samples, n_features)\n",
    "        Return:\n",
    "            q: student's t-distribution, or soft labels for each sample. shape=(n_samples, n_clusters)\n",
    "        \"\"\"\n",
    "        q = 1.0 / (1.0 + (K.sum(K.square(K.expand_dims(inputs, axis=1) - self.clusters), axis=2) / self.alpha))\n",
    "        q **= (self.alpha + 1.0) / 2.0\n",
    "        q = K.transpose(K.transpose(q) / K.sum(q, axis=1))\n",
    "        return q\n",
    "\n",
    "    def compute_output_shape(self, input_shape):\n",
    "        assert input_shape and len(input_shape) == 2\n",
    "        return input_shape[0], self.n_clusters\n",
    "\n",
    "    def get_config(self):\n",
    "        config = {'n_clusters': self.n_clusters}\n",
    "        base_config = super(ClusteringLayer, self).get_config()\n",
    "        return dict(list(base_config.items()) + list(config.items()))"
   ]
  },
  {
   "cell_type": "code",
   "execution_count": 9,
   "metadata": {},
   "outputs": [],
   "source": [
    "class ClusteringModel(tf.keras.Model):\n",
    "   \n",
    "    def __init__(self,     aClusters=16,aDim=16):\n",
    "        super(ClusteringModel, self).__init__()\n",
    "        #self.w='name'\n",
    "        self.emb=ClusteringLayer(n_clusters=aClusters,n_dim=aDim, name='clustering')\n",
    "         \n",
    "               \n",
    "    def call(self, x, training=True):\n",
    "        \n",
    "        return self.emb(x)\n",
    "    \n",
    "    def setWeights(self,aWeights):\n",
    "        self.emb.set_weights(aWeights)\n",
    " "
   ]
  },
  {
   "cell_type": "code",
   "execution_count": 10,
   "metadata": {},
   "outputs": [],
   "source": [
    "optimizer = tf.optimizers.Adam(learning_rate=learning_rate)\n",
    "#checkpoint = tf.train.Checkpoint(myModel=model,optimizer=optimizer)\n",
    "g_encoder = Encoder(aclusters=Nclusters)\n",
    "g_decoder = Decoder(aclusters=Nclusters)\n",
    "         "
   ]
  },
  {
   "cell_type": "code",
   "execution_count": 11,
   "metadata": {},
   "outputs": [],
   "source": [
    "def loss_mse( inputs, targets):\n",
    "    #error = inputs - targets\n",
    "    #sq=tf.square(error)\n",
    "    sq=tf.keras.losses.MSE(inputs,targets)\n",
    "\n",
    "    #return tf.compute_average_loss(   sq,        global_batch_size=GLOBAL_BATCH_SIZE)\n",
    "    return tf.reduce_mean(sq)\n",
    "def loss_kld(inputs,pred):\n",
    "    _nn=tf.keras.losses.KLD( inputs,pred)\n",
    "    return tf.reduce_mean(_nn)"
   ]
  },
  {
   "cell_type": "code",
   "execution_count": 12,
   "metadata": {},
   "outputs": [],
   "source": [
    "def pre_train():\n",
    "    #start = time.time()\n",
    "    loss = 0\n",
    "    xoptimizer = tf.optimizers.Adam()\n",
    "    \n",
    "    for (batch, (x)) in enumerate(dataset.take(-1)):\n",
    "        #if batch % 10 == 0:\n",
    "        #print('mse',x.shape)\n",
    "                 \n",
    "        #     print('.',end='')\n",
    "        #    print('Batch {} loss{:.3f}'.format(batch,loss) )\n",
    "    \n",
    "        loss = 0\n",
    "        with tf.device(NGPU):    \n",
    "            with tf.GradientTape() as tape:\n",
    "                g_encoder.trainable = True\n",
    "                g_decoder.trainable = True\n",
    "                z = g_encoder(x, training=True)\n",
    "                x_hat = g_decoder(z, training=True)\n",
    "                loss = loss_mse(x, x_hat)\n",
    "            #print('mse',x.shape, loss.numpy())\n",
    "                  \n",
    "        #for  v in variables:\n",
    "        #    print (\"batch: \", v.name,'  ',v.shape)\n",
    "        #print('nam:',g_encoder.trainable_variables.shape)\n",
    "        #print('var:',variables)\n",
    "                variables = g_encoder.trainable_variables + g_decoder.trainable_variables\n",
    "                gradients = tape.gradient(loss, variables)\n",
    "        \n",
    "                xoptimizer.apply_gradients(zip(gradients, variables))\n",
    "        #xoptimizer.minimize(loss,variables)\n",
    "    return loss"
   ]
  },
  {
   "cell_type": "code",
   "execution_count": 13,
   "metadata": {},
   "outputs": [
    {
     "name": "stdout",
     "output_type": "stream",
     "text": [
      "Epoch 1  Loss 0.0064 time:3.244 s\n",
      "Epoch 2  Loss 0.0065 time:1.801 s\n",
      "Epoch 3  Loss 0.0064 time:1.804 s\n",
      "Epoch 4  Loss 0.0061 time:1.821 s\n",
      "Epoch 5  Loss 0.0062 time:1.805 s\n",
      "Epoch 6  Loss 0.0060 time:1.827 s\n",
      "Epoch 7  Loss 0.0060 time:1.810 s\n",
      "Epoch 8  Loss 0.0059 time:1.826 s\n"
     ]
    }
   ],
   "source": [
    "EPOCHS = 8\n",
    "\n",
    "for epoch in range(EPOCHS):\n",
    "    start = time.time()\n",
    "    ls=pre_train()\n",
    "    end = time.time()\n",
    "    xdiff= end - start\n",
    "    print('Epoch {}  Loss {:.4f} time:{:.3f} s'.format(epoch + 1,ls.numpy(),xdiff))\n",
    "    nn=g_encoder.predict(xData)\n",
    "    nnp=nn.argmax(1)\n",
    "    \n",
    "    #printMetrics('pre: ',nnp,ls)\n",
    "  "
   ]
  },
  {
   "cell_type": "code",
   "execution_count": 14,
   "metadata": {},
   "outputs": [
    {
     "name": "stdout",
     "output_type": "stream",
     "text": [
      "Initializing cluster centers with k-means.\n",
      "Epoch 8  Loss 0.0059 time:3.309 s\n",
      "<built-in method format of str object at 0x7f2e90091150> (26045, 8, 32, 1) 3.30891489982605\n",
      "pred: (26045,)\n",
      "(16, 16)\n"
     ]
    }
   ],
   "source": [
    "print('Initializing cluster centers with k-means.')\n",
    "kmeans = KMeans(n_clusters=Nclusters, n_init=20)\n",
    "start = time.time()\n",
    "with tf.device(tf.test.gpu_device_name()):  \n",
    "#with tf.device(\"/cpu:0\"):  \n",
    "\n",
    "    y_pr = kmeans.fit_predict(g_encoder.predict(xData))\n",
    "end = time.time()\n",
    "  \n",
    "xdiff= end - start\n",
    "print('Epoch {}  Loss {:.4f} time:{:.3f} s'.format(epoch + 1,ls.numpy(),xdiff))\n",
    "      \n",
    "print('data {} time {:.3f}s'.format,xData.shape,xdiff)\n",
    "print('pred:',y_pr.shape)\n",
    "print(kmeans.cluster_centers_.shape)"
   ]
  },
  {
   "cell_type": "code",
   "execution_count": 15,
   "metadata": {},
   "outputs": [
    {
     "name": "stdout",
     "output_type": "stream",
     "text": [
      "initLC\n"
     ]
    }
   ],
   "source": [
    "g_clustering=ClusteringModel(Nclusters,Nclusters)\n",
    "g_clustering.setWeights([kmeans.cluster_centers_])"
   ]
  },
  {
   "cell_type": "code",
   "execution_count": 16,
   "metadata": {},
   "outputs": [],
   "source": [
    "def target_distribution(q):\n",
    "    weight = q ** 2 / q.sum(0)\n",
    "    return (weight.T / weight.sum(1)).T\n"
   ]
  },
  {
   "cell_type": "code",
   "execution_count": 17,
   "metadata": {},
   "outputs": [],
   "source": [
    "def cluster_train():\n",
    "    nn2=g_encoder.predict(xData)\n",
    "    nn=g_clustering.predict(nn2)\n",
    "    #nnp=nn.argmax(1)\n",
    "    \n",
    "    p = target_distribution(nn)  # update the auxiliary target distribution p\n",
    "    with tf.device(NCPU):\n",
    "        ndataset = tf.data.Dataset.from_tensor_slices((xData, p)).batch(batch_size).shuffle(buffer_size=100000)\n",
    "    #printMetrics('Iter ',nnp,0.1)\n",
    "    #print('x',xData[0])\n",
    "    #print('q',nn[0])\n",
    "    #print('p',p.shape, p[0])\n",
    "    loss = 0\n",
    "    variables = g_encoder.variables + g_decoder.variables+ g_clustering.variables\n",
    "    #variables = g_encoder.variables + g_decoder.variables+ CLmodel.variables\n",
    "         \n",
    "    for (batch, (x, labels)) in enumerate(ndataset.take(-1)):\n",
    "        #if batch % 10 == 0:\n",
    "        #    nn=g_encoder.predict(xData)\n",
    "    \n",
    "            #p = target_distribution(nn)  # update the auxiliary target distribution p\n",
    "            #yn=CLmodel(nn)\n",
    "            #_nn=tf.keras.losses.KLD( p,yn)\n",
    "            #print('nn',_nn)\n",
    "        #     print('.',end='')\n",
    "        #    print('Batch {} loss{:.3f}'.format(batch,loss) )\n",
    "    \n",
    "        \n",
    "        #q, _ = self.model.predict(x, verbose=0)\n",
    "        #p = self.target_distribution(q)  # update the auxiliary target distribution p\n",
    "\n",
    "                # evaluate the clustering performance\n",
    "        #        self.y_pred = q.argmax(1)\n",
    "   \n",
    "        with tf.device(NGPU):    \n",
    "          with tf.GradientTape() as tape:\n",
    "            g_encoder.trainable = True\n",
    "            g_decoder.trainable = True\n",
    "            g_clustering.trainable =True\n",
    "            z = g_encoder(x, training=True)\n",
    "            #y_pred = tf.argmax(z,1)\n",
    "            x_hat = g_decoder(z, training=True)\n",
    "            #y_hat=CLmodel(z)\n",
    "            y_hat=g_clustering(z,training=True)\n",
    "            #print('yhat',y_hat.numpy(),y_pred.shape, labels.shape)\n",
    "            #id=batch * batch_size\n",
    "            #pll=p[id:(id + batch_size)]\n",
    "            lossmse = loss_mse(x, x_hat)\n",
    "            losskld = loss_kld(labels,y_hat)   \n",
    "            loss=lossmse+losskld*0.2\n",
    "        \n",
    "        if batch % 14 == 0:\n",
    "            print('lossmse',lossmse.numpy(),':kld',losskld.numpy())\n",
    "            #print('labe=',labels[0])\n",
    "            #print('yhat',y_hat[0])\n",
    "            #print('pll=',pll[0])\n",
    "            #print('kld=',tf.keras.losses.KLD( pll[0],y_hat[0]))\n",
    "            \n",
    "                #print(labels)\n",
    "      \n",
    "        gradients = tape.gradient(loss, variables)\n",
    "        \n",
    "        optimizer.apply_gradients(zip(gradients, variables))\n",
    "    \n",
    "    return loss\n",
    " "
   ]
  },
  {
   "cell_type": "code",
   "execution_count": 18,
   "metadata": {},
   "outputs": [
    {
     "name": "stdout",
     "output_type": "stream",
     "text": [
      "buildlc (None, 16)\n",
      "addw: 16\n"
     ]
    },
    {
     "name": "stderr",
     "output_type": "stream",
     "text": [
      "WARNING: Logging before flag parsing goes to stderr.\n",
      "W0728 19:41:44.528968 139840294803264 deprecation.py:323] From /usr/local/lib/python3.6/dist-packages/tensorflow/python/ops/math_grad.py:1220: add_dispatch_support.<locals>.wrapper (from tensorflow.python.ops.array_ops) is deprecated and will be removed in a future version.\n",
      "Instructions for updating:\n",
      "Use tf.where in 2.0, which has the same broadcast rule as np.where\n"
     ]
    },
    {
     "name": "stdout",
     "output_type": "stream",
     "text": [
      "lossmse 0.0034207576 :kld 0.052232742\n",
      "lossmse 0.003765401 :kld 0.062927775\n",
      "lossmse 0.00614064 :kld 0.11474947\n",
      "lossmse 0.005357423 :kld 0.12571695\n",
      "lossmse 0.0046794624 :kld 0.057894863\n",
      "lossmse 0.0030560517 :kld 0.04392152\n",
      "lossmse 0.006847238 :kld 0.12706207\n",
      "lossmse 0.0034744772 :kld 0.036079172\n",
      "Epoch 1  Loss 0.0101  time:5.21419095993042 sec\n",
      "lossmse 0.0059359176 :kld 0.13420793\n",
      "lossmse 0.00514281 :kld 0.056746647\n",
      "lossmse 0.0027332755 :kld 0.049040213\n",
      "lossmse 0.0041104327 :kld 0.04973236\n",
      "lossmse 0.0033071102 :kld 0.043434065\n",
      "lossmse 0.004117199 :kld 0.045212805\n",
      "lossmse 0.006161908 :kld 0.108065195\n",
      "lossmse 0.0031471387 :kld 0.039646037\n",
      "Epoch 2  Loss 0.0129  time:4.545493841171265 sec\n",
      "lossmse 0.005646078 :kld 0.1263506\n",
      "lossmse 0.0037368496 :kld 0.06816332\n",
      "lossmse 0.0028980444 :kld 0.047615655\n",
      "lossmse 0.0028999592 :kld 0.047989193\n",
      "lossmse 0.0027429345 :kld 0.043094043\n",
      "lossmse 0.0037682177 :kld 0.054457255\n",
      "lossmse 0.006429513 :kld 0.17559934\n",
      "lossmse 0.007156767 :kld 0.2132439\n",
      "Epoch 3  Loss 0.0298  time:4.176822662353516 sec\n",
      "lossmse 0.0069164596 :kld 0.116454445\n",
      "lossmse 0.0067206416 :kld 0.09019422\n",
      "lossmse 0.004261283 :kld 0.08869027\n",
      "lossmse 0.003656487 :kld 0.039725363\n",
      "lossmse 0.00393435 :kld 0.048464995\n",
      "lossmse 0.0038610236 :kld 0.092861615\n",
      "lossmse 0.002737308 :kld 0.036265418\n",
      "lossmse 0.0035166724 :kld 0.034468915\n",
      "Epoch 4  Loss 0.0095  time:4.1238274574279785 sec\n",
      "lossmse 0.005724887 :kld 0.21796668\n",
      "lossmse 0.003660563 :kld 0.08705019\n",
      "lossmse 0.0032013129 :kld 0.062832765\n",
      "lossmse 0.0027893647 :kld 0.07340971\n",
      "lossmse 0.00347214 :kld 0.096944876\n",
      "lossmse 0.0050806217 :kld 0.0625465\n",
      "lossmse 0.0033369604 :kld 0.096123144\n",
      "lossmse 0.0045792516 :kld 0.09515391\n",
      "Epoch 5  Loss 0.0215  time:3.9206249713897705 sec\n",
      "lossmse 0.0038436027 :kld 0.10519545\n",
      "lossmse 0.0032884334 :kld 0.103660926\n",
      "lossmse 0.0029087914 :kld 0.06371289\n",
      "lossmse 0.0031847358 :kld 0.09882125\n",
      "lossmse 0.003225969 :kld 0.06058437\n",
      "lossmse 0.003209862 :kld 0.088870086\n",
      "lossmse 0.0029911003 :kld 0.08990923\n",
      "lossmse 0.004399242 :kld 0.062378302\n",
      "Epoch 6  Loss 0.0130  time:3.974616289138794 sec\n",
      "lossmse 0.0028276118 :kld 0.061976466\n",
      "lossmse 0.0028252879 :kld 0.057787172\n",
      "lossmse 0.002684573 :kld 0.05968357\n",
      "lossmse 0.003166501 :kld 0.10444698\n",
      "lossmse 0.0056185937 :kld 0.11498744\n",
      "lossmse 0.003172305 :kld 0.05521232\n",
      "lossmse 0.0029147216 :kld 0.05574058\n",
      "lossmse 0.0034717466 :kld 0.16578068\n",
      "Epoch 7  Loss 0.0175  time:3.9725804328918457 sec\n",
      "lossmse 0.003519644 :kld 0.06975932\n",
      "lossmse 0.0039423974 :kld 0.102825284\n",
      "lossmse 0.0040943087 :kld 0.090678625\n",
      "lossmse 0.0049037565 :kld 0.07446216\n",
      "lossmse 0.0038494295 :kld 0.16413575\n",
      "lossmse 0.004417495 :kld 0.11152138\n",
      "lossmse 0.0038852636 :kld 0.12771288\n",
      "lossmse 0.0027290396 :kld 0.061291963\n",
      "Epoch 8  Loss 0.0138  time:3.7628676891326904 sec\n"
     ]
    }
   ],
   "source": [
    "EPOCHS = 8\n",
    "\n",
    "for epoch in range(EPOCHS):\n",
    "    start = time.time()\n",
    "    ls=cluster_train()\n",
    "    end = time.time()\n",
    "    xdiff= end - start\n",
    "    print('Epoch {}  Loss {:.4f}  time:{} sec'.format(epoch + 1,ls.numpy(),xdiff))\n",
    "             \n"
   ]
  },
  {
   "cell_type": "code",
   "execution_count": 19,
   "metadata": {},
   "outputs": [
    {
     "name": "stdout",
     "output_type": "stream",
     "text": [
      "[10 10 14 ... 11  7  7]\n",
      "[[0.4791655  0.6506191  0.66533524 0.6720642  0.69119924 0.70377326\n",
      "  0.75736564 0.6955516  0.63635725 0.720455   0.6463831  0.7202592\n",
      "  0.7367619  0.7974321  0.7227733  0.70757157 0.75367093 0.5826038\n",
      "  0.62074804 0.63052475 0.6647367  0.6124149  0.6693753  0.5649615\n",
      "  0.64578736 0.7008564  0.66768014 0.5572128  0.6735926  0.5859675\n",
      "  0.63357705 0.66040117]\n",
      " [0.92967695 0.7412658  0.6430992  0.6374515  0.6567088  0.70857966\n",
      "  0.7107904  0.72853214 0.6602382  0.73200107 0.5281317  0.59558177\n",
      "  0.59111345 0.8080831  0.7016718  0.6626541  0.74116737 0.5892058\n",
      "  0.5650489  0.6265568  0.62064177 0.57758105 0.62121576 0.6866966\n",
      "  0.6520051  0.6787063  0.77107555 0.70412236 0.34894556 0.68173856\n",
      "  0.6441513  0.63528043]\n",
      " [0.4959941  0.6425448  0.68709135 0.5965316  0.65354854 0.6624599\n",
      "  0.7424743  0.7343648  0.54636514 0.6437499  0.44544017 0.71893734\n",
      "  0.61141455 0.80243313 0.5075138  0.63820225 0.6538028  0.65876544\n",
      "  0.66658825 0.6364938  0.4755486  0.5940716  0.5476912  0.6809612\n",
      "  0.64613754 0.7034209  0.73831207 0.64773506 0.63915414 0.61398125\n",
      "  0.61079293 0.67274004]\n",
      " [0.93925637 0.65826577 0.6128988  0.5882124  0.6388083  0.6437883\n",
      "  0.7317291  0.7192168  0.6783758  0.6534736  0.65700233 0.6255925\n",
      "  0.5451935  0.72357446 0.6966121  0.5101585  0.64134634 0.5294482\n",
      "  0.6279844  0.658016   0.57697845 0.53190047 0.5701374  0.7251284\n",
      "  0.7780037  0.6834531  0.640879   0.50308853 0.5759584  0.6573464\n",
      "  0.57674104 0.5593936 ]\n",
      " [0.8717524  0.7193787  0.7298215  0.60612154 0.6791089  0.6229721\n",
      "  0.75990975 0.72944623 0.65687865 0.66588974 0.66668785 0.66246516\n",
      "  0.7239967  0.6885819  0.70991987 0.66744846 0.72441244 0.63725895\n",
      "  0.6115859  0.707698   0.63672864 0.66789687 0.71996355 0.6294704\n",
      "  0.6922911  0.7024301  0.6865234  0.6408562  0.50150365 0.5975472\n",
      "  0.43140608 0.62364715]\n",
      " [0.28177008 0.5718748  0.5959958  0.5978265  0.63586533 0.6768034\n",
      "  0.7647948  0.78089285 0.70041686 0.6188853  0.6262453  0.7058519\n",
      "  0.67676413 0.6739585  0.67518884 0.60049057 0.6889955  0.49680838\n",
      "  0.6024187  0.6845929  0.57079196 0.607184   0.56164604 0.65942156\n",
      "  0.676425   0.72437024 0.7086451  0.6402994  0.67351323 0.6443354\n",
      "  0.59722507 0.69303954]\n",
      " [0.33313748 0.48846316 0.5696005  0.62210417 0.5942594  0.66991955\n",
      "  0.74365085 0.72373426 0.69053257 0.633659   0.6569668  0.6162745\n",
      "  0.75805134 0.7337793  0.6849428  0.6185225  0.7057365  0.68853456\n",
      "  0.6132885  0.69464225 0.54812676 0.55692065 0.53902    0.5136628\n",
      "  0.669614   0.64673865 0.75718355 0.69279116 0.66470456 0.69349134\n",
      "  0.6717565  0.6121474 ]\n",
      " [0.82840437 0.6478943  0.6513682  0.6823333  0.6457221  0.7070757\n",
      "  0.7630631  0.7776921  0.8049666  0.68295914 0.75300634 0.722628\n",
      "  0.7813362  0.8573049  0.6361518  0.76682246 0.68965    0.79352784\n",
      "  0.6901305  0.72948706 0.65551883 0.73990196 0.69485074 0.6528193\n",
      "  0.66032064 0.69167566 0.7416628  0.6383617  0.7272783  0.6385202\n",
      "  0.7028426  0.62935543]]\n"
     ]
    }
   ],
   "source": [
    "zzt = g_encoder.predict(xData)\n",
    "yyt=g_clustering.predict(zzt)\n",
    "\n",
    "yyn=yyt.argmax(1)\n",
    "print(yyn)\n",
    "print(xData[1].reshape(8,32))"
   ]
  },
  {
   "cell_type": "code",
   "execution_count": 20,
   "metadata": {},
   "outputs": [
    {
     "name": "stdout",
     "output_type": "stream",
     "text": [
      "Examples:\n"
     ]
    },
    {
     "data": {
      "image/png": "[encoded data removed]",
      "text/plain": [
       "<Figure size 432x288 with 1 Axes>"
      ]
     },
     "metadata": {
      "needs_background": "light"
     },
     "output_type": "display_data"
    },
    {
     "name": "stdout",
     "output_type": "stream",
     "text": [
      "Class: 10 - Model's Output Class:\n"
     ]
    },
    {
     "data": {
      "image/png": "[encoded data removed]",
      "text/plain": [
       "<Figure size 432x288 with 1 Axes>"
      ]
     },
     "metadata": {
      "needs_background": "light"
     },
     "output_type": "display_data"
    },
    {
     "name": "stdout",
     "output_type": "stream",
     "text": [
      "Class: 10 - Model's Output Class:\n"
     ]
    },
    {
     "data": {
      "image/png": "[encoded data removed]",
      "text/plain": [
       "<Figure size 432x288 with 1 Axes>"
      ]
     },
     "metadata": {
      "needs_background": "light"
     },
     "output_type": "display_data"
    },
    {
     "name": "stdout",
     "output_type": "stream",
     "text": [
      "Class: 14 - Model's Output Class:\n"
     ]
    },
    {
     "data": {
      "image/png": "[encoded data removed]",
      "text/plain": [
       "<Figure size 432x288 with 1 Axes>"
      ]
     },
     "metadata": {
      "needs_background": "light"
     },
     "output_type": "display_data"
    },
    {
     "name": "stdout",
     "output_type": "stream",
     "text": [
      "Class: 10 - Model's Output Class:\n"
     ]
    },
    {
     "data": {
      "image/png": "[encoded data removed]",
      "text/plain": [
       "<Figure size 432x288 with 1 Axes>"
      ]
     },
     "metadata": {
      "needs_background": "light"
     },
     "output_type": "display_data"
    },
    {
     "name": "stdout",
     "output_type": "stream",
     "text": [
      "Class: 10 - Model's Output Class:\n"
     ]
    },
    {
     "data": {
      "image/png": "[encoded data removed]",
      "text/plain": [
       "<Figure size 432x288 with 1 Axes>"
      ]
     },
     "metadata": {
      "needs_background": "light"
     },
     "output_type": "display_data"
    },
    {
     "name": "stdout",
     "output_type": "stream",
     "text": [
      "Class: 10 - Model's Output Class:\n"
     ]
    },
    {
     "data": {
      "image/png": "[encoded data removed]",
      "text/plain": [
       "<Figure size 432x288 with 1 Axes>"
      ]
     },
     "metadata": {
      "needs_background": "light"
     },
     "output_type": "display_data"
    },
    {
     "name": "stdout",
     "output_type": "stream",
     "text": [
      "Class: 10 - Model's Output Class:\n"
     ]
    },
    {
     "data": {
      "image/png": "[encoded data removed]",
      "text/plain": [
       "<Figure size 432x288 with 1 Axes>"
      ]
     },
     "metadata": {
      "needs_background": "light"
     },
     "output_type": "display_data"
    },
    {
     "name": "stdout",
     "output_type": "stream",
     "text": [
      "Class: 10 - Model's Output Class:\n"
     ]
    },
    {
     "data": {
      "image/png": "[encoded data removed]",
      "text/plain": [
       "<Figure size 432x288 with 1 Axes>"
      ]
     },
     "metadata": {
      "needs_background": "light"
     },
     "output_type": "display_data"
    },
    {
     "name": "stdout",
     "output_type": "stream",
     "text": [
      "Class: 14 - Model's Output Class:\n"
     ]
    },
    {
     "data": {
      "image/png": "[encoded data removed]",
      "text/plain": [
       "<Figure size 432x288 with 1 Axes>"
      ]
     },
     "metadata": {
      "needs_background": "light"
     },
     "output_type": "display_data"
    },
    {
     "name": "stdout",
     "output_type": "stream",
     "text": [
      "Class: 10 - Model's Output Class:\n"
     ]
    },
    {
     "data": {
      "image/png": "[encoded data removed]",
      "text/plain": [
       "<Figure size 432x288 with 1 Axes>"
      ]
     },
     "metadata": {
      "needs_background": "light"
     },
     "output_type": "display_data"
    },
    {
     "name": "stdout",
     "output_type": "stream",
     "text": [
      "Class: 10 - Model's Output Class:\n"
     ]
    },
    {
     "data": {
      "image/png": "[encoded data removed]",
      "text/plain": [
       "<Figure size 432x288 with 1 Axes>"
      ]
     },
     "metadata": {
      "needs_background": "light"
     },
     "output_type": "display_data"
    },
    {
     "name": "stdout",
     "output_type": "stream",
     "text": [
      "Class: 14 - Model's Output Class:\n"
     ]
    },
    {
     "data": {
      "image/png": "[encoded data removed]",
      "text/plain": [
       "<Figure size 432x288 with 1 Axes>"
      ]
     },
     "metadata": {
      "needs_background": "light"
     },
     "output_type": "display_data"
    },
    {
     "name": "stdout",
     "output_type": "stream",
     "text": [
      "Class: 14 - Model's Output Class:\n"
     ]
    },
    {
     "data": {
      "image/png": "[encoded data removed]",
      "text/plain": [
       "<Figure size 432x288 with 1 Axes>"
      ]
     },
     "metadata": {
      "needs_background": "light"
     },
     "output_type": "display_data"
    },
    {
     "name": "stdout",
     "output_type": "stream",
     "text": [
      "Class: 10 - Model's Output Class:\n"
     ]
    },
    {
     "data": {
      "image/png": "[encoded data removed]",
      "text/plain": [
       "<Figure size 432x288 with 1 Axes>"
      ]
     },
     "metadata": {
      "needs_background": "light"
     },
     "output_type": "display_data"
    },
    {
     "name": "stdout",
     "output_type": "stream",
     "text": [
      "Class: 10 - Model's Output Class:\n"
     ]
    },
    {
     "data": {
      "image/png": "[encoded data removed]",
      "text/plain": [
       "<Figure size 432x288 with 1 Axes>"
      ]
     },
     "metadata": {
      "needs_background": "light"
     },
     "output_type": "display_data"
    },
    {
     "name": "stdout",
     "output_type": "stream",
     "text": [
      "Class: 14 - Model's Output Class:\n"
     ]
    },
    {
     "data": {
      "image/png": "[encoded data removed]",
      "text/plain": [
       "<Figure size 432x288 with 1 Axes>"
      ]
     },
     "metadata": {
      "needs_background": "light"
     },
     "output_type": "display_data"
    },
    {
     "name": "stdout",
     "output_type": "stream",
     "text": [
      "Class: 10 - Model's Output Class:\n"
     ]
    },
    {
     "data": {
      "image/png": "[encoded data removed]",
      "text/plain": [
       "<Figure size 432x288 with 1 Axes>"
      ]
     },
     "metadata": {
      "needs_background": "light"
     },
     "output_type": "display_data"
    },
    {
     "name": "stdout",
     "output_type": "stream",
     "text": [
      "Class: 14 - Model's Output Class:\n"
     ]
    },
    {
     "data": {
      "image/png": "[encoded data removed]",
      "text/plain": [
       "<Figure size 432x288 with 1 Axes>"
      ]
     },
     "metadata": {
      "needs_background": "light"
     },
     "output_type": "display_data"
    },
    {
     "name": "stdout",
     "output_type": "stream",
     "text": [
      "Class: 14 - Model's Output Class:\n"
     ]
    },
    {
     "data": {
      "image/png": "[encoded data removed]",
      "text/plain": [
       "<Figure size 432x288 with 1 Axes>"
      ]
     },
     "metadata": {
      "needs_background": "light"
     },
     "output_type": "display_data"
    },
    {
     "name": "stdout",
     "output_type": "stream",
     "text": [
      "Class: 14 - Model's Output Class:\n"
     ]
    }
   ],
   "source": [
    "import matplotlib.pyplot as plt\n",
    "#print('Loss:', loss)\n",
    "print('Examples:')\n",
    "for i in range(20):\n",
    "    plt.imshow(xData[i].reshape(8,32), cmap='gray')\n",
    "    plt.axis('off')\n",
    "    plt.show()\n",
    "    print('Class:', yyn[i], '- Model\\'s Output Class:')"
   ]
  },
  {
   "cell_type": "code",
   "execution_count": 21,
   "metadata": {},
   "outputs": [
    {
     "data": {
      "image/png": "[encoded data removed]",
      "text/plain": [
       "<Figure size 1080x216 with 1 Axes>"
      ]
     },
     "metadata": {
      "needs_background": "light"
     },
     "output_type": "display_data"
    }
   ],
   "source": [
    "plt.figure(figsize=(15,3))\n",
    "\n",
    "#fig, ax1 = plt.subplots()\n",
    "values, base = np.histogram(yyn)\n",
    "plt.plot(base[:-1], values, c='blue')\n",
    "\n",
    "#ax2 = ax1.twinx()\n",
    "#ax1.plot(test)\n",
    "\n",
    "#plt.plot(yyn,color=\"red\")\n",
    "plt.show()"
   ]
  },
  {
   "cell_type": "code",
   "execution_count": 22,
   "metadata": {},
   "outputs": [
    {
     "name": "stdout",
     "output_type": "stream",
     "text": [
      "(26045, 2)\n"
     ]
    },
    {
     "data": {
      "image/png": "[encoded data removed]",
      "text/plain": [
       "<Figure size 432x288 with 1 Axes>"
      ]
     },
     "metadata": {
      "needs_background": "light"
     },
     "output_type": "display_data"
    }
   ],
   "source": [
    "print(YY.shape)\n",
    "plt.plot(YY.iloc[:,1])\n",
    "plt.show()"
   ]
  },
  {
   "cell_type": "code",
   "execution_count": 23,
   "metadata": {},
   "outputs": [
    {
     "name": "stdout",
     "output_type": "stream",
     "text": [
      "yyn (26045, 1)\n",
      "YY (26045, 2)\n"
     ]
    }
   ],
   "source": [
    "yyno=yyn.reshape(-1,1)\n",
    "print('yyn',yyno.shape)\n",
    "print('YY',YY.shape)"
   ]
  },
  {
   "cell_type": "code",
   "execution_count": 24,
   "metadata": {},
   "outputs": [
    {
     "name": "stdout",
     "output_type": "stream",
     "text": [
      "(26045, 3)\n"
     ]
    }
   ],
   "source": [
    "YYO=np.concatenate((YY, yyno), axis=1)\n",
    "print(YYO.shape)"
   ]
  },
  {
   "cell_type": "code",
   "execution_count": 25,
   "metadata": {},
   "outputs": [],
   "source": [
    "np.savetxt(\"mrec.csv\", YYO, delimiter=\",\")"
   ]
  },
  {
   "cell_type": "code",
   "execution_count": 26,
   "metadata": {},
   "outputs": [
    {
     "data": {
      "text/plain": [
       "(26045, 16)"
      ]
     },
     "execution_count": 26,
     "metadata": {},
     "output_type": "execute_result"
    }
   ],
   "source": [
    "yyt.shape\n"
   ]
  },
  {
   "cell_type": "code",
   "execution_count": 27,
   "metadata": {},
   "outputs": [
    {
     "data": {
      "image/png": "[encoded data removed]",
      "text/plain": [
       "<Figure size 432x288 with 1 Axes>"
      ]
     },
     "metadata": {
      "needs_background": "light"
     },
     "output_type": "display_data"
    }
   ],
   "source": [
    "plt.imshow(yyt.transpose(), cmap='hot', interpolation='nearest',aspect='auto')\n",
    "#ax = sns.heatmap(yyt, linewidth=0.5)\n",
    "plt.show()"
   ]
  },
  {
   "cell_type": "code",
   "execution_count": null,
   "metadata": {},
   "outputs": [],
   "source": []
  }
 ],
 "metadata": {
  "kernelspec": {
   "display_name": "Python 3",
   "language": "python",
   "name": "python3"
  },
  "language_info": {
   "codemirror_mode": {
    "name": "ipython",
    "version": 3
   },
   "file_extension": ".py",
   "mimetype": "text/x-python",
   "name": "python",
   "nbconvert_exporter": "python",
   "pygments_lexer": "ipython3",
   "version": "3.6.8"
  }
 },
 "nbformat": 4,
 "nbformat_minor": 2
}
